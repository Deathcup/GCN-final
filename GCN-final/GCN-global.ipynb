{
 "cells": [
  {
   "cell_type": "code",
   "execution_count": 1,
   "metadata": {},
   "outputs": [],
   "source": [
    "import os\n",
    "os.environ[\"KMP_DUPLICATE_LIB_OK\"]=\"TRUE\""
   ]
  },
  {
   "cell_type": "code",
   "execution_count": 2,
   "metadata": {},
   "outputs": [
    {
     "name": "stderr",
     "output_type": "stream",
     "text": [
      "Using backend: pytorch\n"
     ]
    }
   ],
   "source": [
    "import torch as th\n",
    "import torch.nn as nn\n",
    "import dgl\n",
    "from dgl import function as fn\n",
    "import pandas as pd\n",
    "import numpy as np\n",
    "import networkx as nx\n",
    "import matplotlib.pyplot as plt\n",
    "%matplotlib inline\n",
    "from dgl import DGLGraph\n",
    "import torch.nn.functional as F\n",
    "from torch.autograd import Variable\n",
    "import time\n",
    "import seaborn\n",
    "from geopy.distance import geodesic"
   ]
  },
  {
   "cell_type": "markdown",
   "metadata": {},
   "source": [
    "## 实验准备"
   ]
  },
  {
   "cell_type": "code",
   "execution_count": 3,
   "metadata": {},
   "outputs": [],
   "source": [
    "class TAGConv(nn.Module):\n",
    "    def __init__(self,\n",
    "                 in_feats,    \n",
    "                 out_feats,   \n",
    "                 k=2,         \n",
    "                 bias=True,   \n",
    "                 activation=None): \n",
    "        super(TAGConv, self).__init__()   \n",
    "        self._in_feats = in_feats  \n",
    "        self._out_feats = out_feats \n",
    "        self._k = k\n",
    "        self._activation = activation\n",
    "        self.lin = nn.Linear(in_feats * (self._k + 1), out_feats, bias=bias) \n",
    "\n",
    "        self.reset_parameters() \n",
    "\n",
    "\n",
    "    def reset_parameters(self):      \n",
    "        \"\"\"Reinitialize learnable parameters.\"\"\"\n",
    "        gain = nn.init.calculate_gain('relu')     \n",
    "        nn.init.xavier_normal_(self.lin.weight, gain=gain)   \n",
    "\n",
    "        \n",
    "    def forward(self, graph, feat):    \n",
    "        graph = graph.local_var()           \n",
    "        \n",
    "        norm = th.pow(graph.in_degrees().float().clamp(min=1), -0.5) \n",
    "    \n",
    "        \n",
    "        shp = norm.shape + (1,) * (feat.dim() - 1)    \n",
    "        \n",
    "        norm = th.reshape(norm, shp).to(feat.device)  \n",
    "\n",
    "        #D-1/2 A D -1/2 X\n",
    "        fstack = [feat]      \n",
    "        for _ in range(self._k):\n",
    "\n",
    "            rst = fstack[-1] * norm    \n",
    "            \n",
    "            graph.ndata['h'] = rst     \n",
    "\n",
    "            graph.update_all(fn.copy_src(src='h', out='m'),   \n",
    "                             fn.sum(msg='m', out='h'))     \n",
    "           \n",
    "            \n",
    "            rst = graph.ndata['h']     \n",
    "            rst = rst * norm           \n",
    "            fstack.append(rst)         \n",
    "\n",
    "        rst = self.lin(th.cat(fstack, dim=-1))    \n",
    "\n",
    "        if self._activation is not None:\n",
    "            rst = self._activation(rst)             \n",
    "\n",
    "        return rst"
   ]
  },
  {
   "cell_type": "code",
   "execution_count": 4,
   "metadata": {},
   "outputs": [],
   "source": [
    "class GCN(nn.Module):\n",
    "   \n",
    "    def __init__(self,input_dim,hidden_size,num_classes):\n",
    "        super(GCN, self).__init__()\n",
    "        self.gcn1 = TAGConv(input_dim,hidden_size,k=1)\n",
    "        self.gcn2 = TAGConv(hidden_size, num_classes,k=1)\n",
    "        #self.linear = nn.Linear(hidden_size, num_classes)\n",
    "        #self.dropout = nn.Dropout(0.5)\n",
    "        \n",
    "    def forward(self, graph, feature):\n",
    "        h = F.relu(self.gcn1(graph, feature))    #隐藏层运算\n",
    "        h = self.gcn2(graph, h)           #全连接层运算\n",
    "        return h"
   ]
  },
  {
   "cell_type": "code",
   "execution_count": 5,
   "metadata": {},
   "outputs": [
    {
     "name": "stdout",
     "output_type": "stream",
     "text": [
      "269\n"
     ]
    },
    {
     "data": {
      "text/plain": [
       "array([[1, 0, 0, ..., 1, 0, 0],\n",
       "       [0, 1, 1, ..., 1, 0, 0],\n",
       "       [0, 1, 1, ..., 0, 0, 0],\n",
       "       ...,\n",
       "       [1, 1, 0, ..., 1, 1, 0],\n",
       "       [0, 0, 0, ..., 1, 1, 1],\n",
       "       [0, 0, 0, ..., 0, 1, 1]])"
      ]
     },
     "execution_count": 5,
     "metadata": {},
     "output_type": "execute_result"
    }
   ],
   "source": [
    "relation1 = np.loadtxt(fname=\"data_global/relation1.csv\", dtype=int, delimiter=\",\")\n",
    "city_or_area_num = len(relation1)\n",
    "print(city_or_area_num)\n",
    "relation1"
   ]
  },
  {
   "cell_type": "code",
   "execution_count": 6,
   "metadata": {},
   "outputs": [
    {
     "data": {
      "text/plain": [
       "array([[1, 1, 1, ..., 1, 1, 0],\n",
       "       [1, 1, 1, ..., 1, 1, 1],\n",
       "       [1, 1, 1, ..., 1, 1, 1],\n",
       "       ...,\n",
       "       [1, 1, 1, ..., 1, 1, 1],\n",
       "       [1, 1, 1, ..., 1, 1, 1],\n",
       "       [0, 1, 1, ..., 1, 1, 1]])"
      ]
     },
     "execution_count": 6,
     "metadata": {},
     "output_type": "execute_result"
    }
   ],
   "source": [
    "relation2 = np.loadtxt(fname=\"data_global/relation2.csv\", dtype=int, delimiter=\",\")\n",
    "relation2"
   ]
  },
  {
   "cell_type": "code",
   "execution_count": 7,
   "metadata": {},
   "outputs": [
    {
     "data": {
      "text/plain": [
       "array([[1, 1, 1, ..., 1, 1, 1],\n",
       "       [1, 1, 1, ..., 1, 1, 1],\n",
       "       [1, 1, 1, ..., 1, 1, 1],\n",
       "       ...,\n",
       "       [1, 1, 1, ..., 1, 1, 1],\n",
       "       [1, 1, 1, ..., 1, 1, 1],\n",
       "       [1, 1, 1, ..., 1, 1, 1]])"
      ]
     },
     "execution_count": 7,
     "metadata": {},
     "output_type": "execute_result"
    }
   ],
   "source": [
    "relation3 = np.loadtxt(fname=\"data_global/relation3.csv\", dtype=int, delimiter=\",\")\n",
    "relation3"
   ]
  },
  {
   "cell_type": "code",
   "execution_count": 8,
   "metadata": {},
   "outputs": [
    {
     "data": {
      "text/plain": [
       "array([[1, 1, 1, ..., 1, 1, 1],\n",
       "       [1, 1, 1, ..., 1, 1, 1],\n",
       "       [1, 1, 1, ..., 1, 1, 1],\n",
       "       ...,\n",
       "       [1, 1, 1, ..., 1, 1, 1],\n",
       "       [1, 1, 1, ..., 1, 1, 1],\n",
       "       [1, 1, 1, ..., 1, 1, 1]])"
      ]
     },
     "execution_count": 8,
     "metadata": {},
     "output_type": "execute_result"
    }
   ],
   "source": [
    "relation4 = np.loadtxt(fname=\"data_global/relation4.csv\", dtype=int, delimiter=\",\")\n",
    "relation4"
   ]
  },
  {
   "cell_type": "code",
   "execution_count": 9,
   "metadata": {},
   "outputs": [
    {
     "name": "stderr",
     "output_type": "stream",
     "text": [
      "E:\\1_software\\Anaconda3\\envs\\pytorch\\lib\\site-packages\\dgl\\base.py:45: DGLWarning: Recommend creating graphs by `dgl.graph(data)` instead of `dgl.DGLGraph(data)`.\n",
      "  return warnings.warn(message, category=category, stacklevel=1)\n",
      "E:\\1_software\\Anaconda3\\envs\\pytorch\\lib\\site-packages\\dgl\\base.py:45: DGLWarning: DGLGraph.add_edge is deprecated. Please use DGLGraph.add_edges\n",
      "  return warnings.warn(message, category=category, stacklevel=1)\n"
     ]
    },
    {
     "data": {
      "text/plain": [
       "Graph(num_nodes=269, num_edges=14259,\n",
       "      ndata_schemes={}\n",
       "      edata_schemes={})"
      ]
     },
     "execution_count": 9,
     "metadata": {},
     "output_type": "execute_result"
    }
   ],
   "source": [
    "GQC=dgl.DGLGraph()\n",
    "GQC.add_nodes(city_or_area_num) #327\n",
    "for i in range(city_or_area_num):\n",
    "    for j in range(city_or_area_num):\n",
    "        if relation1[i][j]==1:\n",
    "            GQC.add_edge(i, j)\n",
    "        else:\n",
    "            pass\n",
    "GQC"
   ]
  },
  {
   "cell_type": "code",
   "execution_count": 10,
   "metadata": {},
   "outputs": [
    {
     "data": {
      "text/plain": [
       "Graph(num_nodes=269, num_edges=28785,\n",
       "      ndata_schemes={}\n",
       "      edata_schemes={})"
      ]
     },
     "execution_count": 10,
     "metadata": {},
     "output_type": "execute_result"
    }
   ],
   "source": [
    "GLC = dgl.DGLGraph()\n",
    "GLC.add_nodes(city_or_area_num) #327\n",
    "for i in range(city_or_area_num):\n",
    "    for j in range(city_or_area_num):\n",
    "        if relation2[i][j]==1:\n",
    "            GLC.add_edge(i, j)\n",
    "        else:\n",
    "            pass\n",
    "GLC"
   ]
  },
  {
   "cell_type": "code",
   "execution_count": 11,
   "metadata": {},
   "outputs": [
    {
     "data": {
      "text/plain": [
       "Graph(num_nodes=269, num_edges=43311,\n",
       "      ndata_schemes={}\n",
       "      edata_schemes={})"
      ]
     },
     "execution_count": 11,
     "metadata": {},
     "output_type": "execute_result"
    }
   ],
   "source": [
    "GLF = dgl.DGLGraph()\n",
    "GLF.add_nodes(city_or_area_num) #327\n",
    "for i in range(city_or_area_num):\n",
    "    for j in range(city_or_area_num):\n",
    "        if relation3[i][j]==1:\n",
    "            GLF.add_edge(i, j)\n",
    "        else:\n",
    "            pass\n",
    "GLF"
   ]
  },
  {
   "cell_type": "code",
   "execution_count": 12,
   "metadata": {},
   "outputs": [
    {
     "data": {
      "text/plain": [
       "Graph(num_nodes=269, num_edges=57837,\n",
       "      ndata_schemes={}\n",
       "      edata_schemes={})"
      ]
     },
     "execution_count": 12,
     "metadata": {},
     "output_type": "execute_result"
    }
   ],
   "source": [
    "GQF = dgl.DGLGraph()\n",
    "GQF.add_nodes(city_or_area_num) #327\n",
    "for i in range(city_or_area_num):\n",
    "    for j in range(city_or_area_num):\n",
    "        if relation4[i][j]==1:\n",
    "            GQF.add_edge(i, j)\n",
    "        else:\n",
    "            pass\n",
    "GQF"
   ]
  },
  {
   "cell_type": "code",
   "execution_count": 79,
   "metadata": {},
   "outputs": [
    {
     "name": "stdout",
     "output_type": "stream",
     "text": [
      "484\n"
     ]
    },
    {
     "data": {
      "text/html": [
       "<div>\n",
       "<style scoped>\n",
       "    .dataframe tbody tr th:only-of-type {\n",
       "        vertical-align: middle;\n",
       "    }\n",
       "\n",
       "    .dataframe tbody tr th {\n",
       "        vertical-align: top;\n",
       "    }\n",
       "\n",
       "    .dataframe thead th {\n",
       "        text-align: right;\n",
       "    }\n",
       "</style>\n",
       "<table border=\"1\" class=\"dataframe\">\n",
       "  <thead>\n",
       "    <tr style=\"text-align: right;\">\n",
       "      <th></th>\n",
       "      <th>1/22/20</th>\n",
       "      <th>1/23/20</th>\n",
       "      <th>1/24/20</th>\n",
       "      <th>1/25/20</th>\n",
       "      <th>1/26/20</th>\n",
       "      <th>1/27/20</th>\n",
       "      <th>1/28/20</th>\n",
       "      <th>1/29/20</th>\n",
       "      <th>1/30/20</th>\n",
       "      <th>1/31/20</th>\n",
       "      <th>...</th>\n",
       "      <th>5/10/21</th>\n",
       "      <th>5/11/21</th>\n",
       "      <th>5/12/21</th>\n",
       "      <th>5/13/21</th>\n",
       "      <th>5/14/21</th>\n",
       "      <th>5/15/21</th>\n",
       "      <th>5/16/21</th>\n",
       "      <th>5/17/21</th>\n",
       "      <th>5/18/21</th>\n",
       "      <th>5/19/21</th>\n",
       "    </tr>\n",
       "  </thead>\n",
       "  <tbody>\n",
       "    <tr>\n",
       "      <th>0</th>\n",
       "      <td>0</td>\n",
       "      <td>0</td>\n",
       "      <td>0</td>\n",
       "      <td>0</td>\n",
       "      <td>0</td>\n",
       "      <td>0</td>\n",
       "      <td>0</td>\n",
       "      <td>0</td>\n",
       "      <td>0</td>\n",
       "      <td>0</td>\n",
       "      <td>...</td>\n",
       "      <td>62063</td>\n",
       "      <td>62403</td>\n",
       "      <td>62718</td>\n",
       "      <td>63045</td>\n",
       "      <td>63355</td>\n",
       "      <td>63412</td>\n",
       "      <td>63484</td>\n",
       "      <td>63598</td>\n",
       "      <td>63819</td>\n",
       "      <td>64122</td>\n",
       "    </tr>\n",
       "    <tr>\n",
       "      <th>1</th>\n",
       "      <td>0</td>\n",
       "      <td>0</td>\n",
       "      <td>0</td>\n",
       "      <td>0</td>\n",
       "      <td>0</td>\n",
       "      <td>0</td>\n",
       "      <td>0</td>\n",
       "      <td>0</td>\n",
       "      <td>0</td>\n",
       "      <td>0</td>\n",
       "      <td>...</td>\n",
       "      <td>131753</td>\n",
       "      <td>131803</td>\n",
       "      <td>131845</td>\n",
       "      <td>131890</td>\n",
       "      <td>131939</td>\n",
       "      <td>131978</td>\n",
       "      <td>132015</td>\n",
       "      <td>132032</td>\n",
       "      <td>132071</td>\n",
       "      <td>132095</td>\n",
       "    </tr>\n",
       "    <tr>\n",
       "      <th>2</th>\n",
       "      <td>0</td>\n",
       "      <td>0</td>\n",
       "      <td>0</td>\n",
       "      <td>0</td>\n",
       "      <td>0</td>\n",
       "      <td>0</td>\n",
       "      <td>0</td>\n",
       "      <td>0</td>\n",
       "      <td>0</td>\n",
       "      <td>0</td>\n",
       "      <td>...</td>\n",
       "      <td>124288</td>\n",
       "      <td>124483</td>\n",
       "      <td>124682</td>\n",
       "      <td>124889</td>\n",
       "      <td>125059</td>\n",
       "      <td>125194</td>\n",
       "      <td>125311</td>\n",
       "      <td>125485</td>\n",
       "      <td>125693</td>\n",
       "      <td>125896</td>\n",
       "    </tr>\n",
       "    <tr>\n",
       "      <th>3</th>\n",
       "      <td>0</td>\n",
       "      <td>0</td>\n",
       "      <td>0</td>\n",
       "      <td>0</td>\n",
       "      <td>0</td>\n",
       "      <td>0</td>\n",
       "      <td>0</td>\n",
       "      <td>0</td>\n",
       "      <td>0</td>\n",
       "      <td>0</td>\n",
       "      <td>...</td>\n",
       "      <td>13429</td>\n",
       "      <td>13447</td>\n",
       "      <td>13470</td>\n",
       "      <td>13470</td>\n",
       "      <td>13510</td>\n",
       "      <td>13510</td>\n",
       "      <td>13510</td>\n",
       "      <td>13555</td>\n",
       "      <td>13569</td>\n",
       "      <td>13569</td>\n",
       "    </tr>\n",
       "    <tr>\n",
       "      <th>4</th>\n",
       "      <td>0</td>\n",
       "      <td>0</td>\n",
       "      <td>0</td>\n",
       "      <td>0</td>\n",
       "      <td>0</td>\n",
       "      <td>0</td>\n",
       "      <td>0</td>\n",
       "      <td>0</td>\n",
       "      <td>0</td>\n",
       "      <td>0</td>\n",
       "      <td>...</td>\n",
       "      <td>28875</td>\n",
       "      <td>29146</td>\n",
       "      <td>29405</td>\n",
       "      <td>29695</td>\n",
       "      <td>30030</td>\n",
       "      <td>30354</td>\n",
       "      <td>30637</td>\n",
       "      <td>30787</td>\n",
       "      <td>31045</td>\n",
       "      <td>31438</td>\n",
       "    </tr>\n",
       "    <tr>\n",
       "      <th>...</th>\n",
       "      <td>...</td>\n",
       "      <td>...</td>\n",
       "      <td>...</td>\n",
       "      <td>...</td>\n",
       "      <td>...</td>\n",
       "      <td>...</td>\n",
       "      <td>...</td>\n",
       "      <td>...</td>\n",
       "      <td>...</td>\n",
       "      <td>...</td>\n",
       "      <td>...</td>\n",
       "      <td>...</td>\n",
       "      <td>...</td>\n",
       "      <td>...</td>\n",
       "      <td>...</td>\n",
       "      <td>...</td>\n",
       "      <td>...</td>\n",
       "      <td>...</td>\n",
       "      <td>...</td>\n",
       "      <td>...</td>\n",
       "      <td>...</td>\n",
       "    </tr>\n",
       "    <tr>\n",
       "      <th>270</th>\n",
       "      <td>0</td>\n",
       "      <td>2</td>\n",
       "      <td>2</td>\n",
       "      <td>2</td>\n",
       "      <td>2</td>\n",
       "      <td>2</td>\n",
       "      <td>2</td>\n",
       "      <td>2</td>\n",
       "      <td>2</td>\n",
       "      <td>2</td>\n",
       "      <td>...</td>\n",
       "      <td>3489</td>\n",
       "      <td>3571</td>\n",
       "      <td>3658</td>\n",
       "      <td>3740</td>\n",
       "      <td>3816</td>\n",
       "      <td>4112</td>\n",
       "      <td>4212</td>\n",
       "      <td>4359</td>\n",
       "      <td>4512</td>\n",
       "      <td>4720</td>\n",
       "    </tr>\n",
       "    <tr>\n",
       "      <th>271</th>\n",
       "      <td>0</td>\n",
       "      <td>0</td>\n",
       "      <td>0</td>\n",
       "      <td>0</td>\n",
       "      <td>0</td>\n",
       "      <td>0</td>\n",
       "      <td>0</td>\n",
       "      <td>0</td>\n",
       "      <td>0</td>\n",
       "      <td>0</td>\n",
       "      <td>...</td>\n",
       "      <td>302249</td>\n",
       "      <td>302777</td>\n",
       "      <td>303270</td>\n",
       "      <td>303270</td>\n",
       "      <td>303270</td>\n",
       "      <td>303658</td>\n",
       "      <td>303827</td>\n",
       "      <td>304074</td>\n",
       "      <td>304074</td>\n",
       "      <td>304532</td>\n",
       "    </tr>\n",
       "    <tr>\n",
       "      <th>272</th>\n",
       "      <td>0</td>\n",
       "      <td>0</td>\n",
       "      <td>0</td>\n",
       "      <td>0</td>\n",
       "      <td>0</td>\n",
       "      <td>0</td>\n",
       "      <td>0</td>\n",
       "      <td>0</td>\n",
       "      <td>0</td>\n",
       "      <td>0</td>\n",
       "      <td>...</td>\n",
       "      <td>6485</td>\n",
       "      <td>6492</td>\n",
       "      <td>6498</td>\n",
       "      <td>6507</td>\n",
       "      <td>6523</td>\n",
       "      <td>6538</td>\n",
       "      <td>6543</td>\n",
       "      <td>6568</td>\n",
       "      <td>6586</td>\n",
       "      <td>6593</td>\n",
       "    </tr>\n",
       "    <tr>\n",
       "      <th>273</th>\n",
       "      <td>0</td>\n",
       "      <td>0</td>\n",
       "      <td>0</td>\n",
       "      <td>0</td>\n",
       "      <td>0</td>\n",
       "      <td>0</td>\n",
       "      <td>0</td>\n",
       "      <td>0</td>\n",
       "      <td>0</td>\n",
       "      <td>0</td>\n",
       "      <td>...</td>\n",
       "      <td>92112</td>\n",
       "      <td>92152</td>\n",
       "      <td>92211</td>\n",
       "      <td>92262</td>\n",
       "      <td>92356</td>\n",
       "      <td>92409</td>\n",
       "      <td>92436</td>\n",
       "      <td>92460</td>\n",
       "      <td>92520</td>\n",
       "      <td>92630</td>\n",
       "    </tr>\n",
       "    <tr>\n",
       "      <th>274</th>\n",
       "      <td>0</td>\n",
       "      <td>0</td>\n",
       "      <td>0</td>\n",
       "      <td>0</td>\n",
       "      <td>0</td>\n",
       "      <td>0</td>\n",
       "      <td>0</td>\n",
       "      <td>0</td>\n",
       "      <td>0</td>\n",
       "      <td>0</td>\n",
       "      <td>...</td>\n",
       "      <td>38433</td>\n",
       "      <td>38448</td>\n",
       "      <td>38466</td>\n",
       "      <td>38491</td>\n",
       "      <td>38535</td>\n",
       "      <td>38554</td>\n",
       "      <td>38560</td>\n",
       "      <td>38572</td>\n",
       "      <td>38595</td>\n",
       "      <td>38612</td>\n",
       "    </tr>\n",
       "  </tbody>\n",
       "</table>\n",
       "<p>269 rows × 484 columns</p>\n",
       "</div>"
      ],
      "text/plain": [
       "     1/22/20  1/23/20  1/24/20  1/25/20  1/26/20  1/27/20  1/28/20  1/29/20  \\\n",
       "0          0        0        0        0        0        0        0        0   \n",
       "1          0        0        0        0        0        0        0        0   \n",
       "2          0        0        0        0        0        0        0        0   \n",
       "3          0        0        0        0        0        0        0        0   \n",
       "4          0        0        0        0        0        0        0        0   \n",
       "..       ...      ...      ...      ...      ...      ...      ...      ...   \n",
       "270        0        2        2        2        2        2        2        2   \n",
       "271        0        0        0        0        0        0        0        0   \n",
       "272        0        0        0        0        0        0        0        0   \n",
       "273        0        0        0        0        0        0        0        0   \n",
       "274        0        0        0        0        0        0        0        0   \n",
       "\n",
       "     1/30/20  1/31/20  ...  5/10/21  5/11/21  5/12/21  5/13/21  5/14/21  \\\n",
       "0          0        0  ...    62063    62403    62718    63045    63355   \n",
       "1          0        0  ...   131753   131803   131845   131890   131939   \n",
       "2          0        0  ...   124288   124483   124682   124889   125059   \n",
       "3          0        0  ...    13429    13447    13470    13470    13510   \n",
       "4          0        0  ...    28875    29146    29405    29695    30030   \n",
       "..       ...      ...  ...      ...      ...      ...      ...      ...   \n",
       "270        2        2  ...     3489     3571     3658     3740     3816   \n",
       "271        0        0  ...   302249   302777   303270   303270   303270   \n",
       "272        0        0  ...     6485     6492     6498     6507     6523   \n",
       "273        0        0  ...    92112    92152    92211    92262    92356   \n",
       "274        0        0  ...    38433    38448    38466    38491    38535   \n",
       "\n",
       "     5/15/21  5/16/21  5/17/21  5/18/21  5/19/21  \n",
       "0      63412    63484    63598    63819    64122  \n",
       "1     131978   132015   132032   132071   132095  \n",
       "2     125194   125311   125485   125693   125896  \n",
       "3      13510    13510    13555    13569    13569  \n",
       "4      30354    30637    30787    31045    31438  \n",
       "..       ...      ...      ...      ...      ...  \n",
       "270     4112     4212     4359     4512     4720  \n",
       "271   303658   303827   304074   304074   304532  \n",
       "272     6538     6543     6568     6586     6593  \n",
       "273    92409    92436    92460    92520    92630  \n",
       "274    38554    38560    38572    38595    38612  \n",
       "\n",
       "[269 rows x 484 columns]"
      ]
     },
     "execution_count": 79,
     "metadata": {},
     "output_type": "execute_result"
    }
   ],
   "source": [
    "df = pd.read_csv('data_global/confirmed.csv',index_col=[0])\n",
    "print(len(df.columns))\n",
    "df"
   ]
  },
  {
   "cell_type": "code",
   "execution_count": 14,
   "metadata": {},
   "outputs": [],
   "source": [
    "def gen_lab(dataset, start, end, experience, future):   \n",
    "    data = []\n",
    "    labels = []\n",
    "    data_list = []\n",
    "    labels_list = []\n",
    "\n",
    "    real_start = start + experience     \n",
    "\n",
    "    for i in range(real_start, end):    \n",
    "        data.append(dataset.iloc[:,i-experience:i])    \n",
    "        labels.append(dataset.iloc[:,i:i+future])    \n",
    "    #print(labels)\n",
    "    \n",
    "    for j in range(len(data)):\n",
    "        data_tensor = th.Tensor(np.array(data[j]))\n",
    "        data_list.append(data_tensor)\n",
    "    \n",
    "    for k in range(len(labels)):\n",
    "        labels_tensor = th.Tensor(np.array(labels[k]))\n",
    "        labels_list.append(labels_tensor)\n",
    "    \n",
    "    return th.stack(data_list), th.stack(labels_list)"
   ]
  },
  {
   "cell_type": "code",
   "execution_count": 15,
   "metadata": {
    "scrolled": false
   },
   "outputs": [],
   "source": [
    "df_n = (df-df.min())/(df.max()-df.min())\n",
    "#print(df_n.iloc[:,6:7].T)\n",
    "\n",
    "train_x,train_y = gen_lab(df_n,100,300,7,1)\n",
    "valid_x,valid_y = gen_lab(df_n,300,400,7,1)\n",
    "test_x,test_y = gen_lab(df_n,400,480,7,1)"
   ]
  },
  {
   "cell_type": "code",
   "execution_count": 16,
   "metadata": {},
   "outputs": [
    {
     "data": {
      "text/plain": [
       "(torch.Size([193, 269, 7]),\n",
       " torch.Size([193, 269, 1]),\n",
       " torch.Size([93, 269, 7]),\n",
       " torch.Size([73, 269, 7]))"
      ]
     },
     "execution_count": 16,
     "metadata": {},
     "output_type": "execute_result"
    }
   ],
   "source": [
    "train_x.shape,train_y.shape,valid_x.shape,test_x.shape"
   ]
  },
  {
   "cell_type": "code",
   "execution_count": 17,
   "metadata": {},
   "outputs": [],
   "source": [
    "def gcn_trainer(network,graph,input_data,label_data,training_times,\n",
    "                optimizer,criterion,loss_list,dur_list):\n",
    "\n",
    "    #loss_list = loss_list\n",
    "    #network = network\n",
    "\n",
    "    for epoch in range(training_times):\n",
    "        t0 = time.time()\n",
    "        network.train()\n",
    "        out = network(graph,input_data)          \n",
    "        \n",
    "        #criterion = criterion\n",
    "        loss = criterion(out,label_data)\n",
    "        \n",
    "        #optimizer = optimizer\n",
    "        optimizer.zero_grad()\n",
    "        loss.backward()\n",
    "        optimizer.step()\n",
    "\n",
    "        loss_list.append(loss)\n",
    "        dur_list.append(time.time() - t0)\n",
    "        \n",
    "        if (epoch+1) % 50 == 0:\n",
    "            #acc = evaluate(net, g, features, labels, test_mask)\n",
    "            print(\"Epoch {:04d} | MAE_Test_Loss {:.4f}\".format(epoch+1, loss.item())) "
   ]
  },
  {
   "cell_type": "code",
   "execution_count": 18,
   "metadata": {},
   "outputs": [
    {
     "name": "stdout",
     "output_type": "stream",
     "text": [
      "Batch1: Epoch 0050 | MAE_Test_Loss 0.0231\n",
      "Batch2: Epoch 0050 | MAE_Test_Loss 0.0021\n",
      "Batch3: Epoch 0050 | MAE_Test_Loss 0.0013\n",
      "Batch4: Epoch 0050 | MAE_Test_Loss 0.0010\n",
      "Batch5: Epoch 0050 | MAE_Test_Loss 0.0009\n",
      "Batch6: Epoch 0050 | MAE_Test_Loss 0.0008\n",
      "Batch7: Epoch 0050 | MAE_Test_Loss 0.0009\n",
      "Batch8: Epoch 0050 | MAE_Test_Loss 0.0007\n",
      "Batch9: Epoch 0050 | MAE_Test_Loss 0.0011\n",
      "Batch10: Epoch 0050 | MAE_Test_Loss 0.0008\n",
      "Batch11: Epoch 0050 | MAE_Test_Loss 0.0007\n",
      "Batch12: Epoch 0050 | MAE_Test_Loss 0.0009\n",
      "Batch13: Epoch 0050 | MAE_Test_Loss 0.0007\n",
      "Batch14: Epoch 0050 | MAE_Test_Loss 0.0006\n",
      "Batch15: Epoch 0050 | MAE_Test_Loss 0.0006\n",
      "Batch16: Epoch 0050 | MAE_Test_Loss 0.0006\n",
      "Batch17: Epoch 0050 | MAE_Test_Loss 0.0006\n",
      "Batch18: Epoch 0050 | MAE_Test_Loss 0.0006\n",
      "Batch19: Epoch 0050 | MAE_Test_Loss 0.0009\n",
      "Batch20: Epoch 0050 | MAE_Test_Loss 0.0004\n",
      "Batch21: Epoch 0050 | MAE_Test_Loss 0.0005\n",
      "Batch22: Epoch 0050 | MAE_Test_Loss 0.0006\n",
      "Batch23: Epoch 0050 | MAE_Test_Loss 0.0005\n",
      "Batch24: Epoch 0050 | MAE_Test_Loss 0.0006\n",
      "Batch25: Epoch 0050 | MAE_Test_Loss 0.0006\n",
      "Batch26: Epoch 0050 | MAE_Test_Loss 0.0006\n",
      "Batch27: Epoch 0050 | MAE_Test_Loss 0.0006\n",
      "Batch28: Epoch 0050 | MAE_Test_Loss 0.0006\n",
      "Batch29: Epoch 0050 | MAE_Test_Loss 0.0006\n",
      "Batch30: Epoch 0050 | MAE_Test_Loss 0.0005\n",
      "Batch31: Epoch 0050 | MAE_Test_Loss 0.0008\n",
      "Batch32: Epoch 0050 | MAE_Test_Loss 0.0006\n",
      "Batch33: Epoch 0050 | MAE_Test_Loss 0.0007\n",
      "Batch34: Epoch 0050 | MAE_Test_Loss 0.0005\n",
      "Batch35: Epoch 0050 | MAE_Test_Loss 0.0005\n",
      "Batch36: Epoch 0050 | MAE_Test_Loss 0.0012\n",
      "Batch37: Epoch 0050 | MAE_Test_Loss 0.0009\n",
      "Batch38: Epoch 0050 | MAE_Test_Loss 0.0005\n",
      "Batch39: Epoch 0050 | MAE_Test_Loss 0.0006\n",
      "Batch40: Epoch 0050 | MAE_Test_Loss 0.0015\n",
      "Batch41: Epoch 0050 | MAE_Test_Loss 0.0004\n",
      "Batch42: Epoch 0050 | MAE_Test_Loss 0.0020\n",
      "Batch43: Epoch 0050 | MAE_Test_Loss 0.0009\n",
      "Batch44: Epoch 0050 | MAE_Test_Loss 0.0024\n",
      "Batch45: Epoch 0050 | MAE_Test_Loss 0.0007\n",
      "Batch46: Epoch 0050 | MAE_Test_Loss 0.0008\n",
      "Batch47: Epoch 0050 | MAE_Test_Loss 0.0010\n",
      "Batch48: Epoch 0050 | MAE_Test_Loss 0.0021\n",
      "Batch49: Epoch 0050 | MAE_Test_Loss 0.0006\n",
      "Batch50: Epoch 0050 | MAE_Test_Loss 0.0013\n",
      "Batch51: Epoch 0050 | MAE_Test_Loss 0.0031\n",
      "Batch52: Epoch 0050 | MAE_Test_Loss 0.0008\n",
      "Batch53: Epoch 0050 | MAE_Test_Loss 0.0006\n",
      "Batch54: Epoch 0050 | MAE_Test_Loss 0.0013\n",
      "Batch55: Epoch 0050 | MAE_Test_Loss 0.0004\n",
      "Batch56: Epoch 0050 | MAE_Test_Loss 0.0015\n",
      "Batch57: Epoch 0050 | MAE_Test_Loss 0.0023\n",
      "Batch58: Epoch 0050 | MAE_Test_Loss 0.0005\n",
      "Batch59: Epoch 0050 | MAE_Test_Loss 0.0007\n",
      "Batch60: Epoch 0050 | MAE_Test_Loss 0.0022\n",
      "Batch61: Epoch 0050 | MAE_Test_Loss 0.0023\n",
      "Batch62: Epoch 0050 | MAE_Test_Loss 0.0004\n",
      "Batch63: Epoch 0050 | MAE_Test_Loss 0.0005\n",
      "Batch64: Epoch 0050 | MAE_Test_Loss 0.0010\n",
      "Batch65: Epoch 0050 | MAE_Test_Loss 0.0006\n",
      "Batch66: Epoch 0050 | MAE_Test_Loss 0.0016\n",
      "Batch67: Epoch 0050 | MAE_Test_Loss 0.0006\n",
      "Batch68: Epoch 0050 | MAE_Test_Loss 0.0025\n",
      "Batch69: Epoch 0050 | MAE_Test_Loss 0.0004\n",
      "Batch70: Epoch 0050 | MAE_Test_Loss 0.0019\n",
      "Batch71: Epoch 0050 | MAE_Test_Loss 0.0006\n",
      "Batch72: Epoch 0050 | MAE_Test_Loss 0.0023\n",
      "Batch73: Epoch 0050 | MAE_Test_Loss 0.0008\n",
      "Batch74: Epoch 0050 | MAE_Test_Loss 0.0012\n",
      "Batch75: Epoch 0050 | MAE_Test_Loss 0.0009\n",
      "Batch76: Epoch 0050 | MAE_Test_Loss 0.0004\n",
      "Batch77: Epoch 0050 | MAE_Test_Loss 0.0021\n",
      "Batch78: Epoch 0050 | MAE_Test_Loss 0.0005\n",
      "Batch79: Epoch 0050 | MAE_Test_Loss 0.0011\n",
      "Batch80: Epoch 0050 | MAE_Test_Loss 0.0007\n",
      "Batch81: Epoch 0050 | MAE_Test_Loss 0.0005\n",
      "Batch82: Epoch 0050 | MAE_Test_Loss 0.0006\n",
      "Batch83: Epoch 0050 | MAE_Test_Loss 0.0004\n",
      "Batch84: Epoch 0050 | MAE_Test_Loss 0.0011\n",
      "Batch85: Epoch 0050 | MAE_Test_Loss 0.0006\n",
      "Batch86: Epoch 0050 | MAE_Test_Loss 0.0003\n",
      "Batch87: Epoch 0050 | MAE_Test_Loss 0.0008\n",
      "Batch88: Epoch 0050 | MAE_Test_Loss 0.0004\n",
      "Batch89: Epoch 0050 | MAE_Test_Loss 0.0007\n",
      "Batch90: Epoch 0050 | MAE_Test_Loss 0.0012\n",
      "Batch91: Epoch 0050 | MAE_Test_Loss 0.0022\n",
      "Batch92: Epoch 0050 | MAE_Test_Loss 0.0007\n",
      "Batch93: Epoch 0050 | MAE_Test_Loss 0.0004\n",
      "Batch94: Epoch 0050 | MAE_Test_Loss 0.0003\n",
      "Batch95: Epoch 0050 | MAE_Test_Loss 0.0007\n",
      "Batch96: Epoch 0050 | MAE_Test_Loss 0.0005\n",
      "Batch97: Epoch 0050 | MAE_Test_Loss 0.0004\n",
      "Batch98: Epoch 0050 | MAE_Test_Loss 0.0008\n",
      "Batch99: Epoch 0050 | MAE_Test_Loss 0.0004\n",
      "Batch100: Epoch 0050 | MAE_Test_Loss 0.0006\n",
      "Batch101: Epoch 0050 | MAE_Test_Loss 0.0005\n",
      "Batch102: Epoch 0050 | MAE_Test_Loss 0.0005\n",
      "Batch103: Epoch 0050 | MAE_Test_Loss 0.0021\n",
      "Batch104: Epoch 0050 | MAE_Test_Loss 0.0006\n",
      "Batch105: Epoch 0050 | MAE_Test_Loss 0.0015\n",
      "Batch106: Epoch 0050 | MAE_Test_Loss 0.0003\n",
      "Batch107: Epoch 0050 | MAE_Test_Loss 0.0011\n",
      "Batch108: Epoch 0050 | MAE_Test_Loss 0.0003\n",
      "Batch109: Epoch 0050 | MAE_Test_Loss 0.0009\n",
      "Batch110: Epoch 0050 | MAE_Test_Loss 0.0008\n",
      "Batch111: Epoch 0050 | MAE_Test_Loss 0.0019\n",
      "Batch112: Epoch 0050 | MAE_Test_Loss 0.0010\n",
      "Batch113: Epoch 0050 | MAE_Test_Loss 0.0003\n",
      "Batch114: Epoch 0050 | MAE_Test_Loss 0.0014\n",
      "Batch115: Epoch 0050 | MAE_Test_Loss 0.0010\n",
      "Batch116: Epoch 0050 | MAE_Test_Loss 0.0012\n",
      "Batch117: Epoch 0050 | MAE_Test_Loss 0.0012\n",
      "Batch118: Epoch 0050 | MAE_Test_Loss 0.0005\n",
      "Batch119: Epoch 0050 | MAE_Test_Loss 0.0023\n",
      "Batch120: Epoch 0050 | MAE_Test_Loss 0.0004\n",
      "Batch121: Epoch 0050 | MAE_Test_Loss 0.0017\n",
      "Batch122: Epoch 0050 | MAE_Test_Loss 0.0004\n",
      "Batch123: Epoch 0050 | MAE_Test_Loss 0.0011\n",
      "Batch124: Epoch 0050 | MAE_Test_Loss 0.0007\n",
      "Batch125: Epoch 0050 | MAE_Test_Loss 0.0021\n",
      "Batch126: Epoch 0050 | MAE_Test_Loss 0.0004\n",
      "Batch127: Epoch 0050 | MAE_Test_Loss 0.0019\n",
      "Batch128: Epoch 0050 | MAE_Test_Loss 0.0006\n",
      "Batch129: Epoch 0050 | MAE_Test_Loss 0.0023\n",
      "Batch130: Epoch 0050 | MAE_Test_Loss 0.0013\n",
      "Batch131: Epoch 0050 | MAE_Test_Loss 0.0022\n",
      "Batch132: Epoch 0050 | MAE_Test_Loss 0.0024\n",
      "Batch133: Epoch 0050 | MAE_Test_Loss 0.0023\n",
      "Batch134: Epoch 0050 | MAE_Test_Loss 0.0003\n",
      "Batch135: Epoch 0050 | MAE_Test_Loss 0.0013\n",
      "Batch136: Epoch 0050 | MAE_Test_Loss 0.0021\n",
      "Batch137: Epoch 0050 | MAE_Test_Loss 0.0015\n",
      "Batch138: Epoch 0050 | MAE_Test_Loss 0.0015\n",
      "Batch139: Epoch 0050 | MAE_Test_Loss 0.0011\n",
      "Batch140: Epoch 0050 | MAE_Test_Loss 0.0007\n",
      "Batch141: Epoch 0050 | MAE_Test_Loss 0.0023\n",
      "Batch142: Epoch 0050 | MAE_Test_Loss 0.0010\n",
      "Batch143: Epoch 0050 | MAE_Test_Loss 0.0023\n",
      "Batch144: Epoch 0050 | MAE_Test_Loss 0.0008\n",
      "Batch145: Epoch 0050 | MAE_Test_Loss 0.0012\n",
      "Batch146: Epoch 0050 | MAE_Test_Loss 0.0023\n",
      "Batch147: Epoch 0050 | MAE_Test_Loss 0.0009\n",
      "Batch148: Epoch 0050 | MAE_Test_Loss 0.0002\n",
      "Batch149: Epoch 0050 | MAE_Test_Loss 0.0012\n",
      "Batch150: Epoch 0050 | MAE_Test_Loss 0.0023\n",
      "Batch151: Epoch 0050 | MAE_Test_Loss 0.0006\n",
      "Batch152: Epoch 0050 | MAE_Test_Loss 0.0021\n",
      "Batch153: Epoch 0050 | MAE_Test_Loss 0.0003\n",
      "Batch154: Epoch 0050 | MAE_Test_Loss 0.0020\n",
      "Batch155: Epoch 0050 | MAE_Test_Loss 0.0012\n",
      "Batch156: Epoch 0050 | MAE_Test_Loss 0.0010\n",
      "Batch157: Epoch 0050 | MAE_Test_Loss 0.0010\n",
      "Batch158: Epoch 0050 | MAE_Test_Loss 0.0022\n",
      "Batch159: Epoch 0050 | MAE_Test_Loss 0.0002\n",
      "Batch160: Epoch 0050 | MAE_Test_Loss 0.0024\n",
      "Batch161: Epoch 0050 | MAE_Test_Loss 0.0020\n",
      "Batch162: Epoch 0050 | MAE_Test_Loss 0.0011\n",
      "Batch163: Epoch 0050 | MAE_Test_Loss 0.0005\n",
      "Batch164: Epoch 0050 | MAE_Test_Loss 0.0004\n",
      "Batch165: Epoch 0050 | MAE_Test_Loss 0.0006\n",
      "Batch166: Epoch 0050 | MAE_Test_Loss 0.0017\n",
      "Batch167: Epoch 0050 | MAE_Test_Loss 0.0013\n",
      "Batch168: Epoch 0050 | MAE_Test_Loss 0.0004\n",
      "Batch169: Epoch 0050 | MAE_Test_Loss 0.0003\n",
      "Batch170: Epoch 0050 | MAE_Test_Loss 0.0011\n",
      "Batch171: Epoch 0050 | MAE_Test_Loss 0.0004\n",
      "Batch172: Epoch 0050 | MAE_Test_Loss 0.0003\n",
      "Batch173: Epoch 0050 | MAE_Test_Loss 0.0002\n",
      "Batch174: Epoch 0050 | MAE_Test_Loss 0.0015\n",
      "Batch175: Epoch 0050 | MAE_Test_Loss 0.0003\n",
      "Batch176: Epoch 0050 | MAE_Test_Loss 0.0007\n",
      "Batch177: Epoch 0050 | MAE_Test_Loss 0.0009\n",
      "Batch178: Epoch 0050 | MAE_Test_Loss 0.0003\n",
      "Batch179: Epoch 0050 | MAE_Test_Loss 0.0021\n",
      "Batch180: Epoch 0050 | MAE_Test_Loss 0.0004\n",
      "Batch181: Epoch 0050 | MAE_Test_Loss 0.0009\n",
      "Batch182: Epoch 0050 | MAE_Test_Loss 0.0007\n",
      "Batch183: Epoch 0050 | MAE_Test_Loss 0.0007\n",
      "Batch184: Epoch 0050 | MAE_Test_Loss 0.0021\n",
      "Batch185: Epoch 0050 | MAE_Test_Loss 0.0005\n",
      "Batch186: Epoch 0050 | MAE_Test_Loss 0.0013\n",
      "Batch187: Epoch 0050 | MAE_Test_Loss 0.0010\n",
      "Batch188: Epoch 0050 | MAE_Test_Loss 0.0006\n",
      "Batch189: Epoch 0050 | MAE_Test_Loss 0.0006\n",
      "Batch190: Epoch 0050 | MAE_Test_Loss 0.0005\n"
     ]
    },
    {
     "name": "stdout",
     "output_type": "stream",
     "text": [
      "Batch191: Epoch 0050 | MAE_Test_Loss 0.0005\n",
      "Batch192: Epoch 0050 | MAE_Test_Loss 0.0004\n",
      "Batch193: Epoch 0050 | MAE_Test_Loss 0.0005\n"
     ]
    }
   ],
   "source": [
    "QCGCN=GCN(7,14,1);QCGCN_Loss_list=[];QCGCN_Loss_list.clear();QCGCN_MAE_Dur_list=[]\n",
    "for i in range(len(train_x)):\n",
    "    print('Batch{:d}: '.format(i+1),end='')\n",
    "    gcn_trainer(QCGCN,GQC,train_x[i],train_y[i],50,th.optim.Adam(QCGCN.parameters(), lr=1e-3),nn.L1Loss(),QCGCN_Loss_list,QCGCN_MAE_Dur_list)"
   ]
  },
  {
   "cell_type": "code",
   "execution_count": 19,
   "metadata": {},
   "outputs": [
    {
     "name": "stdout",
     "output_type": "stream",
     "text": [
      "Batch1: Epoch 0050 | MAE_Test_Loss 0.0151\n",
      "Batch2: Epoch 0050 | MAE_Test_Loss 0.0065\n",
      "Batch3: Epoch 0050 | MAE_Test_Loss 0.0039\n",
      "Batch4: Epoch 0050 | MAE_Test_Loss 0.0029\n",
      "Batch5: Epoch 0050 | MAE_Test_Loss 0.0021\n",
      "Batch6: Epoch 0050 | MAE_Test_Loss 0.0014\n",
      "Batch7: Epoch 0050 | MAE_Test_Loss 0.0012\n",
      "Batch8: Epoch 0050 | MAE_Test_Loss 0.0011\n",
      "Batch9: Epoch 0050 | MAE_Test_Loss 0.0010\n",
      "Batch10: Epoch 0050 | MAE_Test_Loss 0.0009\n",
      "Batch11: Epoch 0050 | MAE_Test_Loss 0.0008\n",
      "Batch12: Epoch 0050 | MAE_Test_Loss 0.0007\n",
      "Batch13: Epoch 0050 | MAE_Test_Loss 0.0007\n",
      "Batch14: Epoch 0050 | MAE_Test_Loss 0.0006\n",
      "Batch15: Epoch 0050 | MAE_Test_Loss 0.0006\n",
      "Batch16: Epoch 0050 | MAE_Test_Loss 0.0006\n",
      "Batch17: Epoch 0050 | MAE_Test_Loss 0.0005\n",
      "Batch18: Epoch 0050 | MAE_Test_Loss 0.0006\n",
      "Batch19: Epoch 0050 | MAE_Test_Loss 0.0004\n",
      "Batch20: Epoch 0050 | MAE_Test_Loss 0.0006\n",
      "Batch21: Epoch 0050 | MAE_Test_Loss 0.0004\n",
      "Batch22: Epoch 0050 | MAE_Test_Loss 0.0004\n",
      "Batch23: Epoch 0050 | MAE_Test_Loss 0.0008\n",
      "Batch24: Epoch 0050 | MAE_Test_Loss 0.0004\n",
      "Batch25: Epoch 0050 | MAE_Test_Loss 0.0007\n",
      "Batch26: Epoch 0050 | MAE_Test_Loss 0.0004\n",
      "Batch27: Epoch 0050 | MAE_Test_Loss 0.0005\n",
      "Batch28: Epoch 0050 | MAE_Test_Loss 0.0004\n",
      "Batch29: Epoch 0050 | MAE_Test_Loss 0.0005\n",
      "Batch30: Epoch 0050 | MAE_Test_Loss 0.0004\n",
      "Batch31: Epoch 0050 | MAE_Test_Loss 0.0004\n",
      "Batch32: Epoch 0050 | MAE_Test_Loss 0.0003\n",
      "Batch33: Epoch 0050 | MAE_Test_Loss 0.0003\n",
      "Batch34: Epoch 0050 | MAE_Test_Loss 0.0004\n",
      "Batch35: Epoch 0050 | MAE_Test_Loss 0.0004\n",
      "Batch36: Epoch 0050 | MAE_Test_Loss 0.0005\n",
      "Batch37: Epoch 0050 | MAE_Test_Loss 0.0004\n",
      "Batch38: Epoch 0050 | MAE_Test_Loss 0.0003\n",
      "Batch39: Epoch 0050 | MAE_Test_Loss 0.0006\n",
      "Batch40: Epoch 0050 | MAE_Test_Loss 0.0004\n",
      "Batch41: Epoch 0050 | MAE_Test_Loss 0.0004\n",
      "Batch42: Epoch 0050 | MAE_Test_Loss 0.0012\n",
      "Batch43: Epoch 0050 | MAE_Test_Loss 0.0005\n",
      "Batch44: Epoch 0050 | MAE_Test_Loss 0.0012\n",
      "Batch45: Epoch 0050 | MAE_Test_Loss 0.0006\n",
      "Batch46: Epoch 0050 | MAE_Test_Loss 0.0004\n",
      "Batch47: Epoch 0050 | MAE_Test_Loss 0.0003\n",
      "Batch48: Epoch 0050 | MAE_Test_Loss 0.0005\n",
      "Batch49: Epoch 0050 | MAE_Test_Loss 0.0005\n",
      "Batch50: Epoch 0050 | MAE_Test_Loss 0.0004\n",
      "Batch51: Epoch 0050 | MAE_Test_Loss 0.0004\n",
      "Batch52: Epoch 0050 | MAE_Test_Loss 0.0003\n",
      "Batch53: Epoch 0050 | MAE_Test_Loss 0.0002\n",
      "Batch54: Epoch 0050 | MAE_Test_Loss 0.0003\n",
      "Batch55: Epoch 0050 | MAE_Test_Loss 0.0005\n",
      "Batch56: Epoch 0050 | MAE_Test_Loss 0.0006\n",
      "Batch57: Epoch 0050 | MAE_Test_Loss 0.0003\n",
      "Batch58: Epoch 0050 | MAE_Test_Loss 0.0005\n",
      "Batch59: Epoch 0050 | MAE_Test_Loss 0.0003\n",
      "Batch60: Epoch 0050 | MAE_Test_Loss 0.0005\n",
      "Batch61: Epoch 0050 | MAE_Test_Loss 0.0011\n",
      "Batch62: Epoch 0050 | MAE_Test_Loss 0.0011\n",
      "Batch63: Epoch 0050 | MAE_Test_Loss 0.0003\n",
      "Batch64: Epoch 0050 | MAE_Test_Loss 0.0006\n",
      "Batch65: Epoch 0050 | MAE_Test_Loss 0.0010\n",
      "Batch66: Epoch 0050 | MAE_Test_Loss 0.0011\n",
      "Batch67: Epoch 0050 | MAE_Test_Loss 0.0004\n",
      "Batch68: Epoch 0050 | MAE_Test_Loss 0.0007\n",
      "Batch69: Epoch 0050 | MAE_Test_Loss 0.0011\n",
      "Batch70: Epoch 0050 | MAE_Test_Loss 0.0011\n",
      "Batch71: Epoch 0050 | MAE_Test_Loss 0.0010\n",
      "Batch72: Epoch 0050 | MAE_Test_Loss 0.0011\n",
      "Batch73: Epoch 0050 | MAE_Test_Loss 0.0003\n",
      "Batch74: Epoch 0050 | MAE_Test_Loss 0.0004\n",
      "Batch75: Epoch 0050 | MAE_Test_Loss 0.0011\n",
      "Batch76: Epoch 0050 | MAE_Test_Loss 0.0003\n",
      "Batch77: Epoch 0050 | MAE_Test_Loss 0.0010\n",
      "Batch78: Epoch 0050 | MAE_Test_Loss 0.0004\n",
      "Batch79: Epoch 0050 | MAE_Test_Loss 0.0004\n",
      "Batch80: Epoch 0050 | MAE_Test_Loss 0.0002\n",
      "Batch81: Epoch 0050 | MAE_Test_Loss 0.0004\n",
      "Batch82: Epoch 0050 | MAE_Test_Loss 0.0009\n",
      "Batch83: Epoch 0050 | MAE_Test_Loss 0.0004\n",
      "Batch84: Epoch 0050 | MAE_Test_Loss 0.0004\n",
      "Batch85: Epoch 0050 | MAE_Test_Loss 0.0005\n",
      "Batch86: Epoch 0050 | MAE_Test_Loss 0.0004\n",
      "Batch87: Epoch 0050 | MAE_Test_Loss 0.0010\n",
      "Batch88: Epoch 0050 | MAE_Test_Loss 0.0011\n",
      "Batch89: Epoch 0050 | MAE_Test_Loss 0.0011\n",
      "Batch90: Epoch 0050 | MAE_Test_Loss 0.0010\n",
      "Batch91: Epoch 0050 | MAE_Test_Loss 0.0003\n",
      "Batch92: Epoch 0050 | MAE_Test_Loss 0.0010\n",
      "Batch93: Epoch 0050 | MAE_Test_Loss 0.0011\n",
      "Batch94: Epoch 0050 | MAE_Test_Loss 0.0005\n",
      "Batch95: Epoch 0050 | MAE_Test_Loss 0.0003\n",
      "Batch96: Epoch 0050 | MAE_Test_Loss 0.0002\n",
      "Batch97: Epoch 0050 | MAE_Test_Loss 0.0002\n",
      "Batch98: Epoch 0050 | MAE_Test_Loss 0.0011\n",
      "Batch99: Epoch 0050 | MAE_Test_Loss 0.0004\n",
      "Batch100: Epoch 0050 | MAE_Test_Loss 0.0012\n",
      "Batch101: Epoch 0050 | MAE_Test_Loss 0.0009\n",
      "Batch102: Epoch 0050 | MAE_Test_Loss 0.0011\n",
      "Batch103: Epoch 0050 | MAE_Test_Loss 0.0010\n",
      "Batch104: Epoch 0050 | MAE_Test_Loss 0.0003\n",
      "Batch105: Epoch 0050 | MAE_Test_Loss 0.0002\n",
      "Batch106: Epoch 0050 | MAE_Test_Loss 0.0006\n",
      "Batch107: Epoch 0050 | MAE_Test_Loss 0.0002\n",
      "Batch108: Epoch 0050 | MAE_Test_Loss 0.0003\n",
      "Batch109: Epoch 0050 | MAE_Test_Loss 0.0004\n",
      "Batch110: Epoch 0050 | MAE_Test_Loss 0.0004\n",
      "Batch111: Epoch 0050 | MAE_Test_Loss 0.0005\n",
      "Batch112: Epoch 0050 | MAE_Test_Loss 0.0011\n",
      "Batch113: Epoch 0050 | MAE_Test_Loss 0.0003\n",
      "Batch114: Epoch 0050 | MAE_Test_Loss 0.0011\n",
      "Batch115: Epoch 0050 | MAE_Test_Loss 0.0005\n",
      "Batch116: Epoch 0050 | MAE_Test_Loss 0.0006\n",
      "Batch117: Epoch 0050 | MAE_Test_Loss 0.0006\n",
      "Batch118: Epoch 0050 | MAE_Test_Loss 0.0010\n",
      "Batch119: Epoch 0050 | MAE_Test_Loss 0.0001\n",
      "Batch120: Epoch 0050 | MAE_Test_Loss 0.0003\n",
      "Batch121: Epoch 0050 | MAE_Test_Loss 0.0004\n",
      "Batch122: Epoch 0050 | MAE_Test_Loss 0.0010\n",
      "Batch123: Epoch 0050 | MAE_Test_Loss 0.0005\n",
      "Batch124: Epoch 0050 | MAE_Test_Loss 0.0004\n",
      "Batch125: Epoch 0050 | MAE_Test_Loss 0.0005\n",
      "Batch126: Epoch 0050 | MAE_Test_Loss 0.0006\n",
      "Batch127: Epoch 0050 | MAE_Test_Loss 0.0006\n",
      "Batch128: Epoch 0050 | MAE_Test_Loss 0.0002\n",
      "Batch129: Epoch 0050 | MAE_Test_Loss 0.0002\n",
      "Batch130: Epoch 0050 | MAE_Test_Loss 0.0004\n",
      "Batch131: Epoch 0050 | MAE_Test_Loss 0.0010\n",
      "Batch132: Epoch 0050 | MAE_Test_Loss 0.0006\n",
      "Batch133: Epoch 0050 | MAE_Test_Loss 0.0001\n",
      "Batch134: Epoch 0050 | MAE_Test_Loss 0.0010\n",
      "Batch135: Epoch 0050 | MAE_Test_Loss 0.0004\n",
      "Batch136: Epoch 0050 | MAE_Test_Loss 0.0001\n",
      "Batch137: Epoch 0050 | MAE_Test_Loss 0.0001\n",
      "Batch138: Epoch 0050 | MAE_Test_Loss 0.0003\n",
      "Batch139: Epoch 0050 | MAE_Test_Loss 0.0002\n",
      "Batch140: Epoch 0050 | MAE_Test_Loss 0.0002\n",
      "Batch141: Epoch 0050 | MAE_Test_Loss 0.0002\n",
      "Batch142: Epoch 0050 | MAE_Test_Loss 0.0002\n",
      "Batch143: Epoch 0050 | MAE_Test_Loss 0.0004\n",
      "Batch144: Epoch 0050 | MAE_Test_Loss 0.0003\n",
      "Batch145: Epoch 0050 | MAE_Test_Loss 0.0010\n",
      "Batch146: Epoch 0050 | MAE_Test_Loss 0.0001\n",
      "Batch147: Epoch 0050 | MAE_Test_Loss 0.0001\n",
      "Batch148: Epoch 0050 | MAE_Test_Loss 0.0003\n",
      "Batch149: Epoch 0050 | MAE_Test_Loss 0.0010\n",
      "Batch150: Epoch 0050 | MAE_Test_Loss 0.0004\n",
      "Batch151: Epoch 0050 | MAE_Test_Loss 0.0009\n",
      "Batch152: Epoch 0050 | MAE_Test_Loss 0.0002\n",
      "Batch153: Epoch 0050 | MAE_Test_Loss 0.0010\n",
      "Batch154: Epoch 0050 | MAE_Test_Loss 0.0006\n",
      "Batch155: Epoch 0050 | MAE_Test_Loss 0.0004\n",
      "Batch156: Epoch 0050 | MAE_Test_Loss 0.0009\n",
      "Batch157: Epoch 0050 | MAE_Test_Loss 0.0010\n",
      "Batch158: Epoch 0050 | MAE_Test_Loss 0.0009\n",
      "Batch159: Epoch 0050 | MAE_Test_Loss 0.0009\n",
      "Batch160: Epoch 0050 | MAE_Test_Loss 0.0010\n",
      "Batch161: Epoch 0050 | MAE_Test_Loss 0.0003\n",
      "Batch162: Epoch 0050 | MAE_Test_Loss 0.0005\n",
      "Batch163: Epoch 0050 | MAE_Test_Loss 0.0002\n",
      "Batch164: Epoch 0050 | MAE_Test_Loss 0.0003\n",
      "Batch165: Epoch 0050 | MAE_Test_Loss 0.0004\n",
      "Batch166: Epoch 0050 | MAE_Test_Loss 0.0003\n",
      "Batch167: Epoch 0050 | MAE_Test_Loss 0.0002\n",
      "Batch168: Epoch 0050 | MAE_Test_Loss 0.0002\n",
      "Batch169: Epoch 0050 | MAE_Test_Loss 0.0005\n",
      "Batch170: Epoch 0050 | MAE_Test_Loss 0.0003\n",
      "Batch171: Epoch 0050 | MAE_Test_Loss 0.0002\n",
      "Batch172: Epoch 0050 | MAE_Test_Loss 0.0002\n",
      "Batch173: Epoch 0050 | MAE_Test_Loss 0.0002\n",
      "Batch174: Epoch 0050 | MAE_Test_Loss 0.0002\n",
      "Batch175: Epoch 0050 | MAE_Test_Loss 0.0003\n",
      "Batch176: Epoch 0050 | MAE_Test_Loss 0.0002\n",
      "Batch177: Epoch 0050 | MAE_Test_Loss 0.0003\n",
      "Batch178: Epoch 0050 | MAE_Test_Loss 0.0003\n",
      "Batch179: Epoch 0050 | MAE_Test_Loss 0.0003\n",
      "Batch180: Epoch 0050 | MAE_Test_Loss 0.0003\n",
      "Batch181: Epoch 0050 | MAE_Test_Loss 0.0003\n",
      "Batch182: Epoch 0050 | MAE_Test_Loss 0.0003\n",
      "Batch183: Epoch 0050 | MAE_Test_Loss 0.0003\n",
      "Batch184: Epoch 0050 | MAE_Test_Loss 0.0002\n",
      "Batch185: Epoch 0050 | MAE_Test_Loss 0.0003\n",
      "Batch186: Epoch 0050 | MAE_Test_Loss 0.0003\n",
      "Batch187: Epoch 0050 | MAE_Test_Loss 0.0002\n",
      "Batch188: Epoch 0050 | MAE_Test_Loss 0.0003\n",
      "Batch189: Epoch 0050 | MAE_Test_Loss 0.0002\n",
      "Batch190: Epoch 0050 | MAE_Test_Loss 0.0003\n",
      "Batch191: Epoch 0050 | MAE_Test_Loss 0.0002\n"
     ]
    },
    {
     "name": "stdout",
     "output_type": "stream",
     "text": [
      "Batch192: Epoch 0050 | MAE_Test_Loss 0.0002\n",
      "Batch193: Epoch 0050 | MAE_Test_Loss 0.0004\n"
     ]
    }
   ],
   "source": [
    "LCGCN=GCN(7,14,1);LCGCN_Loss_list=[];LCGCN_Loss_list.clear();LCGCN_MAE_Dur_list=[]\n",
    "for i in range(len(train_x)):\n",
    "    print('Batch{:d}: '.format(i+1),end='')\n",
    "    gcn_trainer(LCGCN,GLC,train_x[i],train_y[i],50,th.optim.Adam(LCGCN.parameters(), lr=1e-3),nn.L1Loss(),LCGCN_Loss_list,LCGCN_MAE_Dur_list)"
   ]
  },
  {
   "cell_type": "code",
   "execution_count": 20,
   "metadata": {},
   "outputs": [
    {
     "name": "stdout",
     "output_type": "stream",
     "text": [
      "Batch1: Epoch 0050 | MAE_Test_Loss 0.0094\n",
      "Batch2: Epoch 0050 | MAE_Test_Loss 0.0028\n",
      "Batch3: Epoch 0050 | MAE_Test_Loss 0.0020\n",
      "Batch4: Epoch 0050 | MAE_Test_Loss 0.0018\n",
      "Batch5: Epoch 0050 | MAE_Test_Loss 0.0017\n",
      "Batch6: Epoch 0050 | MAE_Test_Loss 0.0016\n",
      "Batch7: Epoch 0050 | MAE_Test_Loss 0.0015\n",
      "Batch8: Epoch 0050 | MAE_Test_Loss 0.0015\n",
      "Batch9: Epoch 0050 | MAE_Test_Loss 0.0015\n",
      "Batch10: Epoch 0050 | MAE_Test_Loss 0.0014\n",
      "Batch11: Epoch 0050 | MAE_Test_Loss 0.0013\n",
      "Batch12: Epoch 0050 | MAE_Test_Loss 0.0013\n",
      "Batch13: Epoch 0050 | MAE_Test_Loss 0.0012\n",
      "Batch14: Epoch 0050 | MAE_Test_Loss 0.0012\n",
      "Batch15: Epoch 0050 | MAE_Test_Loss 0.0012\n",
      "Batch16: Epoch 0050 | MAE_Test_Loss 0.0012\n",
      "Batch17: Epoch 0050 | MAE_Test_Loss 0.0011\n",
      "Batch18: Epoch 0050 | MAE_Test_Loss 0.0012\n",
      "Batch19: Epoch 0050 | MAE_Test_Loss 0.0011\n",
      "Batch20: Epoch 0050 | MAE_Test_Loss 0.0010\n",
      "Batch21: Epoch 0050 | MAE_Test_Loss 0.0011\n",
      "Batch22: Epoch 0050 | MAE_Test_Loss 0.0012\n",
      "Batch23: Epoch 0050 | MAE_Test_Loss 0.0011\n",
      "Batch24: Epoch 0050 | MAE_Test_Loss 0.0011\n",
      "Batch25: Epoch 0050 | MAE_Test_Loss 0.0012\n",
      "Batch26: Epoch 0050 | MAE_Test_Loss 0.0012\n",
      "Batch27: Epoch 0050 | MAE_Test_Loss 0.0012\n",
      "Batch28: Epoch 0050 | MAE_Test_Loss 0.0011\n",
      "Batch29: Epoch 0050 | MAE_Test_Loss 0.0011\n",
      "Batch30: Epoch 0050 | MAE_Test_Loss 0.0011\n",
      "Batch31: Epoch 0050 | MAE_Test_Loss 0.0011\n",
      "Batch32: Epoch 0050 | MAE_Test_Loss 0.0011\n",
      "Batch33: Epoch 0050 | MAE_Test_Loss 0.0011\n",
      "Batch34: Epoch 0050 | MAE_Test_Loss 0.0012\n",
      "Batch35: Epoch 0050 | MAE_Test_Loss 0.0010\n",
      "Batch36: Epoch 0050 | MAE_Test_Loss 0.0010\n",
      "Batch37: Epoch 0050 | MAE_Test_Loss 0.0012\n",
      "Batch38: Epoch 0050 | MAE_Test_Loss 0.0010\n",
      "Batch39: Epoch 0050 | MAE_Test_Loss 0.0011\n",
      "Batch40: Epoch 0050 | MAE_Test_Loss 0.0010\n",
      "Batch41: Epoch 0050 | MAE_Test_Loss 0.0009\n",
      "Batch42: Epoch 0050 | MAE_Test_Loss 0.0009\n",
      "Batch43: Epoch 0050 | MAE_Test_Loss 0.0011\n",
      "Batch44: Epoch 0050 | MAE_Test_Loss 0.0009\n",
      "Batch45: Epoch 0050 | MAE_Test_Loss 0.0010\n",
      "Batch46: Epoch 0050 | MAE_Test_Loss 0.0010\n",
      "Batch47: Epoch 0050 | MAE_Test_Loss 0.0008\n",
      "Batch48: Epoch 0050 | MAE_Test_Loss 0.0009\n",
      "Batch49: Epoch 0050 | MAE_Test_Loss 0.0008\n",
      "Batch50: Epoch 0050 | MAE_Test_Loss 0.0008\n",
      "Batch51: Epoch 0050 | MAE_Test_Loss 0.0008\n",
      "Batch52: Epoch 0050 | MAE_Test_Loss 0.0008\n",
      "Batch53: Epoch 0050 | MAE_Test_Loss 0.0008\n",
      "Batch54: Epoch 0050 | MAE_Test_Loss 0.0008\n",
      "Batch55: Epoch 0050 | MAE_Test_Loss 0.0008\n",
      "Batch56: Epoch 0050 | MAE_Test_Loss 0.0007\n",
      "Batch57: Epoch 0050 | MAE_Test_Loss 0.0007\n",
      "Batch58: Epoch 0050 | MAE_Test_Loss 0.0007\n",
      "Batch59: Epoch 0050 | MAE_Test_Loss 0.0007\n",
      "Batch60: Epoch 0050 | MAE_Test_Loss 0.0007\n",
      "Batch61: Epoch 0050 | MAE_Test_Loss 0.0007\n",
      "Batch62: Epoch 0050 | MAE_Test_Loss 0.0006\n",
      "Batch63: Epoch 0050 | MAE_Test_Loss 0.0006\n",
      "Batch64: Epoch 0050 | MAE_Test_Loss 0.0007\n",
      "Batch65: Epoch 0050 | MAE_Test_Loss 0.0006\n",
      "Batch66: Epoch 0050 | MAE_Test_Loss 0.0006\n",
      "Batch67: Epoch 0050 | MAE_Test_Loss 0.0005\n",
      "Batch68: Epoch 0050 | MAE_Test_Loss 0.0005\n",
      "Batch69: Epoch 0050 | MAE_Test_Loss 0.0005\n",
      "Batch70: Epoch 0050 | MAE_Test_Loss 0.0006\n",
      "Batch71: Epoch 0050 | MAE_Test_Loss 0.0006\n",
      "Batch72: Epoch 0050 | MAE_Test_Loss 0.0006\n",
      "Batch73: Epoch 0050 | MAE_Test_Loss 0.0006\n",
      "Batch74: Epoch 0050 | MAE_Test_Loss 0.0006\n",
      "Batch75: Epoch 0050 | MAE_Test_Loss 0.0005\n",
      "Batch76: Epoch 0050 | MAE_Test_Loss 0.0005\n",
      "Batch77: Epoch 0050 | MAE_Test_Loss 0.0007\n",
      "Batch78: Epoch 0050 | MAE_Test_Loss 0.0006\n",
      "Batch79: Epoch 0050 | MAE_Test_Loss 0.0005\n",
      "Batch80: Epoch 0050 | MAE_Test_Loss 0.0005\n",
      "Batch81: Epoch 0050 | MAE_Test_Loss 0.0005\n",
      "Batch82: Epoch 0050 | MAE_Test_Loss 0.0006\n",
      "Batch83: Epoch 0050 | MAE_Test_Loss 0.0007\n",
      "Batch84: Epoch 0050 | MAE_Test_Loss 0.0005\n",
      "Batch85: Epoch 0050 | MAE_Test_Loss 0.0005\n",
      "Batch86: Epoch 0050 | MAE_Test_Loss 0.0005\n",
      "Batch87: Epoch 0050 | MAE_Test_Loss 0.0004\n",
      "Batch88: Epoch 0050 | MAE_Test_Loss 0.0013\n",
      "Batch89: Epoch 0050 | MAE_Test_Loss 0.0006\n",
      "Batch90: Epoch 0050 | MAE_Test_Loss 0.0004\n",
      "Batch91: Epoch 0050 | MAE_Test_Loss 0.0004\n",
      "Batch92: Epoch 0050 | MAE_Test_Loss 0.0004\n",
      "Batch93: Epoch 0050 | MAE_Test_Loss 0.0005\n",
      "Batch94: Epoch 0050 | MAE_Test_Loss 0.0005\n",
      "Batch95: Epoch 0050 | MAE_Test_Loss 0.0007\n",
      "Batch96: Epoch 0050 | MAE_Test_Loss 0.0014\n",
      "Batch97: Epoch 0050 | MAE_Test_Loss 0.0008\n",
      "Batch98: Epoch 0050 | MAE_Test_Loss 0.0004\n",
      "Batch99: Epoch 0050 | MAE_Test_Loss 0.0004\n",
      "Batch100: Epoch 0050 | MAE_Test_Loss 0.0007\n",
      "Batch101: Epoch 0050 | MAE_Test_Loss 0.0004\n",
      "Batch102: Epoch 0050 | MAE_Test_Loss 0.0003\n",
      "Batch103: Epoch 0050 | MAE_Test_Loss 0.0004\n",
      "Batch104: Epoch 0050 | MAE_Test_Loss 0.0006\n",
      "Batch105: Epoch 0050 | MAE_Test_Loss 0.0003\n",
      "Batch106: Epoch 0050 | MAE_Test_Loss 0.0005\n",
      "Batch107: Epoch 0050 | MAE_Test_Loss 0.0008\n",
      "Batch108: Epoch 0050 | MAE_Test_Loss 0.0005\n",
      "Batch109: Epoch 0050 | MAE_Test_Loss 0.0003\n",
      "Batch110: Epoch 0050 | MAE_Test_Loss 0.0009\n",
      "Batch111: Epoch 0050 | MAE_Test_Loss 0.0006\n",
      "Batch112: Epoch 0050 | MAE_Test_Loss 0.0004\n",
      "Batch113: Epoch 0050 | MAE_Test_Loss 0.0003\n",
      "Batch114: Epoch 0050 | MAE_Test_Loss 0.0008\n",
      "Batch115: Epoch 0050 | MAE_Test_Loss 0.0013\n",
      "Batch116: Epoch 0050 | MAE_Test_Loss 0.0003\n",
      "Batch117: Epoch 0050 | MAE_Test_Loss 0.0015\n",
      "Batch118: Epoch 0050 | MAE_Test_Loss 0.0012\n",
      "Batch119: Epoch 0050 | MAE_Test_Loss 0.0012\n",
      "Batch120: Epoch 0050 | MAE_Test_Loss 0.0003\n",
      "Batch121: Epoch 0050 | MAE_Test_Loss 0.0011\n",
      "Batch122: Epoch 0050 | MAE_Test_Loss 0.0006\n",
      "Batch123: Epoch 0050 | MAE_Test_Loss 0.0011\n",
      "Batch124: Epoch 0050 | MAE_Test_Loss 0.0003\n",
      "Batch125: Epoch 0050 | MAE_Test_Loss 0.0012\n",
      "Batch126: Epoch 0050 | MAE_Test_Loss 0.0012\n",
      "Batch127: Epoch 0050 | MAE_Test_Loss 0.0004\n",
      "Batch128: Epoch 0050 | MAE_Test_Loss 0.0008\n",
      "Batch129: Epoch 0050 | MAE_Test_Loss 0.0004\n",
      "Batch130: Epoch 0050 | MAE_Test_Loss 0.0006\n",
      "Batch131: Epoch 0050 | MAE_Test_Loss 0.0006\n",
      "Batch132: Epoch 0050 | MAE_Test_Loss 0.0004\n",
      "Batch133: Epoch 0050 | MAE_Test_Loss 0.0008\n",
      "Batch134: Epoch 0050 | MAE_Test_Loss 0.0010\n",
      "Batch135: Epoch 0050 | MAE_Test_Loss 0.0011\n",
      "Batch136: Epoch 0050 | MAE_Test_Loss 0.0008\n",
      "Batch137: Epoch 0050 | MAE_Test_Loss 0.0014\n",
      "Batch138: Epoch 0050 | MAE_Test_Loss 0.0003\n",
      "Batch139: Epoch 0050 | MAE_Test_Loss 0.0013\n",
      "Batch140: Epoch 0050 | MAE_Test_Loss 0.0010\n",
      "Batch141: Epoch 0050 | MAE_Test_Loss 0.0006\n",
      "Batch142: Epoch 0050 | MAE_Test_Loss 0.0007\n",
      "Batch143: Epoch 0050 | MAE_Test_Loss 0.0006\n",
      "Batch144: Epoch 0050 | MAE_Test_Loss 0.0010\n",
      "Batch145: Epoch 0050 | MAE_Test_Loss 0.0005\n",
      "Batch146: Epoch 0050 | MAE_Test_Loss 0.0005\n",
      "Batch147: Epoch 0050 | MAE_Test_Loss 0.0012\n",
      "Batch148: Epoch 0050 | MAE_Test_Loss 0.0003\n",
      "Batch149: Epoch 0050 | MAE_Test_Loss 0.0004\n",
      "Batch150: Epoch 0050 | MAE_Test_Loss 0.0007\n",
      "Batch151: Epoch 0050 | MAE_Test_Loss 0.0005\n",
      "Batch152: Epoch 0050 | MAE_Test_Loss 0.0004\n",
      "Batch153: Epoch 0050 | MAE_Test_Loss 0.0005\n",
      "Batch154: Epoch 0050 | MAE_Test_Loss 0.0003\n",
      "Batch155: Epoch 0050 | MAE_Test_Loss 0.0003\n",
      "Batch156: Epoch 0050 | MAE_Test_Loss 0.0005\n",
      "Batch157: Epoch 0050 | MAE_Test_Loss 0.0010\n",
      "Batch158: Epoch 0050 | MAE_Test_Loss 0.0005\n",
      "Batch159: Epoch 0050 | MAE_Test_Loss 0.0003\n",
      "Batch160: Epoch 0050 | MAE_Test_Loss 0.0005\n",
      "Batch161: Epoch 0050 | MAE_Test_Loss 0.0005\n",
      "Batch162: Epoch 0050 | MAE_Test_Loss 0.0005\n",
      "Batch163: Epoch 0050 | MAE_Test_Loss 0.0007\n",
      "Batch164: Epoch 0050 | MAE_Test_Loss 0.0005\n",
      "Batch165: Epoch 0050 | MAE_Test_Loss 0.0004\n",
      "Batch166: Epoch 0050 | MAE_Test_Loss 0.0004\n",
      "Batch167: Epoch 0050 | MAE_Test_Loss 0.0003\n",
      "Batch168: Epoch 0050 | MAE_Test_Loss 0.0004\n",
      "Batch169: Epoch 0050 | MAE_Test_Loss 0.0008\n",
      "Batch170: Epoch 0050 | MAE_Test_Loss 0.0008\n",
      "Batch171: Epoch 0050 | MAE_Test_Loss 0.0005\n",
      "Batch172: Epoch 0050 | MAE_Test_Loss 0.0007\n",
      "Batch173: Epoch 0050 | MAE_Test_Loss 0.0004\n",
      "Batch174: Epoch 0050 | MAE_Test_Loss 0.0004\n",
      "Batch175: Epoch 0050 | MAE_Test_Loss 0.0007\n",
      "Batch176: Epoch 0050 | MAE_Test_Loss 0.0004\n",
      "Batch177: Epoch 0050 | MAE_Test_Loss 0.0009\n",
      "Batch178: Epoch 0050 | MAE_Test_Loss 0.0005\n",
      "Batch179: Epoch 0050 | MAE_Test_Loss 0.0005\n",
      "Batch180: Epoch 0050 | MAE_Test_Loss 0.0004\n",
      "Batch181: Epoch 0050 | MAE_Test_Loss 0.0004\n",
      "Batch182: Epoch 0050 | MAE_Test_Loss 0.0006\n",
      "Batch183: Epoch 0050 | MAE_Test_Loss 0.0009\n",
      "Batch184: Epoch 0050 | MAE_Test_Loss 0.0009\n",
      "Batch185: Epoch 0050 | MAE_Test_Loss 0.0007\n",
      "Batch186: Epoch 0050 | MAE_Test_Loss 0.0005\n",
      "Batch187: Epoch 0050 | MAE_Test_Loss 0.0004\n",
      "Batch188: Epoch 0050 | MAE_Test_Loss 0.0004\n",
      "Batch189: Epoch 0050 | MAE_Test_Loss 0.0007\n"
     ]
    },
    {
     "name": "stdout",
     "output_type": "stream",
     "text": [
      "Batch190: Epoch 0050 | MAE_Test_Loss 0.0005\n",
      "Batch191: Epoch 0050 | MAE_Test_Loss 0.0005\n",
      "Batch192: Epoch 0050 | MAE_Test_Loss 0.0008\n",
      "Batch193: Epoch 0050 | MAE_Test_Loss 0.0008\n"
     ]
    }
   ],
   "source": [
    "LFGCN=GCN(7,14,1);LFGCN_Loss_list=[];LFGCN_Loss_list.clear();LFGCN_MAE_Dur_list=[]\n",
    "for i in range(len(train_x)):\n",
    "    print('Batch{:d}: '.format(i+1),end='')\n",
    "    gcn_trainer(LFGCN,GLF,train_x[i],train_y[i],50,th.optim.Adam(LFGCN.parameters(), lr=1e-3),nn.L1Loss(),LFGCN_Loss_list,LFGCN_MAE_Dur_list)"
   ]
  },
  {
   "cell_type": "code",
   "execution_count": 21,
   "metadata": {},
   "outputs": [
    {
     "name": "stdout",
     "output_type": "stream",
     "text": [
      "Batch1: Epoch 0050 | MAE_Test_Loss 0.0920\n",
      "Batch2: Epoch 0050 | MAE_Test_Loss 0.0040\n",
      "Batch3: Epoch 0050 | MAE_Test_Loss 0.0030\n",
      "Batch4: Epoch 0050 | MAE_Test_Loss 0.0023\n",
      "Batch5: Epoch 0050 | MAE_Test_Loss 0.0015\n",
      "Batch6: Epoch 0050 | MAE_Test_Loss 0.0012\n",
      "Batch7: Epoch 0050 | MAE_Test_Loss 0.0009\n",
      "Batch8: Epoch 0050 | MAE_Test_Loss 0.0009\n",
      "Batch9: Epoch 0050 | MAE_Test_Loss 0.0007\n",
      "Batch10: Epoch 0050 | MAE_Test_Loss 0.0006\n",
      "Batch11: Epoch 0050 | MAE_Test_Loss 0.0005\n",
      "Batch12: Epoch 0050 | MAE_Test_Loss 0.0005\n",
      "Batch13: Epoch 0050 | MAE_Test_Loss 0.0006\n",
      "Batch14: Epoch 0050 | MAE_Test_Loss 0.0005\n",
      "Batch15: Epoch 0050 | MAE_Test_Loss 0.0008\n",
      "Batch16: Epoch 0050 | MAE_Test_Loss 0.0004\n",
      "Batch17: Epoch 0050 | MAE_Test_Loss 0.0006\n",
      "Batch18: Epoch 0050 | MAE_Test_Loss 0.0004\n",
      "Batch19: Epoch 0050 | MAE_Test_Loss 0.0003\n",
      "Batch20: Epoch 0050 | MAE_Test_Loss 0.0003\n",
      "Batch21: Epoch 0050 | MAE_Test_Loss 0.0003\n",
      "Batch22: Epoch 0050 | MAE_Test_Loss 0.0003\n",
      "Batch23: Epoch 0050 | MAE_Test_Loss 0.0005\n",
      "Batch24: Epoch 0050 | MAE_Test_Loss 0.0005\n",
      "Batch25: Epoch 0050 | MAE_Test_Loss 0.0004\n",
      "Batch26: Epoch 0050 | MAE_Test_Loss 0.0004\n",
      "Batch27: Epoch 0050 | MAE_Test_Loss 0.0004\n",
      "Batch28: Epoch 0050 | MAE_Test_Loss 0.0003\n",
      "Batch29: Epoch 0050 | MAE_Test_Loss 0.0004\n",
      "Batch30: Epoch 0050 | MAE_Test_Loss 0.0004\n",
      "Batch31: Epoch 0050 | MAE_Test_Loss 0.0004\n",
      "Batch32: Epoch 0050 | MAE_Test_Loss 0.0005\n",
      "Batch33: Epoch 0050 | MAE_Test_Loss 0.0004\n",
      "Batch34: Epoch 0050 | MAE_Test_Loss 0.0003\n",
      "Batch35: Epoch 0050 | MAE_Test_Loss 0.0003\n",
      "Batch36: Epoch 0050 | MAE_Test_Loss 0.0005\n",
      "Batch37: Epoch 0050 | MAE_Test_Loss 0.0003\n",
      "Batch38: Epoch 0050 | MAE_Test_Loss 0.0003\n",
      "Batch39: Epoch 0050 | MAE_Test_Loss 0.0003\n",
      "Batch40: Epoch 0050 | MAE_Test_Loss 0.0003\n",
      "Batch41: Epoch 0050 | MAE_Test_Loss 0.0003\n",
      "Batch42: Epoch 0050 | MAE_Test_Loss 0.0002\n",
      "Batch43: Epoch 0050 | MAE_Test_Loss 0.0004\n",
      "Batch44: Epoch 0050 | MAE_Test_Loss 0.0003\n",
      "Batch45: Epoch 0050 | MAE_Test_Loss 0.0003\n",
      "Batch46: Epoch 0050 | MAE_Test_Loss 0.0004\n",
      "Batch47: Epoch 0050 | MAE_Test_Loss 0.0007\n",
      "Batch48: Epoch 0050 | MAE_Test_Loss 0.0002\n",
      "Batch49: Epoch 0050 | MAE_Test_Loss 0.0004\n",
      "Batch50: Epoch 0050 | MAE_Test_Loss 0.0003\n",
      "Batch51: Epoch 0050 | MAE_Test_Loss 0.0003\n",
      "Batch52: Epoch 0050 | MAE_Test_Loss 0.0005\n",
      "Batch53: Epoch 0050 | MAE_Test_Loss 0.0003\n",
      "Batch54: Epoch 0050 | MAE_Test_Loss 0.0002\n",
      "Batch55: Epoch 0050 | MAE_Test_Loss 0.0003\n",
      "Batch56: Epoch 0050 | MAE_Test_Loss 0.0004\n",
      "Batch57: Epoch 0050 | MAE_Test_Loss 0.0002\n",
      "Batch58: Epoch 0050 | MAE_Test_Loss 0.0004\n",
      "Batch59: Epoch 0050 | MAE_Test_Loss 0.0002\n",
      "Batch60: Epoch 0050 | MAE_Test_Loss 0.0002\n",
      "Batch61: Epoch 0050 | MAE_Test_Loss 0.0002\n",
      "Batch62: Epoch 0050 | MAE_Test_Loss 0.0002\n",
      "Batch63: Epoch 0050 | MAE_Test_Loss 0.0002\n",
      "Batch64: Epoch 0050 | MAE_Test_Loss 0.0002\n",
      "Batch65: Epoch 0050 | MAE_Test_Loss 0.0002\n",
      "Batch66: Epoch 0050 | MAE_Test_Loss 0.0004\n",
      "Batch67: Epoch 0050 | MAE_Test_Loss 0.0002\n",
      "Batch68: Epoch 0050 | MAE_Test_Loss 0.0004\n",
      "Batch69: Epoch 0050 | MAE_Test_Loss 0.0004\n",
      "Batch70: Epoch 0050 | MAE_Test_Loss 0.0001\n",
      "Batch71: Epoch 0050 | MAE_Test_Loss 0.0001\n",
      "Batch72: Epoch 0050 | MAE_Test_Loss 0.0002\n",
      "Batch73: Epoch 0050 | MAE_Test_Loss 0.0002\n",
      "Batch74: Epoch 0050 | MAE_Test_Loss 0.0002\n",
      "Batch75: Epoch 0050 | MAE_Test_Loss 0.0002\n",
      "Batch76: Epoch 0050 | MAE_Test_Loss 0.0001\n",
      "Batch77: Epoch 0050 | MAE_Test_Loss 0.0003\n",
      "Batch78: Epoch 0050 | MAE_Test_Loss 0.0007\n",
      "Batch79: Epoch 0050 | MAE_Test_Loss 0.0001\n",
      "Batch80: Epoch 0050 | MAE_Test_Loss 0.0002\n",
      "Batch81: Epoch 0050 | MAE_Test_Loss 0.0001\n",
      "Batch82: Epoch 0050 | MAE_Test_Loss 0.0007\n",
      "Batch83: Epoch 0050 | MAE_Test_Loss 0.0004\n",
      "Batch84: Epoch 0050 | MAE_Test_Loss 0.0007\n",
      "Batch85: Epoch 0050 | MAE_Test_Loss 0.0007\n",
      "Batch86: Epoch 0050 | MAE_Test_Loss 0.0001\n",
      "Batch87: Epoch 0050 | MAE_Test_Loss 0.0004\n",
      "Batch88: Epoch 0050 | MAE_Test_Loss 0.0001\n",
      "Batch89: Epoch 0050 | MAE_Test_Loss 0.0001\n",
      "Batch90: Epoch 0050 | MAE_Test_Loss 0.0001\n",
      "Batch91: Epoch 0050 | MAE_Test_Loss 0.0001\n",
      "Batch92: Epoch 0050 | MAE_Test_Loss 0.0002\n",
      "Batch93: Epoch 0050 | MAE_Test_Loss 0.0004\n",
      "Batch94: Epoch 0050 | MAE_Test_Loss 0.0003\n",
      "Batch95: Epoch 0050 | MAE_Test_Loss 0.0002\n",
      "Batch96: Epoch 0050 | MAE_Test_Loss 0.0002\n",
      "Batch97: Epoch 0050 | MAE_Test_Loss 0.0002\n",
      "Batch98: Epoch 0050 | MAE_Test_Loss 0.0006\n",
      "Batch99: Epoch 0050 | MAE_Test_Loss 0.0002\n",
      "Batch100: Epoch 0050 | MAE_Test_Loss 0.0004\n",
      "Batch101: Epoch 0050 | MAE_Test_Loss 0.0006\n",
      "Batch102: Epoch 0050 | MAE_Test_Loss 0.0002\n",
      "Batch103: Epoch 0050 | MAE_Test_Loss 0.0007\n",
      "Batch104: Epoch 0050 | MAE_Test_Loss 0.0001\n",
      "Batch105: Epoch 0050 | MAE_Test_Loss 0.0010\n",
      "Batch106: Epoch 0050 | MAE_Test_Loss 0.0006\n",
      "Batch107: Epoch 0050 | MAE_Test_Loss 0.0004\n",
      "Batch108: Epoch 0050 | MAE_Test_Loss 0.0006\n",
      "Batch109: Epoch 0050 | MAE_Test_Loss 0.0001\n",
      "Batch110: Epoch 0050 | MAE_Test_Loss 0.0001\n",
      "Batch111: Epoch 0050 | MAE_Test_Loss 0.0006\n",
      "Batch112: Epoch 0050 | MAE_Test_Loss 0.0002\n",
      "Batch113: Epoch 0050 | MAE_Test_Loss 0.0005\n",
      "Batch114: Epoch 0050 | MAE_Test_Loss 0.0003\n",
      "Batch115: Epoch 0050 | MAE_Test_Loss 0.0004\n",
      "Batch116: Epoch 0050 | MAE_Test_Loss 0.0002\n",
      "Batch117: Epoch 0050 | MAE_Test_Loss 0.0002\n",
      "Batch118: Epoch 0050 | MAE_Test_Loss 0.0005\n",
      "Batch119: Epoch 0050 | MAE_Test_Loss 0.0003\n",
      "Batch120: Epoch 0050 | MAE_Test_Loss 0.0002\n",
      "Batch121: Epoch 0050 | MAE_Test_Loss 0.0007\n",
      "Batch122: Epoch 0050 | MAE_Test_Loss 0.0007\n",
      "Batch123: Epoch 0050 | MAE_Test_Loss 0.0003\n",
      "Batch124: Epoch 0050 | MAE_Test_Loss 0.0002\n",
      "Batch125: Epoch 0050 | MAE_Test_Loss 0.0005\n",
      "Batch126: Epoch 0050 | MAE_Test_Loss 0.0005\n",
      "Batch127: Epoch 0050 | MAE_Test_Loss 0.0001\n",
      "Batch128: Epoch 0050 | MAE_Test_Loss 0.0002\n",
      "Batch129: Epoch 0050 | MAE_Test_Loss 0.0002\n",
      "Batch130: Epoch 0050 | MAE_Test_Loss 0.0007\n",
      "Batch131: Epoch 0050 | MAE_Test_Loss 0.0003\n",
      "Batch132: Epoch 0050 | MAE_Test_Loss 0.0004\n",
      "Batch133: Epoch 0050 | MAE_Test_Loss 0.0004\n",
      "Batch134: Epoch 0050 | MAE_Test_Loss 0.0002\n",
      "Batch135: Epoch 0050 | MAE_Test_Loss 0.0002\n",
      "Batch136: Epoch 0050 | MAE_Test_Loss 0.0002\n",
      "Batch137: Epoch 0050 | MAE_Test_Loss 0.0001\n",
      "Batch138: Epoch 0050 | MAE_Test_Loss 0.0005\n",
      "Batch139: Epoch 0050 | MAE_Test_Loss 0.0006\n",
      "Batch140: Epoch 0050 | MAE_Test_Loss 0.0003\n",
      "Batch141: Epoch 0050 | MAE_Test_Loss 0.0002\n",
      "Batch142: Epoch 0050 | MAE_Test_Loss 0.0005\n",
      "Batch143: Epoch 0050 | MAE_Test_Loss 0.0004\n",
      "Batch144: Epoch 0050 | MAE_Test_Loss 0.0001\n",
      "Batch145: Epoch 0050 | MAE_Test_Loss 0.0004\n",
      "Batch146: Epoch 0050 | MAE_Test_Loss 0.0007\n",
      "Batch147: Epoch 0050 | MAE_Test_Loss 0.0008\n",
      "Batch148: Epoch 0050 | MAE_Test_Loss 0.0008\n",
      "Batch149: Epoch 0050 | MAE_Test_Loss 0.0007\n",
      "Batch150: Epoch 0050 | MAE_Test_Loss 0.0001\n",
      "Batch151: Epoch 0050 | MAE_Test_Loss 0.0002\n",
      "Batch152: Epoch 0050 | MAE_Test_Loss 0.0002\n",
      "Batch153: Epoch 0050 | MAE_Test_Loss 0.0007\n",
      "Batch154: Epoch 0050 | MAE_Test_Loss 0.0006\n",
      "Batch155: Epoch 0050 | MAE_Test_Loss 0.0003\n",
      "Batch156: Epoch 0050 | MAE_Test_Loss 0.0002\n",
      "Batch157: Epoch 0050 | MAE_Test_Loss 0.0001\n",
      "Batch158: Epoch 0050 | MAE_Test_Loss 0.0005\n",
      "Batch159: Epoch 0050 | MAE_Test_Loss 0.0001\n",
      "Batch160: Epoch 0050 | MAE_Test_Loss 0.0001\n",
      "Batch161: Epoch 0050 | MAE_Test_Loss 0.0004\n",
      "Batch162: Epoch 0050 | MAE_Test_Loss 0.0001\n",
      "Batch163: Epoch 0050 | MAE_Test_Loss 0.0002\n",
      "Batch164: Epoch 0050 | MAE_Test_Loss 0.0001\n",
      "Batch165: Epoch 0050 | MAE_Test_Loss 0.0006\n",
      "Batch166: Epoch 0050 | MAE_Test_Loss 0.0005\n",
      "Batch167: Epoch 0050 | MAE_Test_Loss 0.0001\n",
      "Batch168: Epoch 0050 | MAE_Test_Loss 0.0007\n",
      "Batch169: Epoch 0050 | MAE_Test_Loss 0.0007\n",
      "Batch170: Epoch 0050 | MAE_Test_Loss 0.0003\n",
      "Batch171: Epoch 0050 | MAE_Test_Loss 0.0004\n",
      "Batch172: Epoch 0050 | MAE_Test_Loss 0.0002\n",
      "Batch173: Epoch 0050 | MAE_Test_Loss 0.0002\n",
      "Batch174: Epoch 0050 | MAE_Test_Loss 0.0005\n",
      "Batch175: Epoch 0050 | MAE_Test_Loss 0.0002\n",
      "Batch176: Epoch 0050 | MAE_Test_Loss 0.0002\n",
      "Batch177: Epoch 0050 | MAE_Test_Loss 0.0002\n",
      "Batch178: Epoch 0050 | MAE_Test_Loss 0.0003\n",
      "Batch179: Epoch 0050 | MAE_Test_Loss 0.0005\n",
      "Batch180: Epoch 0050 | MAE_Test_Loss 0.0003\n",
      "Batch181: Epoch 0050 | MAE_Test_Loss 0.0001\n",
      "Batch182: Epoch 0050 | MAE_Test_Loss 0.0002\n",
      "Batch183: Epoch 0050 | MAE_Test_Loss 0.0001\n",
      "Batch184: Epoch 0050 | MAE_Test_Loss 0.0001\n",
      "Batch185: Epoch 0050 | MAE_Test_Loss 0.0002\n",
      "Batch186: Epoch 0050 | MAE_Test_Loss 0.0010\n",
      "Batch187: Epoch 0050 | MAE_Test_Loss 0.0007\n",
      "Batch188: Epoch 0050 | MAE_Test_Loss 0.0002\n",
      "Batch189: Epoch 0050 | MAE_Test_Loss 0.0007\n",
      "Batch190: Epoch 0050 | MAE_Test_Loss 0.0007\n"
     ]
    },
    {
     "name": "stdout",
     "output_type": "stream",
     "text": [
      "Batch191: Epoch 0050 | MAE_Test_Loss 0.0007\n",
      "Batch192: Epoch 0050 | MAE_Test_Loss 0.0007\n",
      "Batch193: Epoch 0050 | MAE_Test_Loss 0.0002\n"
     ]
    }
   ],
   "source": [
    "QFGCN=GCN(7,14,1);QFGCN_Loss_list=[];QFGCN_Loss_list.clear();QFGCN_MAE_Dur_list=[]\n",
    "for i in range(len(train_x)):\n",
    "    print('Batch{:d}: '.format(i+1),end='')\n",
    "    gcn_trainer(QFGCN,GQF,train_x[i],train_y[i],50,th.optim.Adam(QFGCN.parameters(), lr=1e-3),nn.L1Loss(),QFGCN_Loss_list,QFGCN_MAE_Dur_list)"
   ]
  },
  {
   "cell_type": "code",
   "execution_count": 22,
   "metadata": {},
   "outputs": [
    {
     "data": {
      "image/png": "[encoded data removed]",
      "text/plain": [
       "<Figure size 432x288 with 1 Axes>"
      ]
     },
     "metadata": {},
     "output_type": "display_data"
    }
   ],
   "source": [
    "plt.style.use('ggplot')\n",
    "QCGCN_Loss_list_numpy = []\n",
    "LCGCN_Loss_list_numpy = []\n",
    "LFGCN_Loss_list_numpy = []\n",
    "QFGCN_Loss_list_numpy = []\n",
    "for i in QCGCN_Loss_list:\n",
    "    QCGCN_Loss_list_numpy.append(i.detach().numpy())\n",
    "for i in LCGCN_Loss_list:\n",
    "    LCGCN_Loss_list_numpy.append(i.detach().numpy())\n",
    "for i in LFGCN_Loss_list:\n",
    "    LFGCN_Loss_list_numpy.append(i.detach().numpy())\n",
    "for i in QFGCN_Loss_list:\n",
    "    QFGCN_Loss_list_numpy.append(i.detach().numpy())\n",
    "    \n",
    "plt.plot(QCGCN_Loss_list_numpy,label='QC GCN')\n",
    "plt.plot(LCGCN_Loss_list_numpy,label='LC GCN')\n",
    "plt.plot(LFGCN_Loss_list_numpy,label='LF GCN')\n",
    "plt.plot(QFGCN_Loss_list_numpy,label='QF GCN')\n",
    "plt.title('Changes of MAE during 1150 training process')\n",
    "plt.xlabel('Epoch')\n",
    "plt.ylabel('MAE Loss')\n",
    "plt.legend(loc=1)\n",
    "plt.show()"
   ]
  },
  {
   "cell_type": "code",
   "execution_count": 23,
   "metadata": {},
   "outputs": [],
   "source": [
    "QCGCN_During=np.sum(QCGCN_MAE_Dur_list)\n",
    "LCGCN_During=np.sum(LCGCN_MAE_Dur_list)\n",
    "LFGCN_During=np.sum(LFGCN_MAE_Dur_list)\n",
    "QFGCN_During=np.sum(QFGCN_MAE_Dur_list)"
   ]
  },
  {
   "cell_type": "code",
   "execution_count": 24,
   "metadata": {},
   "outputs": [
    {
     "data": {
      "text/plain": [
       "(16.68915367126465, 17.06549382209778, 17.595953941345215, 18.811075448989868)"
      ]
     },
     "execution_count": 24,
     "metadata": {},
     "output_type": "execute_result"
    }
   ],
   "source": [
    "QCGCN_During,LCGCN_During,LFGCN_During,QFGCN_During"
   ]
  },
  {
   "cell_type": "code",
   "execution_count": 25,
   "metadata": {},
   "outputs": [],
   "source": [
    "def mean_losslist(tlist):\n",
    "    return np.sum(tlist)/len(tlist)"
   ]
  },
  {
   "cell_type": "code",
   "execution_count": 26,
   "metadata": {},
   "outputs": [
    {
     "data": {
      "text/plain": [
       "(0.0021223924073530604,\n",
       " 0.0011058869633649914,\n",
       " 0.001450484873717313,\n",
       " 0.0017595336597818166)"
      ]
     },
     "execution_count": 26,
     "metadata": {},
     "output_type": "execute_result"
    }
   ],
   "source": [
    "mean_losslist(QCGCN_Loss_list_numpy),mean_losslist(LCGCN_Loss_list_numpy),mean_losslist(LFGCN_Loss_list_numpy),mean_losslist(QFGCN_Loss_list_numpy)"
   ]
  },
  {
   "cell_type": "code",
   "execution_count": 27,
   "metadata": {},
   "outputs": [
    {
     "data": {
      "image/png": "[encoded data removed]",
      "text/plain": [
       "<Figure size 720x720 with 4 Axes>"
      ]
     },
     "metadata": {},
     "output_type": "display_data"
    }
   ],
   "source": [
    "plt.figure(figsize=(10,10))\n",
    "plt.figure(1)\n",
    "ax1 = plt.subplot(411)\n",
    "plt.plot(QCGCN_Loss_list_numpy,color='r',linestyle = \"-\",label='QC')\n",
    "plt.legend(loc=1)\n",
    "plt.ylabel('MAE Loss')\n",
    "ax2 = plt.subplot(412)\n",
    "plt.plot(LCGCN_Loss_list_numpy,color='g',linestyle = \"-\",label='LC')\n",
    "plt.legend(loc=1)\n",
    "plt.ylabel('MAE Loss')\n",
    "ax3 = plt.subplot(413)\n",
    "plt.plot(LFGCN_Loss_list_numpy,color='b',linestyle = \"-\",label='LF')\n",
    "plt.legend(loc=1)\n",
    "plt.ylabel('MAE Loss')\n",
    "ax4= plt.subplot(414)\n",
    "plt.plot(QFGCN_Loss_list_numpy,color='y',linestyle = \"-\",label='QF')\n",
    "plt.legend(loc=1)\n",
    "plt.ylabel('MAE Loss')\n",
    "plt.xlabel('Epoch')\n",
    "plt.show()"
   ]
  },
  {
   "cell_type": "code",
   "execution_count": 28,
   "metadata": {},
   "outputs": [],
   "source": [
    "def gcn_valid(network,G,test_input,test_label,criterion,loss_list):\n",
    "    for i in range(len(test_input)):\n",
    "        loss = criterion(network(G,test_input[i]),test_label[i])\n",
    "        loss_list.append(loss)"
   ]
  },
  {
   "cell_type": "code",
   "execution_count": 29,
   "metadata": {},
   "outputs": [],
   "source": [
    "QCGCN_valid_loss_list=[];QCGCN_valid_loss_list.clear()\n",
    "gcn_valid(QCGCN,GQC,valid_x,valid_y,nn.L1Loss(),QCGCN_valid_loss_list)"
   ]
  },
  {
   "cell_type": "code",
   "execution_count": 30,
   "metadata": {},
   "outputs": [],
   "source": [
    "LCGCN_valid_loss_list=[];LCGCN_valid_loss_list.clear()\n",
    "gcn_valid(LCGCN,GLC,valid_x,valid_y,nn.L1Loss(),LCGCN_valid_loss_list)"
   ]
  },
  {
   "cell_type": "code",
   "execution_count": 31,
   "metadata": {},
   "outputs": [],
   "source": [
    "LFGCN_valid_loss_list=[];LFGCN_valid_loss_list.clear()\n",
    "gcn_valid(LFGCN,GLF,valid_x,valid_y,nn.L1Loss(),LFGCN_valid_loss_list)"
   ]
  },
  {
   "cell_type": "code",
   "execution_count": 32,
   "metadata": {},
   "outputs": [],
   "source": [
    "QFGCN_valid_loss_list=[];QFGCN_valid_loss_list.clear()\n",
    "gcn_valid(QFGCN,GQF,valid_x,valid_y,nn.L1Loss(),QFGCN_valid_loss_list)"
   ]
  },
  {
   "cell_type": "code",
   "execution_count": 33,
   "metadata": {},
   "outputs": [
    {
     "data": {
      "text/plain": [
       "<matplotlib.legend.Legend at 0x17c0c55eca0>"
      ]
     },
     "execution_count": 33,
     "metadata": {},
     "output_type": "execute_result"
    },
    {
     "data": {
      "image/png": "[encoded data removed]",
      "text/plain": [
       "<Figure size 432x288 with 1 Axes>"
      ]
     },
     "metadata": {},
     "output_type": "display_data"
    }
   ],
   "source": [
    "QCGCN_valid_loss_list_numpy = []\n",
    "LCGCN_valid_loss_list_numpy = []\n",
    "LFGCN_valid_loss_list_numpy = []\n",
    "QFGCN_valid_loss_list_numpy = []\n",
    "for i in QCGCN_valid_loss_list:\n",
    "    QCGCN_valid_loss_list_numpy.append(i.detach().numpy())\n",
    "for i in LCGCN_valid_loss_list:\n",
    "    LCGCN_valid_loss_list_numpy.append(i.detach().numpy())\n",
    "for i in LFGCN_valid_loss_list:\n",
    "    LFGCN_valid_loss_list_numpy.append(i.detach().numpy())\n",
    "for i in QFGCN_valid_loss_list:\n",
    "    QFGCN_valid_loss_list_numpy.append(i.detach().numpy())\n",
    "\n",
    "plt.plot(QCGCN_valid_loss_list_numpy,label='QC GCN')\n",
    "plt.plot(LCGCN_valid_loss_list_numpy,label='LC GCN')\n",
    "plt.plot(LFGCN_valid_loss_list_numpy,label='LF GCN')\n",
    "plt.plot(QFGCN_valid_loss_list_numpy,label='QF GCN')\n",
    "plt.xlabel('Epoch')\n",
    "plt.ylabel('MAE Loss')\n",
    "plt.title('MAE on valid after 1150 trainings')\n",
    "plt.legend(loc=1)"
   ]
  },
  {
   "cell_type": "code",
   "execution_count": 34,
   "metadata": {},
   "outputs": [],
   "source": [
    "def gcn_tester(network,G,test_input,test_label,criterion,loss_list):\n",
    "    for i in range(len(test_input)):\n",
    "        loss = criterion(network(G,test_input[i]),test_label[i])\n",
    "        loss_list.append(loss)"
   ]
  },
  {
   "cell_type": "code",
   "execution_count": 35,
   "metadata": {},
   "outputs": [],
   "source": [
    "QCGCN_test_loss_list=[];QCGCN_test_loss_list.clear()\n",
    "gcn_tester(QCGCN,GQC,test_x,test_y,nn.L1Loss(),QCGCN_test_loss_list)"
   ]
  },
  {
   "cell_type": "code",
   "execution_count": 36,
   "metadata": {},
   "outputs": [],
   "source": [
    "LCGCN_test_loss_list=[];LCGCN_test_loss_list.clear()\n",
    "gcn_tester(LCGCN,GLC,test_x,test_y,nn.L1Loss(),LCGCN_test_loss_list)"
   ]
  },
  {
   "cell_type": "code",
   "execution_count": 37,
   "metadata": {},
   "outputs": [],
   "source": [
    "LFGCN_test_loss_list=[];LFGCN_test_loss_list.clear()\n",
    "gcn_tester(LFGCN,GLF,test_x,test_y,nn.L1Loss(),LFGCN_test_loss_list)"
   ]
  },
  {
   "cell_type": "code",
   "execution_count": 38,
   "metadata": {},
   "outputs": [],
   "source": [
    "QFGCN_test_loss_list=[];QFGCN_test_loss_list.clear()\n",
    "gcn_tester(QFGCN,GQF,test_x,test_y,nn.L1Loss(),QFGCN_test_loss_list)"
   ]
  },
  {
   "cell_type": "code",
   "execution_count": 39,
   "metadata": {},
   "outputs": [
    {
     "data": {
      "text/plain": [
       "<matplotlib.legend.Legend at 0x17c0c5c4700>"
      ]
     },
     "execution_count": 39,
     "metadata": {},
     "output_type": "execute_result"
    },
    {
     "data": {
      "image/png": "[encoded data removed]",
      "text/plain": [
       "<Figure size 432x288 with 1 Axes>"
      ]
     },
     "metadata": {},
     "output_type": "display_data"
    }
   ],
   "source": [
    "QCGCN_test_loss_list_numpy = []\n",
    "LCGCN_test_loss_list_numpy = []\n",
    "LFGCN_test_loss_list_numpy = []\n",
    "QFGCN_test_loss_list_numpy = []\n",
    "\n",
    "for i in QCGCN_test_loss_list:\n",
    "    QCGCN_test_loss_list_numpy.append(i.detach().numpy())\n",
    "    \n",
    "for i in LCGCN_test_loss_list:\n",
    "    LCGCN_test_loss_list_numpy.append(i.detach().numpy())\n",
    "    \n",
    "for i in LFGCN_test_loss_list:\n",
    "    LFGCN_test_loss_list_numpy.append(i.detach().numpy())\n",
    "    \n",
    "for i in QFGCN_test_loss_list:\n",
    "    QFGCN_test_loss_list_numpy.append(i.detach().numpy())\n",
    "\n",
    "plt.plot(QCGCN_test_loss_list_numpy,label='QC GCN')\n",
    "plt.plot(LCGCN_test_loss_list_numpy,label='LC GCN')\n",
    "plt.plot(LFGCN_test_loss_list_numpy,label='LF GCN')\n",
    "plt.plot(QFGCN_test_loss_list_numpy,label='QF GCN')\n",
    "plt.xlabel('Epoch')\n",
    "plt.ylabel('MAE Loss')\n",
    "plt.title('MAE on test after 1150 trainings')\n",
    "plt.legend(loc=1)"
   ]
  },
  {
   "cell_type": "code",
   "execution_count": 41,
   "metadata": {},
   "outputs": [
    {
     "data": {
      "text/plain": [
       "<matplotlib.legend.Legend at 0x17c1094eee0>"
      ]
     },
     "execution_count": 41,
     "metadata": {},
     "output_type": "execute_result"
    },
    {
     "data": {
      "image/png": "[encoded data removed]",
      "text/plain": [
       "<Figure size 720x720 with 4 Axes>"
      ]
     },
     "metadata": {},
     "output_type": "display_data"
    }
   ],
   "source": [
    "plt.figure(figsize=(10,10))\n",
    "plt.figure(1)\n",
    "\n",
    "QCGCN_test_loss_list_numpy = []\n",
    "LCRGCN_test_loss_list_numpy = []\n",
    "LFGCN_test_loss_list_numpy = []\n",
    "QFGCN_test_loss_list_numpy = []\n",
    "\n",
    "for i in QCGCN_test_loss_list:\n",
    "    QCGCN_test_loss_list_numpy.append(i.detach().numpy())\n",
    "for i in LCGCN_test_loss_list:\n",
    "    LCGCN_test_loss_list_numpy.append(i.detach().numpy())\n",
    "for i in LFGCN_test_loss_list:\n",
    "    LFGCN_test_loss_list_numpy.append(i.detach().numpy())\n",
    "for i in QFGCN_test_loss_list:\n",
    "    QFGCN_test_loss_list_numpy.append(i.detach().numpy())\n",
    "\n",
    "ax1 = plt.subplot(411)\n",
    "plt.plot(QCGCN_test_loss_list_numpy,color=\"r\",linestyle = \"-\",label='QC')\n",
    "plt.ylabel('MAE Loss')\n",
    "plt.legend()\n",
    "\n",
    "ax2 = plt.subplot(412)\n",
    "plt.plot(LCGCN_test_loss_list_numpy, color=\"g\",linestyle = \"-\",label='LC')\n",
    "plt.ylabel('MAE Loss')\n",
    "plt.legend()\n",
    "\n",
    "ax3 = plt.subplot(413)\n",
    "plt.plot(LFGCN_test_loss_list_numpy,color=\"b\",linestyle = \"-\",label='LF')\n",
    "plt.ylabel('MAE Loss')\n",
    "plt.legend()\n",
    "\n",
    "ax4 = plt.subplot(414)\n",
    "plt.plot(QFGCN_test_loss_list_numpy,color=\"y\",linestyle = \"-\",label='QF')\n",
    "plt.xlabel('Epoch')\n",
    "plt.ylabel('MAE Loss')\n",
    "plt.legend()"
   ]
  },
  {
   "cell_type": "code",
   "execution_count": 42,
   "metadata": {},
   "outputs": [
    {
     "data": {
      "text/plain": [
       "(0.0009656207610483038, 0.00033931043764499766)"
      ]
     },
     "execution_count": 42,
     "metadata": {},
     "output_type": "execute_result"
    }
   ],
   "source": [
    "mean_losslist(QCGCN_test_loss_list_numpy),mean_losslist(LCGCN_test_loss_list_numpy)"
   ]
  },
  {
   "cell_type": "code",
   "execution_count": 43,
   "metadata": {},
   "outputs": [
    {
     "data": {
      "text/plain": [
       "(0.0006427817454893295, 0.0005180957178546958)"
      ]
     },
     "execution_count": 43,
     "metadata": {},
     "output_type": "execute_result"
    }
   ],
   "source": [
    "mean_losslist(LFGCN_test_loss_list_numpy),mean_losslist(QFGCN_test_loss_list_numpy)"
   ]
  },
  {
   "cell_type": "markdown",
   "metadata": {},
   "source": [
    "## RNN"
   ]
  },
  {
   "cell_type": "code",
   "execution_count": 44,
   "metadata": {},
   "outputs": [],
   "source": [
    "class RNNs(nn.Module):\n",
    "    def __init__(self, input_dim, hidden_dim, out_dim, layers, dropout=0):\n",
    "        super(RNNs,self).__init__()\n",
    "\n",
    "        self.rnn = nn.RNN(input_size=input_dim, hidden_size=hidden_dim, num_layers=layers, dropout=dropout)\n",
    "        self.linear = nn.Linear(hidden_dim, out_dim)\n",
    "\n",
    "\n",
    "    def forward(self, x):\n",
    "        out, hidden = self.rnn(x)\n",
    "        channel_size,city_size,period_size = out.shape\n",
    "        out = out.view(channel_size*city_size,period_size)\n",
    "        out = self.linear(out)\n",
    "        out = out.view(channel_size,city_size,-1)\n",
    "        return out"
   ]
  },
  {
   "cell_type": "code",
   "execution_count": 45,
   "metadata": {},
   "outputs": [],
   "source": [
    "def rnn_trainer(network,input_data,label_data,training_times,\n",
    "                optimizer,criterion,loss_list,dur_list):\n",
    "\n",
    "    #loss_list = loss_list\n",
    "    #network = network\n",
    "\n",
    "    for epoch in range(training_times):\n",
    "        t0 = time.time()\n",
    "        network.train()\n",
    "        out = network(input_data)          \n",
    "        \n",
    "        #criterion = criterion\n",
    "        loss = criterion(out,label_data)\n",
    "        \n",
    "        #optimizer = optimizer\n",
    "        optimizer.zero_grad()\n",
    "        loss.backward()\n",
    "        optimizer.step()\n",
    "\n",
    "        loss_list.append(loss)\n",
    "        dur_list.append(time.time() - t0)\n",
    "        \n",
    "        if (epoch+1) % 100 == 0:\n",
    "            #acc = evaluate(net, g, features, labels, test_mask)\n",
    "            print(\"Epoch {:04d} | MAE_Loss {:.4f}\".format(epoch+1, loss.item())) "
   ]
  },
  {
   "cell_type": "code",
   "execution_count": 46,
   "metadata": {},
   "outputs": [
    {
     "name": "stdout",
     "output_type": "stream",
     "text": [
      "Epoch 0100 | MAE_Loss 0.0083\n",
      "Epoch 0200 | MAE_Loss 0.0045\n",
      "Epoch 0300 | MAE_Loss 0.0075\n",
      "Epoch 0400 | MAE_Loss 0.0050\n",
      "Epoch 0500 | MAE_Loss 0.0042\n",
      "Epoch 0600 | MAE_Loss 0.0030\n",
      "Epoch 0700 | MAE_Loss 0.0037\n",
      "Epoch 0800 | MAE_Loss 0.0013\n",
      "Epoch 0900 | MAE_Loss 0.0021\n",
      "Epoch 1000 | MAE_Loss 0.0018\n",
      "Epoch 1100 | MAE_Loss 0.0036\n"
     ]
    }
   ],
   "source": [
    "RNN_Model = RNNs(7, 14, 1,2);RNN_Loss_list=[];RNN_Loss_list.clear();RNN_Dur_list=[]\n",
    "rnn_trainer(RNN_Model,train_x,train_y,1150,th.optim.Adam(RNN_Model.parameters(), lr=1e-3),nn.L1Loss(),RNN_Loss_list,RNN_Dur_list)"
   ]
  },
  {
   "cell_type": "code",
   "execution_count": 47,
   "metadata": {},
   "outputs": [
    {
     "name": "stderr",
     "output_type": "stream",
     "text": [
      "No handles with labels found to put in legend.\n"
     ]
    },
    {
     "data": {
      "text/plain": [
       "<matplotlib.legend.Legend at 0x17c0c5a13a0>"
      ]
     },
     "execution_count": 47,
     "metadata": {},
     "output_type": "execute_result"
    },
    {
     "data": {
      "image/png": "[encoded data removed]",
      "text/plain": [
       "<Figure size 432x288 with 1 Axes>"
      ]
     },
     "metadata": {},
     "output_type": "display_data"
    }
   ],
   "source": [
    "RNN_Loss_list_numpy =[]\n",
    "for i in RNN_Loss_list:\n",
    "    RNN_Loss_list_numpy.append(i.detach().numpy())\n",
    "    \n",
    "plt.style.use('ggplot')\n",
    "plt.plot(RNN_Loss_list_numpy)\n",
    "plt.xlabel('Epoch')\n",
    "plt.ylabel('MAE Loss')\n",
    "plt.title('RNN Train Loss')\n",
    "plt.legend()"
   ]
  },
  {
   "cell_type": "code",
   "execution_count": 48,
   "metadata": {},
   "outputs": [
    {
     "data": {
      "text/plain": [
       "0.005378749681555706"
      ]
     },
     "execution_count": 48,
     "metadata": {},
     "output_type": "execute_result"
    }
   ],
   "source": [
    "mean_losslist(RNN_Loss_list_numpy)"
   ]
  },
  {
   "cell_type": "code",
   "execution_count": 49,
   "metadata": {},
   "outputs": [],
   "source": [
    "def rnn_tester(network,test_input,test_label,criterion,loss_list):\n",
    "    loss = criterion(network(test_input),test_label)\n",
    "    loss_list.append(loss)"
   ]
  },
  {
   "cell_type": "code",
   "execution_count": 50,
   "metadata": {},
   "outputs": [],
   "source": [
    "RNN_test_loss_list=[];RNN_test_loss_list.clear()\n",
    "rnn_tester(RNN_Model,test_x,test_y,nn.L1Loss(),RNN_test_loss_list)"
   ]
  },
  {
   "cell_type": "code",
   "execution_count": 51,
   "metadata": {},
   "outputs": [
    {
     "data": {
      "text/plain": [
       "0.003057378577068448"
      ]
     },
     "execution_count": 51,
     "metadata": {},
     "output_type": "execute_result"
    }
   ],
   "source": [
    "RNN_test_loss_list_numpy = []\n",
    "for i in RNN_test_loss_list:\n",
    "    RNN_test_loss_list_numpy.append(i.detach().numpy())\n",
    "mean_losslist(RNN_test_loss_list_numpy)"
   ]
  },
  {
   "cell_type": "markdown",
   "metadata": {},
   "source": [
    "## LSTM"
   ]
  },
  {
   "cell_type": "code",
   "execution_count": 52,
   "metadata": {},
   "outputs": [],
   "source": [
    "class LSTMs(nn.Module):\n",
    "    def __init__(self, input_dim, hidden_dim, out_dim, layers, dropout=0):\n",
    "        super(LSTMs,self).__init__()\n",
    "\n",
    "        self.lstm = nn.LSTM(input_size=input_dim, hidden_size=hidden_dim, num_layers=layers, dropout=dropout)\n",
    "        self.linear = nn.Linear(hidden_dim, out_dim)\n",
    "\n",
    "\n",
    "    def forward(self, x):\n",
    "        out, hidden = self.lstm(x)\n",
    "        channel_size,city_size,period_size = out.shape\n",
    "        out = out.view(channel_size*city_size,period_size)\n",
    "        out = self.linear(out)\n",
    "        out = out.view(channel_size,city_size,-1)\n",
    "        return out"
   ]
  },
  {
   "cell_type": "code",
   "execution_count": 53,
   "metadata": {},
   "outputs": [],
   "source": [
    "LSTM_Model=LSTMs(7,14,1,2)"
   ]
  },
  {
   "cell_type": "code",
   "execution_count": 54,
   "metadata": {},
   "outputs": [],
   "source": [
    "def lstm_trainer(network,input_data,label_data,training_times,\n",
    "                optimizer,criterion,loss_list,dur_list):\n",
    "\n",
    "    #loss_list = loss_list\n",
    "    #network = network\n",
    "\n",
    "    for epoch in range(training_times):\n",
    "        t0 = time.time()\n",
    "        network.train()\n",
    "        out = network(input_data)          \n",
    "        \n",
    "        #criterion = criterion\n",
    "        loss = criterion(out,label_data)\n",
    "        \n",
    "        #optimizer = optimizer\n",
    "        optimizer.zero_grad()\n",
    "        loss.backward()\n",
    "        optimizer.step()\n",
    "\n",
    "        loss_list.append(loss)\n",
    "        dur_list.append(time.time() - t0)\n",
    "        \n",
    "        if (epoch+1) % 100 == 0:\n",
    "            #acc = evaluate(net, g, features, labels, test_mask)\n",
    "            print(\"Epoch {:04d} | MAE_Loss {:.4f}\".format(epoch+1, loss.item())) "
   ]
  },
  {
   "cell_type": "code",
   "execution_count": 55,
   "metadata": {},
   "outputs": [
    {
     "name": "stdout",
     "output_type": "stream",
     "text": [
      "Epoch 0100 | MAE_Loss 0.0067\n",
      "Epoch 0200 | MAE_Loss 0.0031\n",
      "Epoch 0300 | MAE_Loss 0.0020\n",
      "Epoch 0400 | MAE_Loss 0.0019\n",
      "Epoch 0500 | MAE_Loss 0.0017\n",
      "Epoch 0600 | MAE_Loss 0.0014\n",
      "Epoch 0700 | MAE_Loss 0.0020\n",
      "Epoch 0800 | MAE_Loss 0.0023\n",
      "Epoch 0900 | MAE_Loss 0.0021\n",
      "Epoch 1000 | MAE_Loss 0.0008\n",
      "Epoch 1100 | MAE_Loss 0.0013\n"
     ]
    }
   ],
   "source": [
    "LSTM_Loss_list=[];LSTM_Loss_list.clear();LSTM_Dur_list=[]\n",
    "lstm_trainer(LSTM_Model,train_x,train_y,1150,th.optim.Adam(LSTM_Model.parameters(), lr=1e-3),nn.L1Loss(),LSTM_Loss_list,LSTM_Dur_list)"
   ]
  },
  {
   "cell_type": "code",
   "execution_count": 56,
   "metadata": {},
   "outputs": [
    {
     "name": "stderr",
     "output_type": "stream",
     "text": [
      "No handles with labels found to put in legend.\n"
     ]
    },
    {
     "data": {
      "text/plain": [
       "<matplotlib.legend.Legend at 0x17c10c2ef10>"
      ]
     },
     "execution_count": 56,
     "metadata": {},
     "output_type": "execute_result"
    },
    {
     "data": {
      "image/png": "[encoded data removed]",
      "text/plain": [
       "<Figure size 432x288 with 1 Axes>"
      ]
     },
     "metadata": {},
     "output_type": "display_data"
    }
   ],
   "source": [
    "LSTM_Loss_list_numpy = []\n",
    "for i in LSTM_Loss_list:\n",
    "    LSTM_Loss_list_numpy.append(i.detach().numpy())\n",
    "\n",
    "plt.style.use('ggplot')\n",
    "plt.plot(LSTM_Loss_list_numpy)\n",
    "plt.xlabel('Epoch')\n",
    "plt.ylabel('MAE Loss')\n",
    "plt.title('LSTM Train Loss')\n",
    "plt.legend()"
   ]
  },
  {
   "cell_type": "code",
   "execution_count": 57,
   "metadata": {},
   "outputs": [
    {
     "data": {
      "text/plain": [
       "0.0029094515676083774"
      ]
     },
     "execution_count": 57,
     "metadata": {},
     "output_type": "execute_result"
    }
   ],
   "source": [
    "mean_losslist(LSTM_Loss_list_numpy)"
   ]
  },
  {
   "cell_type": "code",
   "execution_count": 58,
   "metadata": {},
   "outputs": [],
   "source": [
    "def lstm_tester(network,test_input,test_label,criterion,loss_list):\n",
    "    loss = criterion(network(test_input),test_label)\n",
    "    loss_list.append(loss)"
   ]
  },
  {
   "cell_type": "code",
   "execution_count": 59,
   "metadata": {},
   "outputs": [],
   "source": [
    "LSTM_test_loss_list=[];LSTM_test_loss_list.clear()\n",
    "lstm_tester(LSTM_Model,test_x,test_y,nn.L1Loss(),LSTM_test_loss_list)"
   ]
  },
  {
   "cell_type": "code",
   "execution_count": 60,
   "metadata": {},
   "outputs": [
    {
     "data": {
      "text/plain": [
       "0.0010546263074502349"
      ]
     },
     "execution_count": 60,
     "metadata": {},
     "output_type": "execute_result"
    }
   ],
   "source": [
    "LSTM_test_loss_list_numpy = []\n",
    "for i in LSTM_test_loss_list:\n",
    "    LSTM_test_loss_list_numpy.append(i.detach().numpy())\n",
    "mean_losslist(LSTM_test_loss_list_numpy)"
   ]
  },
  {
   "cell_type": "markdown",
   "metadata": {},
   "source": [
    "## GRU"
   ]
  },
  {
   "cell_type": "code",
   "execution_count": 61,
   "metadata": {},
   "outputs": [],
   "source": [
    "class GRUs(nn.Module):\n",
    "    def __init__(self, input_dim, hidden_dim, out_dim, layers, dropout=0):\n",
    "        super(GRUs,self).__init__()\n",
    "\n",
    "        self.lstm = nn.GRU(input_size=input_dim, hidden_size=hidden_dim, num_layers=layers, dropout=dropout)\n",
    "        self.linear = nn.Linear(hidden_dim, out_dim)\n",
    "\n",
    "\n",
    "    def forward(self, x):\n",
    "        out, hidden = self.lstm(x)\n",
    "        channel_size,city_size,period_size = out.shape\n",
    "        out = out.view(channel_size*city_size,period_size)\n",
    "        out = self.linear(out)\n",
    "        out = out.view(channel_size,city_size,-1)\n",
    "        return out"
   ]
  },
  {
   "cell_type": "code",
   "execution_count": 62,
   "metadata": {},
   "outputs": [],
   "source": [
    "GRU_Model=GRUs(7,14,1,2)"
   ]
  },
  {
   "cell_type": "code",
   "execution_count": 63,
   "metadata": {},
   "outputs": [],
   "source": [
    "def gru_trainer(network,input_data,label_data,training_times,\n",
    "                optimizer,criterion,loss_list,dur_list):\n",
    "\n",
    "    #loss_list = loss_list\n",
    "    #network = network\n",
    "\n",
    "    for epoch in range(training_times):\n",
    "        t0 = time.time()\n",
    "        network.train()\n",
    "        out = network(input_data)          \n",
    "        \n",
    "        #criterion = criterion\n",
    "        loss = criterion(out,label_data)\n",
    "        \n",
    "        #optimizer = optimizer\n",
    "        optimizer.zero_grad()\n",
    "        loss.backward()\n",
    "        optimizer.step()\n",
    "\n",
    "        loss_list.append(loss)\n",
    "        dur_list.append(time.time() - t0)\n",
    "        \n",
    "        if (epoch+1) % 100 == 0:\n",
    "            #acc = evaluate(net, g, features, labels, test_mask)\n",
    "            print(\"Epoch {:04d} | MAE_Loss {:.4f}\".format(epoch+1, loss.item())) "
   ]
  },
  {
   "cell_type": "code",
   "execution_count": 64,
   "metadata": {},
   "outputs": [
    {
     "name": "stdout",
     "output_type": "stream",
     "text": [
      "Epoch 0100 | MAE_Loss 0.0068\n",
      "Epoch 0200 | MAE_Loss 0.0035\n",
      "Epoch 0300 | MAE_Loss 0.0036\n",
      "Epoch 0400 | MAE_Loss 0.0034\n",
      "Epoch 0500 | MAE_Loss 0.0034\n",
      "Epoch 0600 | MAE_Loss 0.0040\n",
      "Epoch 0700 | MAE_Loss 0.0025\n",
      "Epoch 0800 | MAE_Loss 0.0014\n",
      "Epoch 0900 | MAE_Loss 0.0016\n",
      "Epoch 1000 | MAE_Loss 0.0033\n",
      "Epoch 1100 | MAE_Loss 0.0022\n"
     ]
    }
   ],
   "source": [
    "GRU_Loss_list=[];GRU_Loss_list.clear();GRU_Dur_list=[]\n",
    "gru_trainer(GRU_Model,train_x,train_y,1150,th.optim.Adam(GRU_Model.parameters(), lr=1e-3),nn.L1Loss(),GRU_Loss_list,GRU_Dur_list)"
   ]
  },
  {
   "cell_type": "code",
   "execution_count": 65,
   "metadata": {},
   "outputs": [
    {
     "name": "stderr",
     "output_type": "stream",
     "text": [
      "No handles with labels found to put in legend.\n"
     ]
    },
    {
     "data": {
      "text/plain": [
       "<matplotlib.legend.Legend at 0x17c10eec910>"
      ]
     },
     "execution_count": 65,
     "metadata": {},
     "output_type": "execute_result"
    },
    {
     "data": {
      "image/png": "[encoded data removed]",
      "text/plain": [
       "<Figure size 432x288 with 1 Axes>"
      ]
     },
     "metadata": {},
     "output_type": "display_data"
    }
   ],
   "source": [
    "GRU_Loss_list_numpy = []\n",
    "for i in GRU_Loss_list:\n",
    "    GRU_Loss_list_numpy.append(i.detach().numpy())\n",
    "\n",
    "plt.style.use('ggplot')\n",
    "plt.plot(GRU_Loss_list_numpy)\n",
    "plt.xlabel('Epoch')\n",
    "plt.ylabel('MAE Loss')\n",
    "plt.title('GRU Train Loss')\n",
    "plt.legend()"
   ]
  },
  {
   "cell_type": "code",
   "execution_count": 66,
   "metadata": {},
   "outputs": [
    {
     "data": {
      "text/plain": [
       "0.005043563842773438"
      ]
     },
     "execution_count": 66,
     "metadata": {},
     "output_type": "execute_result"
    }
   ],
   "source": [
    "mean_losslist(GRU_Loss_list_numpy)"
   ]
  },
  {
   "cell_type": "code",
   "execution_count": 67,
   "metadata": {},
   "outputs": [],
   "source": [
    "def gru_tester(network,test_input,test_label,criterion,loss_list):\n",
    "    loss = criterion(network(test_input),test_label)\n",
    "    loss_list.append(loss)"
   ]
  },
  {
   "cell_type": "code",
   "execution_count": 68,
   "metadata": {},
   "outputs": [],
   "source": [
    "GRU_test_loss_list=[];GRU_test_loss_list.clear()\n",
    "gru_tester(GRU_Model,test_x,test_y,nn.L1Loss(),GRU_test_loss_list)"
   ]
  },
  {
   "cell_type": "code",
   "execution_count": 69,
   "metadata": {},
   "outputs": [
    {
     "data": {
      "text/plain": [
       "0.0014326284872367978"
      ]
     },
     "execution_count": 69,
     "metadata": {},
     "output_type": "execute_result"
    }
   ],
   "source": [
    "GRU_test_loss_list_numpy = []\n",
    "for i in GRU_test_loss_list:\n",
    "    GRU_test_loss_list_numpy.append(i.detach().numpy())\n",
    "    \n",
    "mean_losslist(GRU_test_loss_list_numpy)"
   ]
  },
  {
   "cell_type": "markdown",
   "metadata": {},
   "source": [
    "## 综合分析"
   ]
  },
  {
   "cell_type": "code",
   "execution_count": 70,
   "metadata": {},
   "outputs": [
    {
     "data": {
      "image/png": "[encoded data removed]",
      "text/plain": [
       "<Figure size 432x288 with 1 Axes>"
      ]
     },
     "metadata": {},
     "output_type": "display_data"
    }
   ],
   "source": [
    "plt.style.use('ggplot')\n",
    "plt.plot(QCGCN_Loss_list_numpy[50:],label='QCGCN')\n",
    "plt.plot(LCGCN_Loss_list_numpy[50:],label='LCGCN')\n",
    "plt.plot(LFGCN_Loss_list_numpy[50:],label='LFGCN')\n",
    "plt.plot(QFGCN_Loss_list_numpy[50:],label='QFGCN')\n",
    "plt.plot(RNN_Loss_list_numpy[50:],label='RNN')\n",
    "plt.plot(GRU_Loss_list_numpy[50:],label='GRU')\n",
    "plt.plot(LSTM_Loss_list_numpy[50:],label='LSTM')\n",
    "\n",
    "plt.title('Changes of MAE (record after the 50th traning)')\n",
    "plt.xlabel('Epoch')\n",
    "plt.ylabel('MAE Loss')\n",
    "plt.legend(loc=1)\n",
    "plt.show()"
   ]
  },
  {
   "cell_type": "code",
   "execution_count": 71,
   "metadata": {},
   "outputs": [
    {
     "data": {
      "text/plain": [
       "[tensor(0.0010, grad_fn=<L1LossBackward>),\n",
       " tensor(0.0010, grad_fn=<L1LossBackward>),\n",
       " tensor(0.0010, grad_fn=<L1LossBackward>),\n",
       " tensor(0.0010, grad_fn=<L1LossBackward>),\n",
       " tensor(0.0010, grad_fn=<L1LossBackward>),\n",
       " tensor(0.0010, grad_fn=<L1LossBackward>),\n",
       " tensor(0.0010, grad_fn=<L1LossBackward>),\n",
       " tensor(0.0010, grad_fn=<L1LossBackward>),\n",
       " tensor(0.0010, grad_fn=<L1LossBackward>),\n",
       " tensor(0.0010, grad_fn=<L1LossBackward>),\n",
       " tensor(0.0010, grad_fn=<L1LossBackward>),\n",
       " tensor(0.0010, grad_fn=<L1LossBackward>),\n",
       " tensor(0.0009, grad_fn=<L1LossBackward>),\n",
       " tensor(0.0010, grad_fn=<L1LossBackward>),\n",
       " tensor(0.0010, grad_fn=<L1LossBackward>),\n",
       " tensor(0.0010, grad_fn=<L1LossBackward>),\n",
       " tensor(0.0010, grad_fn=<L1LossBackward>),\n",
       " tensor(0.0010, grad_fn=<L1LossBackward>),\n",
       " tensor(0.0010, grad_fn=<L1LossBackward>),\n",
       " tensor(0.0009, grad_fn=<L1LossBackward>),\n",
       " tensor(0.0010, grad_fn=<L1LossBackward>),\n",
       " tensor(0.0009, grad_fn=<L1LossBackward>),\n",
       " tensor(0.0010, grad_fn=<L1LossBackward>),\n",
       " tensor(0.0009, grad_fn=<L1LossBackward>),\n",
       " tensor(0.0009, grad_fn=<L1LossBackward>),\n",
       " tensor(0.0010, grad_fn=<L1LossBackward>),\n",
       " tensor(0.0009, grad_fn=<L1LossBackward>),\n",
       " tensor(0.0009, grad_fn=<L1LossBackward>),\n",
       " tensor(0.0010, grad_fn=<L1LossBackward>),\n",
       " tensor(0.0010, grad_fn=<L1LossBackward>),\n",
       " tensor(0.0009, grad_fn=<L1LossBackward>),\n",
       " tensor(0.0009, grad_fn=<L1LossBackward>),\n",
       " tensor(0.0010, grad_fn=<L1LossBackward>),\n",
       " tensor(0.0009, grad_fn=<L1LossBackward>),\n",
       " tensor(0.0009, grad_fn=<L1LossBackward>),\n",
       " tensor(0.0009, grad_fn=<L1LossBackward>),\n",
       " tensor(0.0010, grad_fn=<L1LossBackward>),\n",
       " tensor(0.0009, grad_fn=<L1LossBackward>),\n",
       " tensor(0.0010, grad_fn=<L1LossBackward>),\n",
       " tensor(0.0010, grad_fn=<L1LossBackward>),\n",
       " tensor(0.0009, grad_fn=<L1LossBackward>),\n",
       " tensor(0.0009, grad_fn=<L1LossBackward>),\n",
       " tensor(0.0010, grad_fn=<L1LossBackward>),\n",
       " tensor(0.0010, grad_fn=<L1LossBackward>),\n",
       " tensor(0.0010, grad_fn=<L1LossBackward>),\n",
       " tensor(0.0010, grad_fn=<L1LossBackward>),\n",
       " tensor(0.0010, grad_fn=<L1LossBackward>),\n",
       " tensor(0.0009, grad_fn=<L1LossBackward>),\n",
       " tensor(0.0010, grad_fn=<L1LossBackward>),\n",
       " tensor(0.0010, grad_fn=<L1LossBackward>),\n",
       " tensor(0.0010, grad_fn=<L1LossBackward>),\n",
       " tensor(0.0010, grad_fn=<L1LossBackward>),\n",
       " tensor(0.0010, grad_fn=<L1LossBackward>),\n",
       " tensor(0.0010, grad_fn=<L1LossBackward>),\n",
       " tensor(0.0010, grad_fn=<L1LossBackward>),\n",
       " tensor(0.0010, grad_fn=<L1LossBackward>),\n",
       " tensor(0.0010, grad_fn=<L1LossBackward>),\n",
       " tensor(0.0010, grad_fn=<L1LossBackward>),\n",
       " tensor(0.0010, grad_fn=<L1LossBackward>),\n",
       " tensor(0.0010, grad_fn=<L1LossBackward>),\n",
       " tensor(0.0010, grad_fn=<L1LossBackward>),\n",
       " tensor(0.0010, grad_fn=<L1LossBackward>),\n",
       " tensor(0.0010, grad_fn=<L1LossBackward>),\n",
       " tensor(0.0010, grad_fn=<L1LossBackward>),\n",
       " tensor(0.0010, grad_fn=<L1LossBackward>),\n",
       " tensor(0.0010, grad_fn=<L1LossBackward>),\n",
       " tensor(0.0010, grad_fn=<L1LossBackward>),\n",
       " tensor(0.0010, grad_fn=<L1LossBackward>),\n",
       " tensor(0.0010, grad_fn=<L1LossBackward>),\n",
       " tensor(0.0010, grad_fn=<L1LossBackward>),\n",
       " tensor(0.0010, grad_fn=<L1LossBackward>),\n",
       " tensor(0.0010, grad_fn=<L1LossBackward>),\n",
       " tensor(0.0010, grad_fn=<L1LossBackward>)]"
      ]
     },
     "execution_count": 71,
     "metadata": {},
     "output_type": "execute_result"
    }
   ],
   "source": [
    "QCGCN_test_loss_list"
   ]
  },
  {
   "cell_type": "code",
   "execution_count": 72,
   "metadata": {},
   "outputs": [
    {
     "data": {
      "text/plain": [
       "<matplotlib.legend.Legend at 0x17c13d5de80>"
      ]
     },
     "execution_count": 72,
     "metadata": {},
     "output_type": "execute_result"
    },
    {
     "data": {
      "image/png": "[encoded data removed]",
      "text/plain": [
       "<Figure size 432x288 with 1 Axes>"
      ]
     },
     "metadata": {},
     "output_type": "display_data"
    }
   ],
   "source": [
    "plt.plot(QCGCN_test_loss_list_numpy,label='GPGCN')\n",
    "plt.plot(LCGCN_test_loss_list_numpy,label='HSRGCN')\n",
    "plt.plot(LFGCN_test_loss_list_numpy,label='ALGCN')\n",
    "plt.plot(QFGCN_test_loss_list_numpy,label='ALHSRGCN')\n",
    "plt.plot(RNN_test_loss_list_numpy,label='RNN')\n",
    "plt.plot(GRU_test_loss_list_numpy,label='GRU')\n",
    "plt.plot(LSTM_test_loss_list_numpy,label='LSTM')\n",
    "\n",
    "plt.xlabel('Epoch')\n",
    "plt.ylabel('MAE Loss')\n",
    "#plt.ylim(0.000,0.4)\n",
    "plt.title('MAE on Test Set after 1150 trainings')\n",
    "plt.legend()"
   ]
  },
  {
   "cell_type": "code",
   "execution_count": 73,
   "metadata": {},
   "outputs": [
    {
     "data": {
      "text/plain": [
       "(63.19436836242676, 215.74285674095154, 210.378986120224)"
      ]
     },
     "execution_count": 73,
     "metadata": {},
     "output_type": "execute_result"
    }
   ],
   "source": [
    "RNN_During,LSTM_During,GRU_During=np.sum(RNN_Dur_list),np.sum(LSTM_Dur_list),np.sum(GRU_Dur_list)\n",
    "RNN_During,LSTM_During,GRU_During"
   ]
  },
  {
   "cell_type": "code",
   "execution_count": 74,
   "metadata": {},
   "outputs": [],
   "source": [
    "MAE_LIST=[mean_losslist(QCGCN_test_loss_list_numpy).item(),\n",
    " mean_losslist(LCGCN_test_loss_list_numpy).item(),\n",
    " mean_losslist(LFGCN_test_loss_list_numpy).item(),\n",
    " mean_losslist(QFGCN_test_loss_list_numpy).item(),\n",
    "           mean_losslist(RNN_test_loss_list_numpy).item(),\n",
    "          mean_losslist(GRU_test_loss_list_numpy).item(),\n",
    "           mean_losslist(LSTM_test_loss_list_numpy).item()]\n",
    "DUR_LIST=[QCGCN_During,LCGCN_During,LFGCN_During,QFGCN_During,RNN_During,GRU_During,LSTM_During]\n",
    "NAME_LIST=['QC GCN','LC GCN',\"LF GCN\",\"QF GCN\",'RNN','GRU','LSTM']"
   ]
  },
  {
   "cell_type": "code",
   "execution_count": 75,
   "metadata": {},
   "outputs": [
    {
     "data": {
      "text/plain": [
       "(7, 7, 7)"
      ]
     },
     "execution_count": 75,
     "metadata": {},
     "output_type": "execute_result"
    }
   ],
   "source": [
    "len(MAE_LIST),len(DUR_LIST),len(NAME_LIST)"
   ]
  },
  {
   "cell_type": "code",
   "execution_count": 76,
   "metadata": {
    "scrolled": true
   },
   "outputs": [
    {
     "data": {
      "text/html": [
       "<div>\n",
       "<style scoped>\n",
       "    .dataframe tbody tr th:only-of-type {\n",
       "        vertical-align: middle;\n",
       "    }\n",
       "\n",
       "    .dataframe tbody tr th {\n",
       "        vertical-align: top;\n",
       "    }\n",
       "\n",
       "    .dataframe thead th {\n",
       "        text-align: right;\n",
       "    }\n",
       "</style>\n",
       "<table border=\"1\" class=\"dataframe\">\n",
       "  <thead>\n",
       "    <tr style=\"text-align: right;\">\n",
       "      <th></th>\n",
       "      <th>MAE</th>\n",
       "      <th>DUR</th>\n",
       "      <th>NAME</th>\n",
       "    </tr>\n",
       "    <tr>\n",
       "      <th>NAME</th>\n",
       "      <th></th>\n",
       "      <th></th>\n",
       "      <th></th>\n",
       "    </tr>\n",
       "  </thead>\n",
       "  <tbody>\n",
       "    <tr>\n",
       "      <th>QC GCN</th>\n",
       "      <td>0.000966</td>\n",
       "      <td>16.689154</td>\n",
       "      <td>QC GCN</td>\n",
       "    </tr>\n",
       "    <tr>\n",
       "      <th>LC GCN</th>\n",
       "      <td>0.000339</td>\n",
       "      <td>17.065494</td>\n",
       "      <td>LC GCN</td>\n",
       "    </tr>\n",
       "    <tr>\n",
       "      <th>LF GCN</th>\n",
       "      <td>0.000643</td>\n",
       "      <td>17.595954</td>\n",
       "      <td>LF GCN</td>\n",
       "    </tr>\n",
       "    <tr>\n",
       "      <th>QF GCN</th>\n",
       "      <td>0.000518</td>\n",
       "      <td>18.811075</td>\n",
       "      <td>QF GCN</td>\n",
       "    </tr>\n",
       "    <tr>\n",
       "      <th>RNN</th>\n",
       "      <td>0.003057</td>\n",
       "      <td>63.194368</td>\n",
       "      <td>RNN</td>\n",
       "    </tr>\n",
       "    <tr>\n",
       "      <th>GRU</th>\n",
       "      <td>0.001433</td>\n",
       "      <td>210.378986</td>\n",
       "      <td>GRU</td>\n",
       "    </tr>\n",
       "    <tr>\n",
       "      <th>LSTM</th>\n",
       "      <td>0.001055</td>\n",
       "      <td>215.742857</td>\n",
       "      <td>LSTM</td>\n",
       "    </tr>\n",
       "  </tbody>\n",
       "</table>\n",
       "</div>"
      ],
      "text/plain": [
       "             MAE         DUR    NAME\n",
       "NAME                                \n",
       "QC GCN  0.000966   16.689154  QC GCN\n",
       "LC GCN  0.000339   17.065494  LC GCN\n",
       "LF GCN  0.000643   17.595954  LF GCN\n",
       "QF GCN  0.000518   18.811075  QF GCN\n",
       "RNN     0.003057   63.194368     RNN\n",
       "GRU     0.001433  210.378986     GRU\n",
       "LSTM    0.001055  215.742857    LSTM"
      ]
     },
     "execution_count": 76,
     "metadata": {},
     "output_type": "execute_result"
    }
   ],
   "source": [
    "MAEDUR_dict={'MAE':MAE_LIST,'DUR':DUR_LIST,'NAME':NAME_LIST}\n",
    "MAEDUR=pd.DataFrame(MAEDUR_dict)\n",
    "MAEDUR=MAEDUR.set_index(MAEDUR['NAME'])\n",
    "MAEDUR"
   ]
  },
  {
   "cell_type": "code",
   "execution_count": 101,
   "metadata": {
    "scrolled": false
   },
   "outputs": [
    {
     "name": "stderr",
     "output_type": "stream",
     "text": [
      "<ipython-input-101-52fd8891e030>:41: UserWarning: Matplotlib is currently using module://ipykernel.pylab.backend_inline, which is a non-GUI backend, so cannot show the figure.\n",
      "  fig.show()\n"
     ]
    },
    {
     "data": {
      "image/png": "[encoded data removed]",
      "text/plain": [
       "<Figure size 864x576 with 2 Axes>"
      ]
     },
     "metadata": {},
     "output_type": "display_data"
    }
   ],
   "source": [
    "fig,ax=plt.subplots(1,1,figsize=(12,8))\n",
    "plt.xticks(rotation=50,fontsize=24)\n",
    "plt.yticks(fontsize=24)\n",
    "plt.grid(False) \n",
    "ax1=ax.twinx()\n",
    "\n",
    "ax1.plot(MAEDUR['DUR'],color='#4169E1',linewidth=4,label='Total Time Consuming',alpha=0.5,linestyle = '-.')\n",
    "\n",
    "\n",
    "ax.bar(MAEDUR['NAME'],MAEDUR['MAE'],width=0.5,label='Average Normalized MAE',color='#87CEFA',alpha=0.8)\n",
    "#ax.legend(loc='best')\n",
    "\n",
    "plt.yticks(fontsize=24)\n",
    "ax.set_xlabel(r'Deep Learning Method',fontsize=25)\n",
    "ax.set_ylabel(r'Average Normalized MAE',fontsize=25)     #plt.xticks(rotation=50,fontsize=13)\n",
    "\n",
    "\n",
    "\n",
    "ax1.set_ylabel(r'Total Time Consuming',fontsize=25)\n",
    "#plt.legend(loc=2,fontsize=14)\n",
    "\n",
    "\n",
    "legend1=ax.legend(loc=(.02,.885),fontsize=24,shadow=True)\n",
    "legend2=ax1.legend(loc=(.02,.78),fontsize=24,shadow=True)\n",
    "\n",
    "\n",
    "\n",
    "\n",
    "\n",
    "for a,b in zip(MAEDUR.index,MAEDUR['MAE']):\n",
    "    plt.text(a, b, '%.4f' % b, ha='center', va=\"bottom\",fontsize=24)\n",
    "\n",
    "'''\n",
    "for a,b in zip(MAEDUR.index,MAEDUR['DUR']):\n",
    "    plt.text(a, b+0.5, '%.2f' % b, ha='center', va=\"bottom\",fontsize=16)\n",
    "'''\n",
    "\n",
    "\n",
    "plt.title('MAE Loss and Time Consume Comparison on Test Set ',fontsize=27) \n",
    "\n",
    "fig.show()"
   ]
  },
  {
   "cell_type": "code",
   "execution_count": null,
   "metadata": {
    "scrolled": true
   },
   "outputs": [],
   "source": []
  },
  {
   "cell_type": "code",
   "execution_count": null,
   "metadata": {},
   "outputs": [],
   "source": []
  },
  {
   "cell_type": "code",
   "execution_count": null,
   "metadata": {},
   "outputs": [],
   "source": []
  },
  {
   "cell_type": "code",
   "execution_count": null,
   "metadata": {},
   "outputs": [],
   "source": []
  },
  {
   "cell_type": "code",
   "execution_count": null,
   "metadata": {},
   "outputs": [],
   "source": []
  },
  {
   "cell_type": "code",
   "execution_count": null,
   "metadata": {},
   "outputs": [],
   "source": []
  },
  {
   "cell_type": "code",
   "execution_count": null,
   "metadata": {},
   "outputs": [],
   "source": []
  }
 ],
 "metadata": {
  "kernelspec": {
   "display_name": "Python [conda env:pytorch]",
   "language": "python",
   "name": "conda-env-pytorch-py"
  },
  "language_info": {
   "codemirror_mode": {
    "name": "ipython",
    "version": 3
   },
   "file_extension": ".py",
   "mimetype": "text/x-python",
   "name": "python",
   "nbconvert_exporter": "python",
   "pygments_lexer": "ipython3",
   "version": "3.8.8"
  }
 },
 "nbformat": 4,
 "nbformat_minor": 2
}
