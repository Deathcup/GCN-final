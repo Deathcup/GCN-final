{
 "cells": [
  {
   "cell_type": "code",
   "execution_count": 1,
   "metadata": {},
   "outputs": [],
   "source": [
    "import os\n",
    "os.environ[\"KMP_DUPLICATE_LIB_OK\"]=\"TRUE\""
   ]
  },
  {
   "cell_type": "code",
   "execution_count": 2,
   "metadata": {},
   "outputs": [
    {
     "name": "stderr",
     "output_type": "stream",
     "text": [
      "Using backend: pytorch\n"
     ]
    }
   ],
   "source": [
    "import torch as th\n",
    "import torch.nn as nn\n",
    "import dgl\n",
    "from dgl import function as fn\n",
    "import pandas as pd\n",
    "import numpy as np\n",
    "import networkx as nx\n",
    "import matplotlib.pyplot as plt\n",
    "%matplotlib inline\n",
    "from dgl import DGLGraph\n",
    "import torch.nn.functional as F\n",
    "from torch.autograd import Variable\n",
    "import time\n",
    "import seaborn\n",
    "from geopy.distance import geodesic"
   ]
  },
  {
   "cell_type": "markdown",
   "metadata": {},
   "source": [
    "## 实验准备"
   ]
  },
  {
   "cell_type": "code",
   "execution_count": 3,
   "metadata": {},
   "outputs": [],
   "source": [
    "class TAGConv(nn.Module):\n",
    "    def __init__(self,\n",
    "                 in_feats,    \n",
    "                 out_feats,   \n",
    "                 k=2,         \n",
    "                 bias=True,   \n",
    "                 activation=None): \n",
    "        super(TAGConv, self).__init__()   \n",
    "        self._in_feats = in_feats  \n",
    "        self._out_feats = out_feats \n",
    "        self._k = k\n",
    "        self._activation = activation\n",
    "        self.lin = nn.Linear(in_feats * (self._k + 1), out_feats, bias=bias) \n",
    "\n",
    "        self.reset_parameters() \n",
    "\n",
    "\n",
    "    def reset_parameters(self):      \n",
    "        \"\"\"Reinitialize learnable parameters.\"\"\"\n",
    "        gain = nn.init.calculate_gain('relu')     \n",
    "        nn.init.xavier_normal_(self.lin.weight, gain=gain)   \n",
    "\n",
    "        \n",
    "    def forward(self, graph, feat):    \n",
    "        graph = graph.local_var()           \n",
    "        \n",
    "        norm = th.pow(graph.in_degrees().float().clamp(min=1), -0.5) \n",
    "    \n",
    "        \n",
    "        shp = norm.shape + (1,) * (feat.dim() - 1)    \n",
    "        \n",
    "        norm = th.reshape(norm, shp).to(feat.device)  \n",
    "\n",
    "        #D-1/2 A D -1/2 X\n",
    "        fstack = [feat]      \n",
    "        for _ in range(self._k):\n",
    "\n",
    "            rst = fstack[-1] * norm    \n",
    "            \n",
    "            graph.ndata['h'] = rst     \n",
    "\n",
    "            graph.update_all(fn.copy_src(src='h', out='m'),   \n",
    "                             fn.sum(msg='m', out='h'))     \n",
    "           \n",
    "            \n",
    "            rst = graph.ndata['h']     \n",
    "            rst = rst * norm           \n",
    "            fstack.append(rst)         \n",
    "\n",
    "        rst = self.lin(th.cat(fstack, dim=-1))    \n",
    "\n",
    "        if self._activation is not None:\n",
    "            rst = self._activation(rst)             \n",
    "\n",
    "        return rst"
   ]
  },
  {
   "cell_type": "code",
   "execution_count": 4,
   "metadata": {},
   "outputs": [],
   "source": [
    "class GCN(nn.Module):\n",
    "   \n",
    "    def __init__(self,input_dim,hidden_size,num_classes):\n",
    "        super(GCN, self).__init__()\n",
    "        self.gcn1 = TAGConv(input_dim,hidden_size,k=1)\n",
    "        self.gcn2 = TAGConv(hidden_size, num_classes,k=1)\n",
    "        #self.linear = nn.Linear(hidden_size, num_classes)\n",
    "        #self.dropout = nn.Dropout(0.5)\n",
    "        \n",
    "    def forward(self, graph, feature):\n",
    "        h = F.relu(self.gcn1(graph, feature))    #隐藏层运算\n",
    "        h = self.gcn2(graph, h)           #全连接层运算\n",
    "        return h"
   ]
  },
  {
   "cell_type": "code",
   "execution_count": 5,
   "metadata": {},
   "outputs": [
    {
     "data": {
      "text/plain": [
       "array([[1, 1, 1, 1, 1, 1, 1, 1, 1, 1, 1, 1, 1, 1, 1, 1, 1, 1, 1, 1, 1, 1,\n",
       "        1, 1, 1, 1, 1, 1, 1, 1],\n",
       "       [1, 1, 1, 1, 0, 1, 1, 0, 0, 0, 1, 1, 1, 0, 0, 1, 0, 1, 0, 1, 1, 0,\n",
       "        1, 1, 0, 1, 1, 0, 0, 0],\n",
       "       [1, 1, 1, 1, 1, 1, 1, 1, 1, 1, 1, 1, 1, 1, 1, 1, 0, 1, 1, 1, 1, 0,\n",
       "        1, 1, 0, 1, 1, 1, 0, 0],\n",
       "       [1, 1, 1, 1, 1, 1, 1, 1, 1, 1, 1, 1, 1, 1, 1, 1, 1, 1, 1, 1, 1, 1,\n",
       "        1, 1, 1, 1, 1, 1, 1, 1],\n",
       "       [1, 0, 1, 1, 1, 1, 1, 1, 1, 1, 1, 1, 0, 1, 1, 0, 1, 0, 1, 0, 1, 1,\n",
       "        0, 1, 1, 1, 0, 1, 1, 1],\n",
       "       [1, 1, 1, 1, 1, 1, 1, 1, 1, 1, 1, 1, 1, 1, 1, 1, 0, 1, 1, 1, 1, 1,\n",
       "        1, 1, 1, 1, 1, 1, 1, 0],\n",
       "       [1, 1, 1, 1, 1, 1, 1, 1, 1, 0, 1, 1, 1, 1, 1, 1, 0, 1, 1, 1, 1, 1,\n",
       "        1, 1, 0, 1, 1, 1, 1, 0],\n",
       "       [1, 0, 1, 1, 1, 1, 1, 1, 1, 1, 1, 0, 0, 1, 1, 1, 1, 0, 1, 0, 1, 1,\n",
       "        1, 1, 1, 1, 0, 1, 1, 1],\n",
       "       [1, 0, 1, 1, 1, 1, 1, 1, 1, 1, 1, 0, 1, 1, 1, 1, 0, 1, 1, 1, 1, 1,\n",
       "        1, 1, 1, 1, 1, 1, 1, 0],\n",
       "       [1, 0, 1, 1, 1, 1, 0, 1, 1, 1, 1, 0, 0, 1, 1, 0, 1, 0, 1, 0, 0, 1,\n",
       "        0, 1, 1, 1, 0, 1, 1, 1],\n",
       "       [1, 1, 1, 1, 1, 1, 1, 1, 1, 1, 1, 1, 1, 1, 1, 1, 1, 1, 1, 1, 1, 1,\n",
       "        1, 1, 1, 1, 1, 1, 1, 1],\n",
       "       [1, 1, 1, 1, 1, 1, 1, 0, 0, 0, 1, 1, 1, 1, 0, 1, 0, 1, 1, 1, 1, 1,\n",
       "        1, 1, 0, 1, 1, 0, 1, 1],\n",
       "       [1, 1, 1, 1, 0, 1, 1, 0, 1, 0, 1, 1, 1, 1, 0, 1, 0, 1, 1, 1, 1, 0,\n",
       "        1, 1, 0, 1, 1, 0, 1, 0],\n",
       "       [1, 0, 1, 1, 1, 1, 1, 1, 1, 1, 1, 1, 1, 1, 1, 1, 1, 1, 1, 1, 1, 1,\n",
       "        1, 1, 1, 1, 1, 1, 1, 1],\n",
       "       [1, 0, 1, 1, 1, 1, 1, 1, 1, 1, 1, 0, 0, 1, 1, 1, 1, 0, 1, 0, 1, 1,\n",
       "        1, 1, 1, 1, 0, 1, 1, 1],\n",
       "       [1, 1, 1, 1, 0, 1, 1, 1, 1, 0, 1, 1, 1, 1, 1, 1, 0, 1, 1, 1, 1, 0,\n",
       "        1, 1, 0, 1, 1, 0, 0, 0],\n",
       "       [1, 0, 0, 1, 1, 0, 0, 1, 0, 1, 1, 0, 0, 1, 1, 0, 1, 0, 1, 0, 0, 1,\n",
       "        0, 1, 1, 0, 0, 1, 1, 1],\n",
       "       [1, 1, 1, 1, 0, 1, 1, 0, 1, 0, 1, 1, 1, 1, 0, 1, 0, 1, 1, 1, 1, 0,\n",
       "        1, 1, 0, 1, 1, 0, 1, 0],\n",
       "       [1, 0, 1, 1, 1, 1, 1, 1, 1, 1, 1, 1, 1, 1, 1, 1, 1, 1, 1, 1, 1, 1,\n",
       "        1, 1, 1, 1, 1, 1, 1, 1],\n",
       "       [1, 1, 1, 1, 0, 1, 1, 0, 1, 0, 1, 1, 1, 1, 0, 1, 0, 1, 1, 1, 1, 0,\n",
       "        1, 1, 0, 1, 1, 0, 0, 0],\n",
       "       [1, 1, 1, 1, 1, 1, 1, 1, 1, 0, 1, 1, 1, 1, 1, 1, 0, 1, 1, 1, 1, 1,\n",
       "        1, 1, 0, 1, 1, 1, 1, 0],\n",
       "       [1, 0, 0, 1, 1, 1, 1, 1, 1, 1, 1, 1, 0, 1, 1, 0, 1, 0, 1, 0, 1, 1,\n",
       "        0, 1, 1, 1, 0, 1, 1, 1],\n",
       "       [1, 1, 1, 1, 0, 1, 1, 1, 1, 0, 1, 1, 1, 1, 1, 1, 0, 1, 1, 1, 1, 0,\n",
       "        1, 1, 0, 1, 1, 0, 0, 0],\n",
       "       [1, 1, 1, 1, 1, 1, 1, 1, 1, 1, 1, 1, 1, 1, 1, 1, 1, 1, 1, 1, 1, 1,\n",
       "        1, 1, 1, 1, 1, 1, 1, 1],\n",
       "       [1, 0, 0, 1, 1, 1, 0, 1, 1, 1, 1, 0, 0, 1, 1, 0, 1, 0, 1, 0, 0, 1,\n",
       "        0, 1, 1, 1, 0, 1, 1, 1],\n",
       "       [1, 1, 1, 1, 1, 1, 1, 1, 1, 1, 1, 1, 1, 1, 1, 1, 0, 1, 1, 1, 1, 1,\n",
       "        1, 1, 1, 1, 1, 1, 1, 1],\n",
       "       [1, 1, 1, 1, 0, 1, 1, 0, 1, 0, 1, 1, 1, 1, 0, 1, 0, 1, 1, 1, 1, 0,\n",
       "        1, 1, 0, 1, 1, 0, 0, 0],\n",
       "       [1, 0, 1, 1, 1, 1, 1, 1, 1, 1, 1, 0, 0, 1, 1, 0, 1, 0, 1, 0, 1, 1,\n",
       "        0, 1, 1, 1, 0, 1, 1, 1],\n",
       "       [1, 0, 0, 1, 1, 1, 1, 1, 1, 1, 1, 1, 1, 1, 1, 0, 1, 1, 1, 0, 1, 1,\n",
       "        0, 1, 1, 1, 0, 1, 1, 1],\n",
       "       [1, 0, 0, 1, 1, 0, 0, 1, 0, 1, 1, 1, 0, 1, 1, 0, 1, 0, 1, 0, 0, 1,\n",
       "        0, 1, 1, 1, 0, 1, 1, 1]])"
      ]
     },
     "execution_count": 5,
     "metadata": {},
     "output_type": "execute_result"
    }
   ],
   "source": [
    "relation1 = np.loadtxt(fname=\"data/relation1.csv\", dtype=int, delimiter=\",\")\n",
    "city_or_area_num = len(relation1)\n",
    "relation1"
   ]
  },
  {
   "cell_type": "code",
   "execution_count": 6,
   "metadata": {},
   "outputs": [
    {
     "data": {
      "text/plain": [
       "array([[0, 1, 1, 0, 1, 1, 0, 1, 1, 1, 0, 1, 1, 1, 1, 1, 1, 1, 0, 1, 1, 1,\n",
       "        1, 0, 1, 0, 1, 1, 1, 1],\n",
       "       [1, 0, 1, 1, 0, 1, 1, 0, 0, 0, 1, 1, 1, 0, 0, 1, 0, 1, 0, 1, 1, 0,\n",
       "        1, 1, 0, 1, 0, 0, 0, 0],\n",
       "       [1, 1, 0, 1, 1, 0, 1, 1, 1, 1, 1, 1, 1, 1, 1, 0, 0, 1, 1, 1, 1, 0,\n",
       "        0, 1, 0, 1, 1, 1, 0, 0],\n",
       "       [0, 1, 1, 0, 1, 1, 1, 1, 1, 1, 0, 1, 1, 1, 1, 1, 1, 1, 0, 1, 1, 1,\n",
       "        1, 0, 1, 1, 1, 1, 1, 1],\n",
       "       [1, 0, 1, 1, 0, 1, 1, 0, 1, 1, 1, 1, 0, 1, 1, 0, 1, 0, 1, 0, 1, 0,\n",
       "        0, 1, 0, 1, 0, 0, 1, 1],\n",
       "       [1, 1, 0, 1, 1, 0, 1, 1, 1, 1, 1, 1, 1, 1, 1, 0, 0, 1, 1, 1, 0, 1,\n",
       "        0, 1, 1, 0, 1, 1, 1, 0],\n",
       "       [0, 1, 1, 1, 1, 1, 0, 1, 1, 0, 1, 1, 1, 1, 1, 0, 0, 0, 1, 0, 0, 1,\n",
       "        1, 0, 0, 1, 0, 1, 1, 0],\n",
       "       [1, 0, 1, 1, 0, 1, 1, 0, 1, 0, 1, 0, 0, 0, 0, 1, 1, 0, 1, 0, 1, 1,\n",
       "        1, 1, 0, 1, 0, 0, 1, 1],\n",
       "       [1, 0, 1, 1, 1, 1, 1, 1, 0, 1, 1, 0, 1, 0, 0, 1, 0, 1, 0, 1, 1, 1,\n",
       "        1, 1, 1, 0, 1, 1, 1, 0],\n",
       "       [1, 0, 1, 1, 1, 1, 0, 0, 1, 0, 1, 0, 0, 1, 0, 0, 1, 0, 1, 0, 0, 1,\n",
       "        0, 1, 0, 1, 0, 0, 1, 1],\n",
       "       [0, 1, 1, 0, 1, 1, 1, 1, 1, 1, 0, 1, 1, 1, 1, 1, 1, 1, 0, 1, 1, 1,\n",
       "        1, 0, 1, 0, 1, 1, 1, 1],\n",
       "       [1, 1, 1, 1, 1, 1, 1, 0, 0, 0, 1, 0, 0, 1, 0, 1, 0, 1, 1, 1, 1, 1,\n",
       "        1, 1, 0, 1, 1, 0, 1, 1],\n",
       "       [1, 1, 1, 1, 0, 1, 1, 0, 1, 0, 1, 0, 0, 1, 0, 1, 0, 0, 1, 1, 1, 0,\n",
       "        1, 1, 0, 1, 1, 0, 1, 0],\n",
       "       [1, 0, 1, 1, 1, 1, 1, 0, 0, 1, 1, 1, 1, 0, 0, 1, 1, 1, 0, 1, 1, 1,\n",
       "        1, 1, 1, 0, 1, 0, 1, 1],\n",
       "       [1, 0, 1, 1, 1, 1, 1, 0, 0, 0, 1, 0, 0, 0, 0, 1, 1, 0, 1, 0, 1, 1,\n",
       "        1, 1, 1, 1, 0, 0, 1, 1],\n",
       "       [1, 1, 0, 1, 0, 0, 0, 1, 1, 0, 1, 1, 1, 1, 1, 0, 0, 1, 1, 0, 0, 0,\n",
       "        0, 1, 0, 1, 1, 0, 0, 0],\n",
       "       [1, 0, 0, 1, 1, 0, 0, 1, 0, 1, 1, 0, 0, 1, 1, 0, 0, 0, 1, 0, 0, 1,\n",
       "        0, 1, 1, 0, 0, 1, 1, 0],\n",
       "       [1, 1, 1, 1, 0, 1, 0, 0, 1, 0, 1, 1, 0, 1, 0, 1, 0, 0, 1, 0, 0, 0,\n",
       "        1, 1, 0, 1, 0, 0, 1, 0],\n",
       "       [0, 0, 1, 0, 1, 1, 1, 1, 0, 1, 0, 1, 1, 0, 1, 1, 1, 1, 0, 1, 1, 1,\n",
       "        1, 1, 1, 0, 1, 1, 1, 1],\n",
       "       [1, 1, 1, 1, 0, 1, 0, 0, 1, 0, 1, 1, 1, 1, 0, 0, 0, 0, 1, 0, 0, 0,\n",
       "        0, 1, 0, 1, 0, 0, 0, 0],\n",
       "       [1, 1, 1, 1, 1, 0, 0, 1, 1, 0, 1, 1, 1, 1, 1, 0, 0, 0, 1, 0, 0, 1,\n",
       "        0, 1, 0, 1, 1, 1, 1, 0],\n",
       "       [1, 0, 0, 1, 0, 1, 1, 1, 1, 1, 1, 1, 0, 1, 1, 0, 1, 0, 1, 0, 1, 0,\n",
       "        0, 1, 1, 1, 0, 0, 1, 1],\n",
       "       [1, 1, 0, 1, 0, 0, 1, 1, 1, 0, 1, 1, 1, 1, 1, 0, 0, 1, 1, 0, 0, 0,\n",
       "        0, 1, 0, 1, 1, 0, 0, 0],\n",
       "       [0, 1, 1, 0, 1, 1, 0, 1, 1, 1, 0, 1, 1, 1, 1, 1, 1, 1, 1, 1, 1, 1,\n",
       "        1, 0, 1, 1, 1, 1, 1, 1],\n",
       "       [1, 0, 0, 1, 0, 1, 0, 0, 1, 0, 1, 0, 0, 1, 1, 0, 1, 0, 1, 0, 0, 1,\n",
       "        0, 1, 0, 1, 0, 0, 1, 1],\n",
       "       [0, 1, 1, 1, 1, 0, 1, 1, 0, 1, 0, 1, 1, 0, 1, 1, 0, 1, 0, 1, 1, 1,\n",
       "        1, 1, 1, 0, 1, 1, 1, 1],\n",
       "       [1, 0, 1, 1, 0, 1, 0, 0, 1, 0, 1, 1, 1, 1, 0, 1, 0, 0, 1, 0, 1, 0,\n",
       "        1, 1, 0, 1, 0, 0, 0, 0],\n",
       "       [1, 0, 1, 1, 0, 1, 1, 0, 1, 0, 1, 0, 0, 0, 0, 0, 1, 0, 1, 0, 1, 0,\n",
       "        0, 1, 0, 1, 0, 0, 1, 1],\n",
       "       [1, 0, 0, 1, 1, 1, 1, 1, 1, 1, 1, 1, 1, 1, 1, 0, 1, 1, 1, 0, 1, 1,\n",
       "        0, 1, 1, 1, 0, 1, 0, 0],\n",
       "       [1, 0, 0, 1, 1, 0, 0, 1, 0, 1, 1, 1, 0, 1, 1, 0, 0, 0, 1, 0, 0, 1,\n",
       "        0, 1, 1, 1, 0, 1, 0, 0]])"
      ]
     },
     "execution_count": 6,
     "metadata": {},
     "output_type": "execute_result"
    }
   ],
   "source": [
    "relation2 = np.loadtxt(fname=\"data/relation2.csv\", dtype=int, delimiter=\",\")\n",
    "relation2"
   ]
  },
  {
   "cell_type": "code",
   "execution_count": 7,
   "metadata": {},
   "outputs": [
    {
     "data": {
      "text/plain": [
       "array([[0, 1, 0, 0, 1, 0, 0, 1, 0, 1, 0, 1, 1, 0, 1, 0, 1, 0, 0, 0, 0, 1,\n",
       "        1, 0, 1, 0, 1, 1, 1, 1],\n",
       "       [1, 0, 1, 1, 0, 1, 1, 0, 0, 0, 1, 1, 0, 0, 0, 1, 0, 0, 0, 0, 1, 0,\n",
       "        1, 1, 0, 1, 0, 0, 0, 0],\n",
       "       [0, 1, 0, 1, 1, 0, 0, 1, 0, 1, 1, 1, 1, 1, 1, 0, 0, 1, 0, 0, 0, 0,\n",
       "        0, 1, 0, 0, 1, 1, 0, 0],\n",
       "       [0, 1, 1, 0, 0, 1, 0, 1, 1, 1, 0, 1, 1, 0, 1, 1, 1, 1, 0, 1, 1, 0,\n",
       "        1, 0, 1, 0, 1, 1, 0, 1],\n",
       "       [1, 0, 1, 0, 0, 1, 1, 0, 1, 0, 0, 1, 0, 0, 0, 0, 0, 0, 0, 0, 1, 0,\n",
       "        0, 1, 0, 1, 0, 0, 0, 0],\n",
       "       [0, 1, 0, 1, 1, 0, 0, 1, 0, 1, 0, 1, 1, 0, 1, 0, 0, 0, 0, 0, 0, 1,\n",
       "        0, 0, 1, 0, 1, 1, 1, 0],\n",
       "       [0, 1, 0, 0, 1, 0, 0, 1, 1, 0, 0, 1, 0, 1, 1, 0, 0, 0, 0, 0, 0, 1,\n",
       "        0, 0, 0, 0, 0, 1, 1, 0],\n",
       "       [1, 0, 1, 1, 0, 1, 1, 0, 0, 0, 0, 0, 0, 0, 0, 1, 1, 0, 0, 0, 1, 0,\n",
       "        1, 1, 0, 0, 0, 0, 1, 1],\n",
       "       [0, 0, 0, 1, 1, 0, 1, 0, 0, 0, 0, 0, 1, 0, 0, 1, 0, 1, 0, 1, 1, 1,\n",
       "        1, 1, 1, 0, 1, 0, 1, 0],\n",
       "       [1, 0, 1, 1, 0, 1, 0, 0, 0, 0, 1, 0, 0, 0, 0, 0, 1, 0, 1, 0, 0, 0,\n",
       "        0, 1, 0, 1, 0, 0, 1, 1],\n",
       "       [0, 1, 1, 0, 0, 0, 0, 0, 0, 1, 0, 1, 1, 0, 0, 1, 1, 1, 0, 1, 0, 0,\n",
       "        1, 0, 1, 0, 1, 1, 0, 1],\n",
       "       [1, 1, 1, 1, 1, 1, 1, 0, 0, 0, 1, 0, 0, 1, 0, 1, 0, 0, 1, 1, 1, 1,\n",
       "        1, 0, 0, 1, 0, 0, 1, 1],\n",
       "       [1, 0, 1, 1, 0, 1, 0, 0, 1, 0, 1, 0, 0, 1, 0, 1, 0, 0, 1, 0, 0, 0,\n",
       "        1, 0, 0, 1, 0, 0, 1, 0],\n",
       "       [0, 0, 1, 0, 0, 0, 1, 0, 0, 0, 0, 1, 1, 0, 0, 1, 1, 1, 0, 1, 1, 0,\n",
       "        1, 1, 0, 0, 1, 0, 1, 1],\n",
       "       [1, 0, 1, 1, 0, 1, 1, 0, 0, 0, 0, 0, 0, 0, 0, 1, 1, 0, 0, 0, 1, 0,\n",
       "        1, 1, 0, 0, 0, 0, 1, 1],\n",
       "       [0, 1, 0, 1, 0, 0, 0, 1, 1, 0, 1, 1, 1, 1, 1, 0, 0, 0, 1, 0, 0, 0,\n",
       "        0, 1, 0, 0, 0, 0, 0, 0],\n",
       "       [1, 0, 0, 1, 0, 0, 0, 1, 0, 1, 1, 0, 0, 1, 1, 0, 0, 0, 1, 0, 0, 0,\n",
       "        0, 1, 1, 0, 0, 1, 0, 0],\n",
       "       [0, 0, 1, 1, 0, 0, 0, 0, 1, 0, 1, 0, 0, 1, 0, 0, 0, 0, 1, 0, 0, 0,\n",
       "        0, 0, 0, 1, 0, 0, 1, 0],\n",
       "       [0, 0, 0, 0, 0, 0, 0, 0, 0, 1, 0, 1, 1, 0, 0, 1, 1, 1, 0, 1, 0, 0,\n",
       "        1, 0, 1, 0, 1, 0, 1, 1],\n",
       "       [0, 0, 0, 1, 0, 0, 0, 0, 1, 0, 1, 1, 0, 1, 0, 0, 0, 0, 1, 0, 0, 0,\n",
       "        0, 0, 0, 1, 0, 0, 0, 0],\n",
       "       [0, 1, 0, 1, 1, 0, 0, 1, 1, 0, 0, 1, 0, 1, 1, 0, 0, 0, 0, 0, 0, 1,\n",
       "        0, 0, 0, 0, 0, 1, 1, 0],\n",
       "       [1, 0, 0, 0, 0, 1, 1, 0, 1, 0, 0, 1, 0, 0, 0, 0, 0, 0, 0, 0, 1, 0,\n",
       "        0, 1, 0, 1, 0, 0, 0, 0],\n",
       "       [1, 1, 0, 1, 0, 0, 0, 1, 1, 0, 1, 1, 1, 1, 1, 0, 0, 0, 1, 0, 0, 0,\n",
       "        0, 1, 0, 0, 1, 0, 0, 0],\n",
       "       [0, 1, 1, 0, 1, 0, 0, 1, 1, 1, 0, 0, 0, 1, 1, 1, 1, 0, 0, 0, 0, 1,\n",
       "        1, 0, 1, 0, 0, 1, 1, 1],\n",
       "       [1, 0, 0, 1, 0, 1, 0, 0, 1, 0, 1, 0, 0, 0, 0, 0, 1, 0, 1, 0, 0, 0,\n",
       "        0, 1, 0, 1, 0, 0, 1, 1],\n",
       "       [0, 1, 0, 0, 1, 0, 0, 0, 0, 1, 0, 1, 1, 0, 0, 0, 0, 1, 0, 1, 0, 1,\n",
       "        0, 0, 1, 0, 1, 1, 1, 1],\n",
       "       [1, 0, 1, 1, 0, 1, 0, 0, 1, 0, 1, 0, 0, 1, 0, 0, 0, 0, 1, 0, 0, 0,\n",
       "        1, 0, 0, 1, 0, 0, 0, 0],\n",
       "       [1, 0, 1, 1, 0, 1, 1, 0, 0, 0, 1, 0, 0, 0, 0, 0, 1, 0, 0, 0, 1, 0,\n",
       "        0, 1, 0, 1, 0, 0, 1, 1],\n",
       "       [1, 0, 0, 0, 0, 1, 1, 1, 1, 1, 0, 1, 1, 1, 1, 0, 0, 1, 1, 0, 1, 0,\n",
       "        0, 1, 1, 1, 0, 1, 0, 0],\n",
       "       [1, 0, 0, 1, 0, 0, 0, 1, 0, 1, 1, 1, 0, 1, 1, 0, 0, 0, 1, 0, 0, 0,\n",
       "        0, 1, 1, 1, 0, 1, 0, 0]])"
      ]
     },
     "execution_count": 7,
     "metadata": {},
     "output_type": "execute_result"
    }
   ],
   "source": [
    "relation3 = np.loadtxt(fname=\"data/relation3.csv\", dtype=int, delimiter=\",\")\n",
    "relation3"
   ]
  },
  {
   "cell_type": "code",
   "execution_count": 8,
   "metadata": {},
   "outputs": [
    {
     "data": {
      "text/plain": [
       "array([[0, 1, 0, 0, 0, 0, 0, 0, 0, 1, 0, 0, 0, 0, 0, 0, 1, 0, 0, 0, 0, 0,\n",
       "        0, 0, 1, 0, 0, 0, 0, 1],\n",
       "       [1, 0, 1, 1, 0, 1, 0, 0, 0, 0, 1, 0, 0, 0, 0, 0, 0, 0, 0, 0, 0, 0,\n",
       "        1, 0, 0, 1, 0, 0, 0, 0],\n",
       "       [0, 1, 0, 1, 1, 0, 0, 1, 0, 1, 0, 1, 1, 0, 0, 0, 0, 0, 0, 0, 0, 0,\n",
       "        0, 0, 0, 0, 0, 1, 0, 0],\n",
       "       [0, 1, 1, 0, 0, 0, 0, 0, 0, 0, 0, 0, 0, 0, 0, 1, 0, 0, 0, 1, 0, 0,\n",
       "        1, 0, 1, 0, 1, 0, 0, 0],\n",
       "       [0, 0, 1, 0, 0, 1, 1, 0, 0, 0, 0, 1, 0, 0, 0, 0, 0, 0, 0, 0, 1, 0,\n",
       "        0, 0, 0, 0, 0, 0, 0, 0],\n",
       "       [0, 1, 0, 0, 1, 0, 0, 0, 0, 1, 0, 1, 1, 0, 0, 0, 0, 0, 0, 0, 0, 1,\n",
       "        0, 0, 1, 0, 0, 1, 1, 0],\n",
       "       [0, 0, 0, 0, 1, 0, 0, 1, 0, 0, 0, 0, 0, 0, 1, 0, 0, 0, 0, 0, 0, 1,\n",
       "        0, 0, 0, 0, 0, 1, 1, 0],\n",
       "       [0, 0, 1, 0, 0, 0, 1, 0, 0, 0, 0, 0, 0, 0, 0, 1, 1, 0, 0, 0, 1, 0,\n",
       "        1, 0, 0, 0, 0, 0, 0, 0],\n",
       "       [0, 0, 0, 0, 0, 0, 0, 0, 0, 0, 0, 0, 1, 0, 0, 0, 0, 1, 0, 1, 0, 0,\n",
       "        0, 0, 0, 0, 1, 0, 1, 0],\n",
       "       [1, 0, 1, 0, 0, 1, 0, 0, 0, 0, 0, 0, 0, 0, 0, 0, 1, 0, 0, 0, 0, 0,\n",
       "        0, 1, 0, 0, 0, 0, 1, 1],\n",
       "       [0, 1, 0, 0, 0, 0, 0, 0, 0, 0, 0, 0, 0, 0, 0, 0, 1, 0, 0, 0, 0, 0,\n",
       "        0, 0, 0, 0, 0, 0, 0, 1],\n",
       "       [0, 0, 1, 0, 1, 1, 0, 0, 0, 0, 0, 0, 0, 1, 0, 1, 0, 0, 1, 0, 0, 1,\n",
       "        1, 0, 0, 1, 0, 0, 0, 1],\n",
       "       [0, 0, 1, 0, 0, 1, 0, 0, 1, 0, 0, 0, 0, 1, 0, 0, 0, 0, 1, 0, 0, 0,\n",
       "        1, 0, 0, 0, 0, 0, 1, 0],\n",
       "       [0, 0, 0, 0, 0, 0, 0, 0, 0, 0, 0, 1, 1, 0, 0, 1, 1, 1, 0, 1, 0, 0,\n",
       "        1, 0, 0, 0, 1, 0, 0, 1],\n",
       "       [0, 0, 0, 0, 0, 0, 1, 0, 0, 0, 0, 0, 0, 0, 0, 1, 1, 0, 0, 0, 1, 0,\n",
       "        1, 1, 0, 0, 0, 0, 1, 1],\n",
       "       [0, 0, 0, 1, 0, 0, 0, 1, 0, 0, 0, 1, 0, 1, 1, 0, 0, 0, 0, 0, 0, 0,\n",
       "        0, 0, 0, 0, 0, 0, 0, 0],\n",
       "       [1, 0, 0, 0, 0, 0, 0, 1, 0, 1, 1, 0, 0, 1, 1, 0, 0, 0, 1, 0, 0, 0,\n",
       "        0, 1, 0, 0, 0, 0, 0, 0],\n",
       "       [0, 0, 0, 0, 0, 0, 0, 0, 1, 0, 0, 0, 0, 1, 0, 0, 0, 0, 0, 0, 0, 0,\n",
       "        0, 0, 0, 0, 0, 0, 1, 0],\n",
       "       [0, 0, 0, 0, 0, 0, 0, 0, 0, 0, 0, 1, 1, 0, 0, 0, 1, 0, 0, 0, 0, 0,\n",
       "        0, 0, 0, 0, 1, 0, 0, 1],\n",
       "       [0, 0, 0, 1, 0, 0, 0, 0, 1, 0, 0, 0, 0, 1, 0, 0, 0, 0, 0, 0, 0, 0,\n",
       "        0, 0, 0, 0, 0, 0, 0, 0],\n",
       "       [0, 0, 0, 0, 1, 0, 0, 1, 0, 0, 0, 0, 0, 0, 1, 0, 0, 0, 0, 0, 0, 1,\n",
       "        0, 0, 0, 0, 0, 1, 1, 0],\n",
       "       [0, 0, 0, 0, 0, 1, 1, 0, 0, 0, 0, 1, 0, 0, 0, 0, 0, 0, 0, 0, 1, 0,\n",
       "        0, 1, 0, 0, 0, 0, 0, 0],\n",
       "       [0, 1, 0, 1, 0, 0, 0, 1, 0, 0, 0, 1, 1, 1, 1, 0, 0, 0, 0, 0, 0, 0,\n",
       "        0, 0, 0, 0, 0, 0, 0, 0],\n",
       "       [0, 0, 0, 0, 0, 0, 0, 0, 0, 1, 0, 0, 0, 0, 1, 0, 1, 0, 0, 0, 0, 1,\n",
       "        0, 0, 1, 0, 0, 1, 0, 1],\n",
       "       [1, 0, 0, 1, 0, 1, 0, 0, 0, 0, 0, 0, 0, 0, 0, 0, 0, 0, 0, 0, 0, 0,\n",
       "        0, 1, 0, 1, 0, 0, 0, 0],\n",
       "       [0, 1, 0, 0, 0, 0, 0, 0, 0, 0, 0, 1, 0, 0, 0, 0, 0, 0, 0, 0, 0, 0,\n",
       "        0, 0, 1, 0, 0, 0, 0, 1],\n",
       "       [0, 0, 0, 1, 0, 0, 0, 0, 1, 0, 0, 0, 0, 1, 0, 0, 0, 0, 1, 0, 0, 0,\n",
       "        0, 0, 0, 0, 0, 0, 0, 0],\n",
       "       [0, 0, 1, 0, 0, 1, 1, 0, 0, 0, 0, 0, 0, 0, 0, 0, 0, 0, 0, 0, 1, 0,\n",
       "        0, 1, 0, 0, 0, 0, 0, 0],\n",
       "       [0, 0, 0, 0, 0, 1, 1, 0, 1, 1, 0, 0, 1, 0, 1, 0, 0, 1, 0, 0, 1, 0,\n",
       "        0, 0, 0, 0, 0, 0, 0, 0],\n",
       "       [1, 0, 0, 0, 0, 0, 0, 0, 0, 1, 1, 1, 0, 1, 1, 0, 0, 0, 1, 0, 0, 0,\n",
       "        0, 1, 0, 1, 0, 0, 0, 0]])"
      ]
     },
     "execution_count": 8,
     "metadata": {},
     "output_type": "execute_result"
    }
   ],
   "source": [
    "relation4 = np.loadtxt(fname=\"data/relation4.csv\", dtype=int, delimiter=\",\")\n",
    "relation4"
   ]
  },
  {
   "cell_type": "code",
   "execution_count": 9,
   "metadata": {},
   "outputs": [
    {
     "name": "stderr",
     "output_type": "stream",
     "text": [
      "D:\\anaconda3\\envs\\pytorch\\lib\\site-packages\\dgl\\base.py:45: DGLWarning: Recommend creating graphs by `dgl.graph(data)` instead of `dgl.DGLGraph(data)`.\n",
      "  return warnings.warn(message, category=category, stacklevel=1)\n",
      "D:\\anaconda3\\envs\\pytorch\\lib\\site-packages\\dgl\\base.py:45: DGLWarning: DGLGraph.add_edge is deprecated. Please use DGLGraph.add_edges\n",
      "  return warnings.warn(message, category=category, stacklevel=1)\n"
     ]
    },
    {
     "data": {
      "text/plain": [
       "Graph(num_nodes=30, num_edges=716,\n",
       "      ndata_schemes={}\n",
       "      edata_schemes={})"
      ]
     },
     "execution_count": 9,
     "metadata": {},
     "output_type": "execute_result"
    }
   ],
   "source": [
    "GA=dgl.DGLGraph()\n",
    "GA.add_nodes(city_or_area_num) #327\n",
    "for i in range(city_or_area_num):\n",
    "    for j in range(city_or_area_num):\n",
    "        if relation1[i][j]==1:\n",
    "            GA.add_edge(i, j)\n",
    "        else:\n",
    "            pass\n",
    "GA"
   ]
  },
  {
   "cell_type": "code",
   "execution_count": 10,
   "metadata": {},
   "outputs": [
    {
     "data": {
      "text/plain": [
       "Graph(num_nodes=30, num_edges=558,\n",
       "      ndata_schemes={}\n",
       "      edata_schemes={})"
      ]
     },
     "execution_count": 10,
     "metadata": {},
     "output_type": "execute_result"
    }
   ],
   "source": [
    "GE = dgl.DGLGraph()\n",
    "GE.add_nodes(city_or_area_num) #327\n",
    "for i in range(city_or_area_num):\n",
    "    for j in range(city_or_area_num):\n",
    "        if relation2[i][j]==1:\n",
    "            GE.add_edge(i, j)\n",
    "        else:\n",
    "            pass\n",
    "GE"
   ]
  },
  {
   "cell_type": "code",
   "execution_count": 11,
   "metadata": {},
   "outputs": [
    {
     "data": {
      "text/plain": [
       "Graph(num_nodes=30, num_edges=372,\n",
       "      ndata_schemes={}\n",
       "      edata_schemes={})"
      ]
     },
     "execution_count": 11,
     "metadata": {},
     "output_type": "execute_result"
    }
   ],
   "source": [
    "G1 = dgl.DGLGraph()\n",
    "G1.add_nodes(city_or_area_num) #327\n",
    "for i in range(city_or_area_num):\n",
    "    for j in range(city_or_area_num):\n",
    "        if relation3[i][j]==1:\n",
    "            G1.add_edge(i, j)\n",
    "        else:\n",
    "            pass\n",
    "G1"
   ]
  },
  {
   "cell_type": "code",
   "execution_count": 12,
   "metadata": {},
   "outputs": [
    {
     "data": {
      "text/plain": [
       "Graph(num_nodes=30, num_edges=186,\n",
       "      ndata_schemes={}\n",
       "      edata_schemes={})"
      ]
     },
     "execution_count": 12,
     "metadata": {},
     "output_type": "execute_result"
    }
   ],
   "source": [
    "Gpltr = dgl.DGLGraph()\n",
    "Gpltr.add_nodes(city_or_area_num) #327\n",
    "for i in range(city_or_area_num):\n",
    "    for j in range(city_or_area_num):\n",
    "        if relation4[i][j]==1:\n",
    "            Gpltr.add_edge(i, j)\n",
    "        else:\n",
    "            pass\n",
    "Gpltr"
   ]
  },
  {
   "cell_type": "code",
   "execution_count": 14,
   "metadata": {},
   "outputs": [
    {
     "data": {
      "text/html": [
       "<div>\n",
       "<style scoped>\n",
       "    .dataframe tbody tr th:only-of-type {\n",
       "        vertical-align: middle;\n",
       "    }\n",
       "\n",
       "    .dataframe tbody tr th {\n",
       "        vertical-align: top;\n",
       "    }\n",
       "\n",
       "    .dataframe thead th {\n",
       "        text-align: right;\n",
       "    }\n",
       "</style>\n",
       "<table border=\"1\" class=\"dataframe\">\n",
       "  <thead>\n",
       "    <tr style=\"text-align: right;\">\n",
       "      <th></th>\n",
       "      <th>1/22/20</th>\n",
       "      <th>1/23/20</th>\n",
       "      <th>1/24/20</th>\n",
       "      <th>1/25/20</th>\n",
       "      <th>1/26/20</th>\n",
       "      <th>1/27/20</th>\n",
       "      <th>1/28/20</th>\n",
       "      <th>1/29/20</th>\n",
       "      <th>1/30/20</th>\n",
       "      <th>1/31/20</th>\n",
       "      <th>...</th>\n",
       "      <th>5/10/21</th>\n",
       "      <th>5/11/21</th>\n",
       "      <th>5/12/21</th>\n",
       "      <th>5/13/21</th>\n",
       "      <th>5/14/21</th>\n",
       "      <th>5/15/21</th>\n",
       "      <th>5/16/21</th>\n",
       "      <th>5/17/21</th>\n",
       "      <th>5/18/21</th>\n",
       "      <th>5/19/21</th>\n",
       "    </tr>\n",
       "    <tr>\n",
       "      <th>Combined_Key</th>\n",
       "      <th></th>\n",
       "      <th></th>\n",
       "      <th></th>\n",
       "      <th></th>\n",
       "      <th></th>\n",
       "      <th></th>\n",
       "      <th></th>\n",
       "      <th></th>\n",
       "      <th></th>\n",
       "      <th></th>\n",
       "      <th></th>\n",
       "      <th></th>\n",
       "      <th></th>\n",
       "      <th></th>\n",
       "      <th></th>\n",
       "      <th></th>\n",
       "      <th></th>\n",
       "      <th></th>\n",
       "      <th></th>\n",
       "      <th></th>\n",
       "      <th></th>\n",
       "    </tr>\n",
       "  </thead>\n",
       "  <tbody>\n",
       "    <tr>\n",
       "      <th>Autauga, Alabama, US</th>\n",
       "      <td>0</td>\n",
       "      <td>0</td>\n",
       "      <td>0</td>\n",
       "      <td>0</td>\n",
       "      <td>0</td>\n",
       "      <td>0</td>\n",
       "      <td>0</td>\n",
       "      <td>0</td>\n",
       "      <td>0</td>\n",
       "      <td>0</td>\n",
       "      <td>...</td>\n",
       "      <td>6920</td>\n",
       "      <td>6926</td>\n",
       "      <td>6928</td>\n",
       "      <td>6938</td>\n",
       "      <td>6971</td>\n",
       "      <td>7001</td>\n",
       "      <td>7005</td>\n",
       "      <td>7010</td>\n",
       "      <td>7015</td>\n",
       "      <td>7017</td>\n",
       "    </tr>\n",
       "    <tr>\n",
       "      <th>Baldwin, Alabama, US</th>\n",
       "      <td>0</td>\n",
       "      <td>0</td>\n",
       "      <td>0</td>\n",
       "      <td>0</td>\n",
       "      <td>0</td>\n",
       "      <td>0</td>\n",
       "      <td>0</td>\n",
       "      <td>0</td>\n",
       "      <td>0</td>\n",
       "      <td>0</td>\n",
       "      <td>...</td>\n",
       "      <td>21135</td>\n",
       "      <td>21154</td>\n",
       "      <td>21170</td>\n",
       "      <td>21191</td>\n",
       "      <td>21290</td>\n",
       "      <td>21392</td>\n",
       "      <td>21411</td>\n",
       "      <td>21422</td>\n",
       "      <td>21444</td>\n",
       "      <td>21467</td>\n",
       "    </tr>\n",
       "    <tr>\n",
       "      <th>Barbour, Alabama, US</th>\n",
       "      <td>0</td>\n",
       "      <td>0</td>\n",
       "      <td>0</td>\n",
       "      <td>0</td>\n",
       "      <td>0</td>\n",
       "      <td>0</td>\n",
       "      <td>0</td>\n",
       "      <td>0</td>\n",
       "      <td>0</td>\n",
       "      <td>0</td>\n",
       "      <td>...</td>\n",
       "      <td>2308</td>\n",
       "      <td>2310</td>\n",
       "      <td>2314</td>\n",
       "      <td>2317</td>\n",
       "      <td>2319</td>\n",
       "      <td>2320</td>\n",
       "      <td>2320</td>\n",
       "      <td>2320</td>\n",
       "      <td>2322</td>\n",
       "      <td>2324</td>\n",
       "    </tr>\n",
       "    <tr>\n",
       "      <th>Bibb, Alabama, US</th>\n",
       "      <td>0</td>\n",
       "      <td>0</td>\n",
       "      <td>0</td>\n",
       "      <td>0</td>\n",
       "      <td>0</td>\n",
       "      <td>0</td>\n",
       "      <td>0</td>\n",
       "      <td>0</td>\n",
       "      <td>0</td>\n",
       "      <td>0</td>\n",
       "      <td>...</td>\n",
       "      <td>2607</td>\n",
       "      <td>2609</td>\n",
       "      <td>2612</td>\n",
       "      <td>2615</td>\n",
       "      <td>2630</td>\n",
       "      <td>2645</td>\n",
       "      <td>2647</td>\n",
       "      <td>2648</td>\n",
       "      <td>2651</td>\n",
       "      <td>2652</td>\n",
       "    </tr>\n",
       "    <tr>\n",
       "      <th>Blount, Alabama, US</th>\n",
       "      <td>0</td>\n",
       "      <td>0</td>\n",
       "      <td>0</td>\n",
       "      <td>0</td>\n",
       "      <td>0</td>\n",
       "      <td>0</td>\n",
       "      <td>0</td>\n",
       "      <td>0</td>\n",
       "      <td>0</td>\n",
       "      <td>0</td>\n",
       "      <td>...</td>\n",
       "      <td>6661</td>\n",
       "      <td>6678</td>\n",
       "      <td>6680</td>\n",
       "      <td>6694</td>\n",
       "      <td>6750</td>\n",
       "      <td>6771</td>\n",
       "      <td>6773</td>\n",
       "      <td>6776</td>\n",
       "      <td>6794</td>\n",
       "      <td>6808</td>\n",
       "    </tr>\n",
       "    <tr>\n",
       "      <th>Bullock, Alabama, US</th>\n",
       "      <td>0</td>\n",
       "      <td>0</td>\n",
       "      <td>0</td>\n",
       "      <td>0</td>\n",
       "      <td>0</td>\n",
       "      <td>0</td>\n",
       "      <td>0</td>\n",
       "      <td>0</td>\n",
       "      <td>0</td>\n",
       "      <td>0</td>\n",
       "      <td>...</td>\n",
       "      <td>1230</td>\n",
       "      <td>1228</td>\n",
       "      <td>1228</td>\n",
       "      <td>1228</td>\n",
       "      <td>1230</td>\n",
       "      <td>1232</td>\n",
       "      <td>1232</td>\n",
       "      <td>1233</td>\n",
       "      <td>1233</td>\n",
       "      <td>1233</td>\n",
       "    </tr>\n",
       "    <tr>\n",
       "      <th>Butler, Alabama, US</th>\n",
       "      <td>0</td>\n",
       "      <td>0</td>\n",
       "      <td>0</td>\n",
       "      <td>0</td>\n",
       "      <td>0</td>\n",
       "      <td>0</td>\n",
       "      <td>0</td>\n",
       "      <td>0</td>\n",
       "      <td>0</td>\n",
       "      <td>0</td>\n",
       "      <td>...</td>\n",
       "      <td>2159</td>\n",
       "      <td>2160</td>\n",
       "      <td>2164</td>\n",
       "      <td>2164</td>\n",
       "      <td>2178</td>\n",
       "      <td>2190</td>\n",
       "      <td>2191</td>\n",
       "      <td>2190</td>\n",
       "      <td>2190</td>\n",
       "      <td>2191</td>\n",
       "    </tr>\n",
       "    <tr>\n",
       "      <th>Calhoun, Alabama, US</th>\n",
       "      <td>0</td>\n",
       "      <td>0</td>\n",
       "      <td>0</td>\n",
       "      <td>0</td>\n",
       "      <td>0</td>\n",
       "      <td>0</td>\n",
       "      <td>0</td>\n",
       "      <td>0</td>\n",
       "      <td>0</td>\n",
       "      <td>0</td>\n",
       "      <td>...</td>\n",
       "      <td>14505</td>\n",
       "      <td>14511</td>\n",
       "      <td>14515</td>\n",
       "      <td>14522</td>\n",
       "      <td>14556</td>\n",
       "      <td>14569</td>\n",
       "      <td>14574</td>\n",
       "      <td>14577</td>\n",
       "      <td>14580</td>\n",
       "      <td>14586</td>\n",
       "    </tr>\n",
       "    <tr>\n",
       "      <th>Chambers, Alabama, US</th>\n",
       "      <td>0</td>\n",
       "      <td>0</td>\n",
       "      <td>0</td>\n",
       "      <td>0</td>\n",
       "      <td>0</td>\n",
       "      <td>0</td>\n",
       "      <td>0</td>\n",
       "      <td>0</td>\n",
       "      <td>0</td>\n",
       "      <td>0</td>\n",
       "      <td>...</td>\n",
       "      <td>3563</td>\n",
       "      <td>3573</td>\n",
       "      <td>3575</td>\n",
       "      <td>3578</td>\n",
       "      <td>3581</td>\n",
       "      <td>3590</td>\n",
       "      <td>3596</td>\n",
       "      <td>3598</td>\n",
       "      <td>3606</td>\n",
       "      <td>3616</td>\n",
       "    </tr>\n",
       "    <tr>\n",
       "      <th>Cherokee, Alabama, US</th>\n",
       "      <td>0</td>\n",
       "      <td>0</td>\n",
       "      <td>0</td>\n",
       "      <td>0</td>\n",
       "      <td>0</td>\n",
       "      <td>0</td>\n",
       "      <td>0</td>\n",
       "      <td>0</td>\n",
       "      <td>0</td>\n",
       "      <td>0</td>\n",
       "      <td>...</td>\n",
       "      <td>1849</td>\n",
       "      <td>1852</td>\n",
       "      <td>1852</td>\n",
       "      <td>1847</td>\n",
       "      <td>1843</td>\n",
       "      <td>1846</td>\n",
       "      <td>1848</td>\n",
       "      <td>1848</td>\n",
       "      <td>1849</td>\n",
       "      <td>1850</td>\n",
       "    </tr>\n",
       "    <tr>\n",
       "      <th>Chilton, Alabama, US</th>\n",
       "      <td>0</td>\n",
       "      <td>0</td>\n",
       "      <td>0</td>\n",
       "      <td>0</td>\n",
       "      <td>0</td>\n",
       "      <td>0</td>\n",
       "      <td>0</td>\n",
       "      <td>0</td>\n",
       "      <td>0</td>\n",
       "      <td>0</td>\n",
       "      <td>...</td>\n",
       "      <td>4294</td>\n",
       "      <td>4296</td>\n",
       "      <td>4302</td>\n",
       "      <td>4308</td>\n",
       "      <td>4343</td>\n",
       "      <td>4369</td>\n",
       "      <td>4373</td>\n",
       "      <td>4383</td>\n",
       "      <td>4389</td>\n",
       "      <td>4389</td>\n",
       "    </tr>\n",
       "    <tr>\n",
       "      <th>Choctaw, Alabama, US</th>\n",
       "      <td>0</td>\n",
       "      <td>0</td>\n",
       "      <td>0</td>\n",
       "      <td>0</td>\n",
       "      <td>0</td>\n",
       "      <td>0</td>\n",
       "      <td>0</td>\n",
       "      <td>0</td>\n",
       "      <td>0</td>\n",
       "      <td>0</td>\n",
       "      <td>...</td>\n",
       "      <td>606</td>\n",
       "      <td>607</td>\n",
       "      <td>607</td>\n",
       "      <td>611</td>\n",
       "      <td>610</td>\n",
       "      <td>610</td>\n",
       "      <td>610</td>\n",
       "      <td>610</td>\n",
       "      <td>610</td>\n",
       "      <td>611</td>\n",
       "    </tr>\n",
       "    <tr>\n",
       "      <th>Clarke, Alabama, US</th>\n",
       "      <td>0</td>\n",
       "      <td>0</td>\n",
       "      <td>0</td>\n",
       "      <td>0</td>\n",
       "      <td>0</td>\n",
       "      <td>0</td>\n",
       "      <td>0</td>\n",
       "      <td>0</td>\n",
       "      <td>0</td>\n",
       "      <td>0</td>\n",
       "      <td>...</td>\n",
       "      <td>3510</td>\n",
       "      <td>3511</td>\n",
       "      <td>3510</td>\n",
       "      <td>3511</td>\n",
       "      <td>3513</td>\n",
       "      <td>3514</td>\n",
       "      <td>3515</td>\n",
       "      <td>3515</td>\n",
       "      <td>3515</td>\n",
       "      <td>3517</td>\n",
       "    </tr>\n",
       "    <tr>\n",
       "      <th>Clay, Alabama, US</th>\n",
       "      <td>0</td>\n",
       "      <td>0</td>\n",
       "      <td>0</td>\n",
       "      <td>0</td>\n",
       "      <td>0</td>\n",
       "      <td>0</td>\n",
       "      <td>0</td>\n",
       "      <td>0</td>\n",
       "      <td>0</td>\n",
       "      <td>0</td>\n",
       "      <td>...</td>\n",
       "      <td>1562</td>\n",
       "      <td>1567</td>\n",
       "      <td>1568</td>\n",
       "      <td>1568</td>\n",
       "      <td>1569</td>\n",
       "      <td>1571</td>\n",
       "      <td>1572</td>\n",
       "      <td>1572</td>\n",
       "      <td>1573</td>\n",
       "      <td>1574</td>\n",
       "    </tr>\n",
       "    <tr>\n",
       "      <th>Cleburne, Alabama, US</th>\n",
       "      <td>0</td>\n",
       "      <td>0</td>\n",
       "      <td>0</td>\n",
       "      <td>0</td>\n",
       "      <td>0</td>\n",
       "      <td>0</td>\n",
       "      <td>0</td>\n",
       "      <td>0</td>\n",
       "      <td>0</td>\n",
       "      <td>0</td>\n",
       "      <td>...</td>\n",
       "      <td>1489</td>\n",
       "      <td>1489</td>\n",
       "      <td>1491</td>\n",
       "      <td>1491</td>\n",
       "      <td>1492</td>\n",
       "      <td>1496</td>\n",
       "      <td>1496</td>\n",
       "      <td>1496</td>\n",
       "      <td>1498</td>\n",
       "      <td>1498</td>\n",
       "    </tr>\n",
       "    <tr>\n",
       "      <th>Coffee, Alabama, US</th>\n",
       "      <td>0</td>\n",
       "      <td>0</td>\n",
       "      <td>0</td>\n",
       "      <td>0</td>\n",
       "      <td>0</td>\n",
       "      <td>0</td>\n",
       "      <td>0</td>\n",
       "      <td>0</td>\n",
       "      <td>0</td>\n",
       "      <td>0</td>\n",
       "      <td>...</td>\n",
       "      <td>5512</td>\n",
       "      <td>5519</td>\n",
       "      <td>5521</td>\n",
       "      <td>5524</td>\n",
       "      <td>5546</td>\n",
       "      <td>5578</td>\n",
       "      <td>5581</td>\n",
       "      <td>5583</td>\n",
       "      <td>5589</td>\n",
       "      <td>5592</td>\n",
       "    </tr>\n",
       "    <tr>\n",
       "      <th>Colbert, Alabama, US</th>\n",
       "      <td>0</td>\n",
       "      <td>0</td>\n",
       "      <td>0</td>\n",
       "      <td>0</td>\n",
       "      <td>0</td>\n",
       "      <td>0</td>\n",
       "      <td>0</td>\n",
       "      <td>0</td>\n",
       "      <td>0</td>\n",
       "      <td>0</td>\n",
       "      <td>...</td>\n",
       "      <td>6301</td>\n",
       "      <td>6306</td>\n",
       "      <td>6307</td>\n",
       "      <td>6310</td>\n",
       "      <td>6317</td>\n",
       "      <td>6320</td>\n",
       "      <td>6322</td>\n",
       "      <td>6322</td>\n",
       "      <td>6324</td>\n",
       "      <td>6329</td>\n",
       "    </tr>\n",
       "    <tr>\n",
       "      <th>Conecuh, Alabama, US</th>\n",
       "      <td>0</td>\n",
       "      <td>0</td>\n",
       "      <td>0</td>\n",
       "      <td>0</td>\n",
       "      <td>0</td>\n",
       "      <td>0</td>\n",
       "      <td>0</td>\n",
       "      <td>0</td>\n",
       "      <td>0</td>\n",
       "      <td>0</td>\n",
       "      <td>...</td>\n",
       "      <td>1105</td>\n",
       "      <td>1105</td>\n",
       "      <td>1105</td>\n",
       "      <td>1106</td>\n",
       "      <td>1106</td>\n",
       "      <td>1108</td>\n",
       "      <td>1108</td>\n",
       "      <td>1108</td>\n",
       "      <td>1108</td>\n",
       "      <td>1108</td>\n",
       "    </tr>\n",
       "    <tr>\n",
       "      <th>Coosa, Alabama, US</th>\n",
       "      <td>0</td>\n",
       "      <td>0</td>\n",
       "      <td>0</td>\n",
       "      <td>0</td>\n",
       "      <td>0</td>\n",
       "      <td>0</td>\n",
       "      <td>0</td>\n",
       "      <td>0</td>\n",
       "      <td>0</td>\n",
       "      <td>0</td>\n",
       "      <td>...</td>\n",
       "      <td>1072</td>\n",
       "      <td>1076</td>\n",
       "      <td>1079</td>\n",
       "      <td>1079</td>\n",
       "      <td>1089</td>\n",
       "      <td>1092</td>\n",
       "      <td>1092</td>\n",
       "      <td>1092</td>\n",
       "      <td>1092</td>\n",
       "      <td>1094</td>\n",
       "    </tr>\n",
       "    <tr>\n",
       "      <th>Covington, Alabama, US</th>\n",
       "      <td>0</td>\n",
       "      <td>0</td>\n",
       "      <td>0</td>\n",
       "      <td>0</td>\n",
       "      <td>0</td>\n",
       "      <td>0</td>\n",
       "      <td>0</td>\n",
       "      <td>0</td>\n",
       "      <td>0</td>\n",
       "      <td>0</td>\n",
       "      <td>...</td>\n",
       "      <td>4121</td>\n",
       "      <td>4129</td>\n",
       "      <td>4131</td>\n",
       "      <td>4136</td>\n",
       "      <td>4138</td>\n",
       "      <td>4138</td>\n",
       "      <td>4138</td>\n",
       "      <td>4138</td>\n",
       "      <td>4147</td>\n",
       "      <td>4151</td>\n",
       "    </tr>\n",
       "    <tr>\n",
       "      <th>Crenshaw, Alabama, US</th>\n",
       "      <td>0</td>\n",
       "      <td>0</td>\n",
       "      <td>0</td>\n",
       "      <td>0</td>\n",
       "      <td>0</td>\n",
       "      <td>0</td>\n",
       "      <td>0</td>\n",
       "      <td>0</td>\n",
       "      <td>0</td>\n",
       "      <td>0</td>\n",
       "      <td>...</td>\n",
       "      <td>1523</td>\n",
       "      <td>1525</td>\n",
       "      <td>1527</td>\n",
       "      <td>1527</td>\n",
       "      <td>1533</td>\n",
       "      <td>1535</td>\n",
       "      <td>1535</td>\n",
       "      <td>1536</td>\n",
       "      <td>1537</td>\n",
       "      <td>1536</td>\n",
       "    </tr>\n",
       "    <tr>\n",
       "      <th>Cullman, Alabama, US</th>\n",
       "      <td>0</td>\n",
       "      <td>0</td>\n",
       "      <td>0</td>\n",
       "      <td>0</td>\n",
       "      <td>0</td>\n",
       "      <td>0</td>\n",
       "      <td>0</td>\n",
       "      <td>0</td>\n",
       "      <td>0</td>\n",
       "      <td>0</td>\n",
       "      <td>...</td>\n",
       "      <td>9670</td>\n",
       "      <td>9676</td>\n",
       "      <td>9697</td>\n",
       "      <td>9705</td>\n",
       "      <td>9730</td>\n",
       "      <td>9761</td>\n",
       "      <td>9768</td>\n",
       "      <td>9773</td>\n",
       "      <td>9786</td>\n",
       "      <td>9794</td>\n",
       "    </tr>\n",
       "    <tr>\n",
       "      <th>Dale, Alabama, US</th>\n",
       "      <td>0</td>\n",
       "      <td>0</td>\n",
       "      <td>0</td>\n",
       "      <td>0</td>\n",
       "      <td>0</td>\n",
       "      <td>0</td>\n",
       "      <td>0</td>\n",
       "      <td>0</td>\n",
       "      <td>0</td>\n",
       "      <td>0</td>\n",
       "      <td>...</td>\n",
       "      <td>4831</td>\n",
       "      <td>4838</td>\n",
       "      <td>4845</td>\n",
       "      <td>4850</td>\n",
       "      <td>4869</td>\n",
       "      <td>4876</td>\n",
       "      <td>4877</td>\n",
       "      <td>4878</td>\n",
       "      <td>4883</td>\n",
       "      <td>4885</td>\n",
       "    </tr>\n",
       "    <tr>\n",
       "      <th>Dallas, Alabama, US</th>\n",
       "      <td>0</td>\n",
       "      <td>0</td>\n",
       "      <td>0</td>\n",
       "      <td>0</td>\n",
       "      <td>0</td>\n",
       "      <td>0</td>\n",
       "      <td>0</td>\n",
       "      <td>0</td>\n",
       "      <td>0</td>\n",
       "      <td>0</td>\n",
       "      <td>...</td>\n",
       "      <td>3551</td>\n",
       "      <td>3551</td>\n",
       "      <td>3555</td>\n",
       "      <td>3557</td>\n",
       "      <td>3564</td>\n",
       "      <td>3568</td>\n",
       "      <td>3569</td>\n",
       "      <td>3569</td>\n",
       "      <td>3573</td>\n",
       "      <td>3575</td>\n",
       "    </tr>\n",
       "    <tr>\n",
       "      <th>DeKalb, Alabama, US</th>\n",
       "      <td>0</td>\n",
       "      <td>0</td>\n",
       "      <td>0</td>\n",
       "      <td>0</td>\n",
       "      <td>0</td>\n",
       "      <td>0</td>\n",
       "      <td>0</td>\n",
       "      <td>0</td>\n",
       "      <td>0</td>\n",
       "      <td>0</td>\n",
       "      <td>...</td>\n",
       "      <td>8831</td>\n",
       "      <td>8831</td>\n",
       "      <td>8843</td>\n",
       "      <td>8846</td>\n",
       "      <td>8853</td>\n",
       "      <td>8865</td>\n",
       "      <td>8865</td>\n",
       "      <td>8866</td>\n",
       "      <td>8870</td>\n",
       "      <td>8872</td>\n",
       "    </tr>\n",
       "    <tr>\n",
       "      <th>Elmore, Alabama, US</th>\n",
       "      <td>0</td>\n",
       "      <td>0</td>\n",
       "      <td>0</td>\n",
       "      <td>0</td>\n",
       "      <td>0</td>\n",
       "      <td>0</td>\n",
       "      <td>0</td>\n",
       "      <td>0</td>\n",
       "      <td>0</td>\n",
       "      <td>0</td>\n",
       "      <td>...</td>\n",
       "      <td>10061</td>\n",
       "      <td>10068</td>\n",
       "      <td>10062</td>\n",
       "      <td>10060</td>\n",
       "      <td>10115</td>\n",
       "      <td>10147</td>\n",
       "      <td>10158</td>\n",
       "      <td>10158</td>\n",
       "      <td>10166</td>\n",
       "      <td>10166</td>\n",
       "    </tr>\n",
       "    <tr>\n",
       "      <th>Escambia, Alabama, US</th>\n",
       "      <td>0</td>\n",
       "      <td>0</td>\n",
       "      <td>0</td>\n",
       "      <td>0</td>\n",
       "      <td>0</td>\n",
       "      <td>0</td>\n",
       "      <td>0</td>\n",
       "      <td>0</td>\n",
       "      <td>0</td>\n",
       "      <td>0</td>\n",
       "      <td>...</td>\n",
       "      <td>3934</td>\n",
       "      <td>3936</td>\n",
       "      <td>3936</td>\n",
       "      <td>3939</td>\n",
       "      <td>3945</td>\n",
       "      <td>3947</td>\n",
       "      <td>3948</td>\n",
       "      <td>3951</td>\n",
       "      <td>3953</td>\n",
       "      <td>3953</td>\n",
       "    </tr>\n",
       "    <tr>\n",
       "      <th>Etowah, Alabama, US</th>\n",
       "      <td>0</td>\n",
       "      <td>0</td>\n",
       "      <td>0</td>\n",
       "      <td>0</td>\n",
       "      <td>0</td>\n",
       "      <td>0</td>\n",
       "      <td>0</td>\n",
       "      <td>0</td>\n",
       "      <td>0</td>\n",
       "      <td>0</td>\n",
       "      <td>...</td>\n",
       "      <td>13834</td>\n",
       "      <td>13843</td>\n",
       "      <td>13849</td>\n",
       "      <td>13861</td>\n",
       "      <td>13890</td>\n",
       "      <td>13918</td>\n",
       "      <td>13925</td>\n",
       "      <td>13927</td>\n",
       "      <td>13938</td>\n",
       "      <td>13936</td>\n",
       "    </tr>\n",
       "    <tr>\n",
       "      <th>Fayette, Alabama, US</th>\n",
       "      <td>0</td>\n",
       "      <td>0</td>\n",
       "      <td>0</td>\n",
       "      <td>0</td>\n",
       "      <td>0</td>\n",
       "      <td>0</td>\n",
       "      <td>0</td>\n",
       "      <td>0</td>\n",
       "      <td>0</td>\n",
       "      <td>0</td>\n",
       "      <td>...</td>\n",
       "      <td>2124</td>\n",
       "      <td>2125</td>\n",
       "      <td>2125</td>\n",
       "      <td>2125</td>\n",
       "      <td>2124</td>\n",
       "      <td>2126</td>\n",
       "      <td>2128</td>\n",
       "      <td>2131</td>\n",
       "      <td>2132</td>\n",
       "      <td>2133</td>\n",
       "    </tr>\n",
       "    <tr>\n",
       "      <th>Franklin, Alabama, US</th>\n",
       "      <td>0</td>\n",
       "      <td>0</td>\n",
       "      <td>0</td>\n",
       "      <td>0</td>\n",
       "      <td>0</td>\n",
       "      <td>0</td>\n",
       "      <td>0</td>\n",
       "      <td>0</td>\n",
       "      <td>0</td>\n",
       "      <td>0</td>\n",
       "      <td>...</td>\n",
       "      <td>4256</td>\n",
       "      <td>4260</td>\n",
       "      <td>4263</td>\n",
       "      <td>4262</td>\n",
       "      <td>4262</td>\n",
       "      <td>4262</td>\n",
       "      <td>4263</td>\n",
       "      <td>4263</td>\n",
       "      <td>4262</td>\n",
       "      <td>4263</td>\n",
       "    </tr>\n",
       "  </tbody>\n",
       "</table>\n",
       "<p>30 rows × 484 columns</p>\n",
       "</div>"
      ],
      "text/plain": [
       "                        1/22/20  1/23/20  1/24/20  1/25/20  1/26/20  1/27/20  \\\n",
       "Combined_Key                                                                   \n",
       "Autauga, Alabama, US          0        0        0        0        0        0   \n",
       "Baldwin, Alabama, US          0        0        0        0        0        0   \n",
       "Barbour, Alabama, US          0        0        0        0        0        0   \n",
       "Bibb, Alabama, US             0        0        0        0        0        0   \n",
       "Blount, Alabama, US           0        0        0        0        0        0   \n",
       "Bullock, Alabama, US          0        0        0        0        0        0   \n",
       "Butler, Alabama, US           0        0        0        0        0        0   \n",
       "Calhoun, Alabama, US          0        0        0        0        0        0   \n",
       "Chambers, Alabama, US         0        0        0        0        0        0   \n",
       "Cherokee, Alabama, US         0        0        0        0        0        0   \n",
       "Chilton, Alabama, US          0        0        0        0        0        0   \n",
       "Choctaw, Alabama, US          0        0        0        0        0        0   \n",
       "Clarke, Alabama, US           0        0        0        0        0        0   \n",
       "Clay, Alabama, US             0        0        0        0        0        0   \n",
       "Cleburne, Alabama, US         0        0        0        0        0        0   \n",
       "Coffee, Alabama, US           0        0        0        0        0        0   \n",
       "Colbert, Alabama, US          0        0        0        0        0        0   \n",
       "Conecuh, Alabama, US          0        0        0        0        0        0   \n",
       "Coosa, Alabama, US            0        0        0        0        0        0   \n",
       "Covington, Alabama, US        0        0        0        0        0        0   \n",
       "Crenshaw, Alabama, US         0        0        0        0        0        0   \n",
       "Cullman, Alabama, US          0        0        0        0        0        0   \n",
       "Dale, Alabama, US             0        0        0        0        0        0   \n",
       "Dallas, Alabama, US           0        0        0        0        0        0   \n",
       "DeKalb, Alabama, US           0        0        0        0        0        0   \n",
       "Elmore, Alabama, US           0        0        0        0        0        0   \n",
       "Escambia, Alabama, US         0        0        0        0        0        0   \n",
       "Etowah, Alabama, US           0        0        0        0        0        0   \n",
       "Fayette, Alabama, US          0        0        0        0        0        0   \n",
       "Franklin, Alabama, US         0        0        0        0        0        0   \n",
       "\n",
       "                        1/28/20  1/29/20  1/30/20  1/31/20  ...  5/10/21  \\\n",
       "Combined_Key                                                ...            \n",
       "Autauga, Alabama, US          0        0        0        0  ...     6920   \n",
       "Baldwin, Alabama, US          0        0        0        0  ...    21135   \n",
       "Barbour, Alabama, US          0        0        0        0  ...     2308   \n",
       "Bibb, Alabama, US             0        0        0        0  ...     2607   \n",
       "Blount, Alabama, US           0        0        0        0  ...     6661   \n",
       "Bullock, Alabama, US          0        0        0        0  ...     1230   \n",
       "Butler, Alabama, US           0        0        0        0  ...     2159   \n",
       "Calhoun, Alabama, US          0        0        0        0  ...    14505   \n",
       "Chambers, Alabama, US         0        0        0        0  ...     3563   \n",
       "Cherokee, Alabama, US         0        0        0        0  ...     1849   \n",
       "Chilton, Alabama, US          0        0        0        0  ...     4294   \n",
       "Choctaw, Alabama, US          0        0        0        0  ...      606   \n",
       "Clarke, Alabama, US           0        0        0        0  ...     3510   \n",
       "Clay, Alabama, US             0        0        0        0  ...     1562   \n",
       "Cleburne, Alabama, US         0        0        0        0  ...     1489   \n",
       "Coffee, Alabama, US           0        0        0        0  ...     5512   \n",
       "Colbert, Alabama, US          0        0        0        0  ...     6301   \n",
       "Conecuh, Alabama, US          0        0        0        0  ...     1105   \n",
       "Coosa, Alabama, US            0        0        0        0  ...     1072   \n",
       "Covington, Alabama, US        0        0        0        0  ...     4121   \n",
       "Crenshaw, Alabama, US         0        0        0        0  ...     1523   \n",
       "Cullman, Alabama, US          0        0        0        0  ...     9670   \n",
       "Dale, Alabama, US             0        0        0        0  ...     4831   \n",
       "Dallas, Alabama, US           0        0        0        0  ...     3551   \n",
       "DeKalb, Alabama, US           0        0        0        0  ...     8831   \n",
       "Elmore, Alabama, US           0        0        0        0  ...    10061   \n",
       "Escambia, Alabama, US         0        0        0        0  ...     3934   \n",
       "Etowah, Alabama, US           0        0        0        0  ...    13834   \n",
       "Fayette, Alabama, US          0        0        0        0  ...     2124   \n",
       "Franklin, Alabama, US         0        0        0        0  ...     4256   \n",
       "\n",
       "                        5/11/21  5/12/21  5/13/21  5/14/21  5/15/21  5/16/21  \\\n",
       "Combined_Key                                                                   \n",
       "Autauga, Alabama, US       6926     6928     6938     6971     7001     7005   \n",
       "Baldwin, Alabama, US      21154    21170    21191    21290    21392    21411   \n",
       "Barbour, Alabama, US       2310     2314     2317     2319     2320     2320   \n",
       "Bibb, Alabama, US          2609     2612     2615     2630     2645     2647   \n",
       "Blount, Alabama, US        6678     6680     6694     6750     6771     6773   \n",
       "Bullock, Alabama, US       1228     1228     1228     1230     1232     1232   \n",
       "Butler, Alabama, US        2160     2164     2164     2178     2190     2191   \n",
       "Calhoun, Alabama, US      14511    14515    14522    14556    14569    14574   \n",
       "Chambers, Alabama, US      3573     3575     3578     3581     3590     3596   \n",
       "Cherokee, Alabama, US      1852     1852     1847     1843     1846     1848   \n",
       "Chilton, Alabama, US       4296     4302     4308     4343     4369     4373   \n",
       "Choctaw, Alabama, US        607      607      611      610      610      610   \n",
       "Clarke, Alabama, US        3511     3510     3511     3513     3514     3515   \n",
       "Clay, Alabama, US          1567     1568     1568     1569     1571     1572   \n",
       "Cleburne, Alabama, US      1489     1491     1491     1492     1496     1496   \n",
       "Coffee, Alabama, US        5519     5521     5524     5546     5578     5581   \n",
       "Colbert, Alabama, US       6306     6307     6310     6317     6320     6322   \n",
       "Conecuh, Alabama, US       1105     1105     1106     1106     1108     1108   \n",
       "Coosa, Alabama, US         1076     1079     1079     1089     1092     1092   \n",
       "Covington, Alabama, US     4129     4131     4136     4138     4138     4138   \n",
       "Crenshaw, Alabama, US      1525     1527     1527     1533     1535     1535   \n",
       "Cullman, Alabama, US       9676     9697     9705     9730     9761     9768   \n",
       "Dale, Alabama, US          4838     4845     4850     4869     4876     4877   \n",
       "Dallas, Alabama, US        3551     3555     3557     3564     3568     3569   \n",
       "DeKalb, Alabama, US        8831     8843     8846     8853     8865     8865   \n",
       "Elmore, Alabama, US       10068    10062    10060    10115    10147    10158   \n",
       "Escambia, Alabama, US      3936     3936     3939     3945     3947     3948   \n",
       "Etowah, Alabama, US       13843    13849    13861    13890    13918    13925   \n",
       "Fayette, Alabama, US       2125     2125     2125     2124     2126     2128   \n",
       "Franklin, Alabama, US      4260     4263     4262     4262     4262     4263   \n",
       "\n",
       "                        5/17/21  5/18/21  5/19/21  \n",
       "Combined_Key                                       \n",
       "Autauga, Alabama, US       7010     7015     7017  \n",
       "Baldwin, Alabama, US      21422    21444    21467  \n",
       "Barbour, Alabama, US       2320     2322     2324  \n",
       "Bibb, Alabama, US          2648     2651     2652  \n",
       "Blount, Alabama, US        6776     6794     6808  \n",
       "Bullock, Alabama, US       1233     1233     1233  \n",
       "Butler, Alabama, US        2190     2190     2191  \n",
       "Calhoun, Alabama, US      14577    14580    14586  \n",
       "Chambers, Alabama, US      3598     3606     3616  \n",
       "Cherokee, Alabama, US      1848     1849     1850  \n",
       "Chilton, Alabama, US       4383     4389     4389  \n",
       "Choctaw, Alabama, US        610      610      611  \n",
       "Clarke, Alabama, US        3515     3515     3517  \n",
       "Clay, Alabama, US          1572     1573     1574  \n",
       "Cleburne, Alabama, US      1496     1498     1498  \n",
       "Coffee, Alabama, US        5583     5589     5592  \n",
       "Colbert, Alabama, US       6322     6324     6329  \n",
       "Conecuh, Alabama, US       1108     1108     1108  \n",
       "Coosa, Alabama, US         1092     1092     1094  \n",
       "Covington, Alabama, US     4138     4147     4151  \n",
       "Crenshaw, Alabama, US      1536     1537     1536  \n",
       "Cullman, Alabama, US       9773     9786     9794  \n",
       "Dale, Alabama, US          4878     4883     4885  \n",
       "Dallas, Alabama, US        3569     3573     3575  \n",
       "DeKalb, Alabama, US        8866     8870     8872  \n",
       "Elmore, Alabama, US       10158    10166    10166  \n",
       "Escambia, Alabama, US      3951     3953     3953  \n",
       "Etowah, Alabama, US       13927    13938    13936  \n",
       "Fayette, Alabama, US       2131     2132     2133  \n",
       "Franklin, Alabama, US      4263     4262     4263  \n",
       "\n",
       "[30 rows x 484 columns]"
      ]
     },
     "execution_count": 14,
     "metadata": {},
     "output_type": "execute_result"
    }
   ],
   "source": [
    "df = pd.read_csv('data/confirmed.csv',index_col=[0])\n",
    "df"
   ]
  },
  {
   "cell_type": "code",
   "execution_count": 30,
   "metadata": {},
   "outputs": [],
   "source": [
    "def gen_lab(dataset, start, end, experience, future):   \n",
    "    data = []\n",
    "    labels = []\n",
    "    data_list = []\n",
    "    labels_list = []\n",
    "\n",
    "    real_start = start + experience     \n",
    "\n",
    "    for i in range(real_start, end):    \n",
    "        data.append(dataset.iloc[:,i-experience:i])    \n",
    "        labels.append(dataset.iloc[:,i:i+future])    \n",
    "    #print(labels)\n",
    "    \n",
    "    for j in range(len(data)):\n",
    "        data_tensor = th.Tensor(np.array(data[j]))\n",
    "        data_list.append(data_tensor)\n",
    "    \n",
    "    for k in range(len(labels)):\n",
    "        labels_tensor = th.Tensor(np.array(labels[k]))\n",
    "        labels_list.append(labels_tensor)\n",
    "    \n",
    "    return th.stack(data_list), th.stack(labels_list)"
   ]
  },
  {
   "cell_type": "code",
   "execution_count": 31,
   "metadata": {
    "scrolled": false
   },
   "outputs": [],
   "source": [
    "df_n = (df-df.min())/(df.max()-df.min())\n",
    "#print(df_n.iloc[:,6:7].T)\n",
    "\n",
    "train_x,train_y = gen_lab(df_n,100,300,7,1)\n",
    "valid_x,valid_y = gen_lab(df_n,300,400,7,1)\n",
    "test_x,test_y = gen_lab(df_n,400,480,7,1)"
   ]
  },
  {
   "cell_type": "code",
   "execution_count": 32,
   "metadata": {},
   "outputs": [
    {
     "data": {
      "text/plain": [
       "(torch.Size([23, 30, 7]),\n",
       " torch.Size([23, 30, 1]),\n",
       " torch.Size([3, 30, 7]),\n",
       " torch.Size([3, 30, 7]))"
      ]
     },
     "execution_count": 32,
     "metadata": {},
     "output_type": "execute_result"
    }
   ],
   "source": [
    "train_x.shape,train_y.shape,valid_x.shape,test_x.shape"
   ]
  },
  {
   "cell_type": "code",
   "execution_count": 33,
   "metadata": {},
   "outputs": [],
   "source": [
    "def gcn_trainer(network,graph,input_data,label_data,training_times,\n",
    "                optimizer,criterion,loss_list,dur_list):\n",
    "\n",
    "    #loss_list = loss_list\n",
    "    #network = network\n",
    "\n",
    "    for epoch in range(training_times):\n",
    "        t0 = time.time()\n",
    "        network.train()\n",
    "        out = network(graph,input_data)          \n",
    "        \n",
    "        #criterion = criterion\n",
    "        loss = criterion(out,label_data)\n",
    "        \n",
    "        #optimizer = optimizer\n",
    "        optimizer.zero_grad()\n",
    "        loss.backward()\n",
    "        optimizer.step()\n",
    "\n",
    "        loss_list.append(loss)\n",
    "        dur_list.append(time.time() - t0)\n",
    "        \n",
    "        if (epoch+1) % 50 == 0:\n",
    "            #acc = evaluate(net, g, features, labels, test_mask)\n",
    "            print(\"Epoch {:04d} | MAE_Test_Loss {:.4f}\".format(epoch+1, loss.item())) "
   ]
  },
  {
   "cell_type": "code",
   "execution_count": 34,
   "metadata": {},
   "outputs": [
    {
     "name": "stdout",
     "output_type": "stream",
     "text": [
      "Batch1: Epoch 0050 | MAE_Test_Loss 0.1240\n",
      "Batch2: Epoch 0050 | MAE_Test_Loss 0.0409\n",
      "Batch3: Epoch 0050 | MAE_Test_Loss 0.0217\n",
      "Batch4: Epoch 0050 | MAE_Test_Loss 0.0150\n",
      "Batch5: Epoch 0050 | MAE_Test_Loss 0.0135\n",
      "Batch6: Epoch 0050 | MAE_Test_Loss 0.0108\n",
      "Batch7: Epoch 0050 | MAE_Test_Loss 0.0090\n",
      "Batch8: Epoch 0050 | MAE_Test_Loss 0.0077\n",
      "Batch9: Epoch 0050 | MAE_Test_Loss 0.0083\n",
      "Batch10: Epoch 0050 | MAE_Test_Loss 0.0061\n",
      "Batch11: Epoch 0050 | MAE_Test_Loss 0.0081\n",
      "Batch12: Epoch 0050 | MAE_Test_Loss 0.0102\n",
      "Batch13: Epoch 0050 | MAE_Test_Loss 0.0063\n",
      "Batch14: Epoch 0050 | MAE_Test_Loss 0.0044\n",
      "Batch15: Epoch 0050 | MAE_Test_Loss 0.0058\n",
      "Batch16: Epoch 0050 | MAE_Test_Loss 0.0058\n",
      "Batch17: Epoch 0050 | MAE_Test_Loss 0.0057\n",
      "Batch18: Epoch 0050 | MAE_Test_Loss 0.0069\n",
      "Batch19: Epoch 0050 | MAE_Test_Loss 0.0067\n",
      "Batch20: Epoch 0050 | MAE_Test_Loss 0.0044\n",
      "Batch21: Epoch 0050 | MAE_Test_Loss 0.0068\n",
      "Batch22: Epoch 0050 | MAE_Test_Loss 0.0085\n",
      "Batch23: Epoch 0050 | MAE_Test_Loss 0.0072\n"
     ]
    }
   ],
   "source": [
    "GPGCN=GCN(7,14,1);GPGCN_Loss_list=[];GPGCN_Loss_list.clear();GPGCN_MAE_Dur_list=[]\n",
    "for i in range(len(train_x)):\n",
    "    print('Batch{:d}: '.format(i+1),end='')\n",
    "    gcn_trainer(GPGCN,G1,train_x[i],train_y[i],50,th.optim.Adam(GPGCN.parameters(), lr=1e-3),nn.L1Loss(),GPGCN_Loss_list,GPGCN_MAE_Dur_list)"
   ]
  },
  {
   "cell_type": "code",
   "execution_count": 35,
   "metadata": {},
   "outputs": [
    {
     "name": "stdout",
     "output_type": "stream",
     "text": [
      "Batch1: Epoch 0050 | MAE_Test_Loss 0.0417\n",
      "Batch2: Epoch 0050 | MAE_Test_Loss 0.0319\n",
      "Batch3: Epoch 0050 | MAE_Test_Loss 0.0215\n",
      "Batch4: Epoch 0050 | MAE_Test_Loss 0.0182\n",
      "Batch5: Epoch 0050 | MAE_Test_Loss 0.0173\n",
      "Batch6: Epoch 0050 | MAE_Test_Loss 0.0132\n",
      "Batch7: Epoch 0050 | MAE_Test_Loss 0.0104\n",
      "Batch8: Epoch 0050 | MAE_Test_Loss 0.0096\n",
      "Batch9: Epoch 0050 | MAE_Test_Loss 0.0107\n",
      "Batch10: Epoch 0050 | MAE_Test_Loss 0.0094\n",
      "Batch11: Epoch 0050 | MAE_Test_Loss 0.0107\n",
      "Batch12: Epoch 0050 | MAE_Test_Loss 0.0124\n",
      "Batch13: Epoch 0050 | MAE_Test_Loss 0.0104\n",
      "Batch14: Epoch 0050 | MAE_Test_Loss 0.0089\n",
      "Batch15: Epoch 0050 | MAE_Test_Loss 0.0073\n",
      "Batch16: Epoch 0050 | MAE_Test_Loss 0.0075\n",
      "Batch17: Epoch 0050 | MAE_Test_Loss 0.0077\n",
      "Batch18: Epoch 0050 | MAE_Test_Loss 0.0089\n",
      "Batch19: Epoch 0050 | MAE_Test_Loss 0.0100\n",
      "Batch20: Epoch 0050 | MAE_Test_Loss 0.0081\n",
      "Batch21: Epoch 0050 | MAE_Test_Loss 0.0071\n",
      "Batch22: Epoch 0050 | MAE_Test_Loss 0.0100\n",
      "Batch23: Epoch 0050 | MAE_Test_Loss 0.0107\n"
     ]
    }
   ],
   "source": [
    "HSRGCN=GCN(7,14,1);HSRGCN_Loss_list=[];HSRGCN_Loss_list.clear();HSRGCN_MAE_Dur_list=[]\n",
    "for i in range(len(train_x)):\n",
    "    print('Batch{:d}: '.format(i+1),end='')\n",
    "    gcn_trainer(HSRGCN,GA,train_x[i],train_y[i],50,th.optim.Adam(HSRGCN.parameters(), lr=1e-3),nn.L1Loss(),HSRGCN_Loss_list,HSRGCN_MAE_Dur_list)"
   ]
  },
  {
   "cell_type": "code",
   "execution_count": 36,
   "metadata": {},
   "outputs": [
    {
     "name": "stdout",
     "output_type": "stream",
     "text": [
      "Batch1: Epoch 0050 | MAE_Test_Loss 0.2983\n",
      "Batch2: Epoch 0050 | MAE_Test_Loss 0.1107\n",
      "Batch3: Epoch 0050 | MAE_Test_Loss 0.0331\n",
      "Batch4: Epoch 0050 | MAE_Test_Loss 0.0225\n",
      "Batch5: Epoch 0050 | MAE_Test_Loss 0.0193\n",
      "Batch6: Epoch 0050 | MAE_Test_Loss 0.0120\n",
      "Batch7: Epoch 0050 | MAE_Test_Loss 0.0100\n",
      "Batch8: Epoch 0050 | MAE_Test_Loss 0.0104\n",
      "Batch9: Epoch 0050 | MAE_Test_Loss 0.0117\n",
      "Batch10: Epoch 0050 | MAE_Test_Loss 0.0110\n",
      "Batch11: Epoch 0050 | MAE_Test_Loss 0.0125\n",
      "Batch12: Epoch 0050 | MAE_Test_Loss 0.0161\n",
      "Batch13: Epoch 0050 | MAE_Test_Loss 0.0138\n",
      "Batch14: Epoch 0050 | MAE_Test_Loss 0.0118\n",
      "Batch15: Epoch 0050 | MAE_Test_Loss 0.0097\n",
      "Batch16: Epoch 0050 | MAE_Test_Loss 0.0086\n",
      "Batch17: Epoch 0050 | MAE_Test_Loss 0.0076\n",
      "Batch18: Epoch 0050 | MAE_Test_Loss 0.0116\n",
      "Batch19: Epoch 0050 | MAE_Test_Loss 0.0107\n",
      "Batch20: Epoch 0050 | MAE_Test_Loss 0.0081\n",
      "Batch21: Epoch 0050 | MAE_Test_Loss 0.0068\n",
      "Batch22: Epoch 0050 | MAE_Test_Loss 0.0082\n",
      "Batch23: Epoch 0050 | MAE_Test_Loss 0.0088\n"
     ]
    }
   ],
   "source": [
    "ALGCN=GCN(7,14,1);ALGCN_Loss_list=[];ALGCN_Loss_list.clear();ALGCN_MAE_Dur_list=[]\n",
    "for i in range(len(train_x)):\n",
    "    print('Batch{:d}: '.format(i+1),end='')\n",
    "    gcn_trainer(ALGCN,GE,train_x[i],train_y[i],50,th.optim.Adam(ALGCN.parameters(), lr=1e-3),nn.L1Loss(),ALGCN_Loss_list,ALGCN_MAE_Dur_list)"
   ]
  },
  {
   "cell_type": "code",
   "execution_count": 37,
   "metadata": {},
   "outputs": [
    {
     "name": "stdout",
     "output_type": "stream",
     "text": [
      "Batch1: Epoch 0050 | MAE_Test_Loss 0.0327\n",
      "Batch2: Epoch 0050 | MAE_Test_Loss 0.0193\n",
      "Batch3: Epoch 0050 | MAE_Test_Loss 0.0155\n",
      "Batch4: Epoch 0050 | MAE_Test_Loss 0.0152\n",
      "Batch5: Epoch 0050 | MAE_Test_Loss 0.0149\n",
      "Batch6: Epoch 0050 | MAE_Test_Loss 0.0104\n",
      "Batch7: Epoch 0050 | MAE_Test_Loss 0.0091\n",
      "Batch8: Epoch 0050 | MAE_Test_Loss 0.0089\n",
      "Batch9: Epoch 0050 | MAE_Test_Loss 0.0090\n",
      "Batch10: Epoch 0050 | MAE_Test_Loss 0.0080\n",
      "Batch11: Epoch 0050 | MAE_Test_Loss 0.0081\n",
      "Batch12: Epoch 0050 | MAE_Test_Loss 0.0115\n",
      "Batch13: Epoch 0050 | MAE_Test_Loss 0.0081\n",
      "Batch14: Epoch 0050 | MAE_Test_Loss 0.0067\n",
      "Batch15: Epoch 0050 | MAE_Test_Loss 0.0062\n",
      "Batch16: Epoch 0050 | MAE_Test_Loss 0.0064\n",
      "Batch17: Epoch 0050 | MAE_Test_Loss 0.0048\n",
      "Batch18: Epoch 0050 | MAE_Test_Loss 0.0080\n",
      "Batch19: Epoch 0050 | MAE_Test_Loss 0.0091\n",
      "Batch20: Epoch 0050 | MAE_Test_Loss 0.0045\n",
      "Batch21: Epoch 0050 | MAE_Test_Loss 0.0043\n",
      "Batch22: Epoch 0050 | MAE_Test_Loss 0.0073\n",
      "Batch23: Epoch 0050 | MAE_Test_Loss 0.0057\n"
     ]
    }
   ],
   "source": [
    "ALHSRGCN=GCN(7,14,1);ALHSRGCN_Loss_list=[];ALHSRGCN_Loss_list.clear();ALHSRGCN_MAE_Dur_list=[]\n",
    "for i in range(len(train_x)):\n",
    "    print('Batch{:d}: '.format(i+1),end='')\n",
    "    gcn_trainer(ALHSRGCN,Gpltr,train_x[i],train_y[i],50,th.optim.Adam(ALHSRGCN.parameters(), lr=1e-3),nn.L1Loss(),ALHSRGCN_Loss_list,ALHSRGCN_MAE_Dur_list)"
   ]
  },
  {
   "cell_type": "code",
   "execution_count": 39,
   "metadata": {},
   "outputs": [
    {
     "data": {
      "image/png": "[encoded data removed]",
      "text/plain": [
       "<Figure size 432x288 with 1 Axes>"
      ]
     },
     "metadata": {},
     "output_type": "display_data"
    }
   ],
   "source": [
    "plt.style.use('ggplot')\n",
    "GPGCN_Loss_list_numpy = []\n",
    "HSRGCN_Loss_list_numpy = []\n",
    "ALGCN_Loss_list_numpy = []\n",
    "ALHSRGCN_Loss_list_numpy = []\n",
    "for i in GPGCN_Loss_list:\n",
    "    GPGCN_Loss_list_numpy.append(i.detach().numpy())\n",
    "for i in HSRGCN_Loss_list:\n",
    "    HSRGCN_Loss_list_numpy.append(i.detach().numpy())\n",
    "for i in ALGCN_Loss_list:\n",
    "    ALGCN_Loss_list_numpy.append(i.detach().numpy())\n",
    "for i in ALHSRGCN_Loss_list:\n",
    "    ALHSRGCN_Loss_list_numpy.append(i.detach().numpy())\n",
    "    \n",
    "plt.plot(GPGCN_Loss_list_numpy,label='GP GCN')\n",
    "plt.plot(HSRGCN_Loss_list_numpy,label='HSR GCN')\n",
    "plt.plot(ALGCN_Loss_list_numpy,label='AL GCN')\n",
    "plt.plot(ALHSRGCN_Loss_list_numpy,label='ALHSR GCN')\n",
    "plt.title('Changes of MAE during 1150 training process')\n",
    "plt.xlabel('Epoch')\n",
    "plt.ylabel('MAE Loss')\n",
    "plt.legend(loc=1)\n",
    "plt.show()"
   ]
  },
  {
   "cell_type": "code",
   "execution_count": 40,
   "metadata": {},
   "outputs": [],
   "source": [
    "GPGCN_During=np.sum(GPGCN_MAE_Dur_list)\n",
    "HSRGCN_During=np.sum(HSRGCN_MAE_Dur_list)\n",
    "ALGCN_During=np.sum(ALGCN_MAE_Dur_list)\n",
    "ALHSRGCN_During=np.sum(ALHSRGCN_MAE_Dur_list)"
   ]
  },
  {
   "cell_type": "code",
   "execution_count": 41,
   "metadata": {},
   "outputs": [
    {
     "data": {
      "text/plain": [
       "(8.510831356048584, 8.633125066757202, 8.775218486785889, 7.770577907562256)"
      ]
     },
     "execution_count": 41,
     "metadata": {},
     "output_type": "execute_result"
    }
   ],
   "source": [
    "GPGCN_During,HSRGCN_During,ALGCN_During,ALHSRGCN_During"
   ]
  },
  {
   "cell_type": "code",
   "execution_count": 42,
   "metadata": {},
   "outputs": [],
   "source": [
    "def mean_losslist(tlist):\n",
    "    return np.sum(tlist)/len(tlist)"
   ]
  },
  {
   "cell_type": "code",
   "execution_count": 43,
   "metadata": {},
   "outputs": [
    {
     "data": {
      "text/plain": [
       "(0.022890956712805707,\n",
       " 0.016169300908627716,\n",
       " 0.04291525467582371,\n",
       " 0.013794361612071161)"
      ]
     },
     "execution_count": 43,
     "metadata": {},
     "output_type": "execute_result"
    }
   ],
   "source": [
    "mean_losslist(GPGCN_Loss_list_numpy),mean_losslist(HSRGCN_Loss_list_numpy),mean_losslist(ALGCN_Loss_list_numpy),mean_losslist(ALHSRGCN_Loss_list_numpy)"
   ]
  },
  {
   "cell_type": "code",
   "execution_count": 44,
   "metadata": {},
   "outputs": [
    {
     "data": {
      "image/png": "[encoded data removed]",
      "text/plain": [
       "<Figure size 720x720 with 4 Axes>"
      ]
     },
     "metadata": {},
     "output_type": "display_data"
    }
   ],
   "source": [
    "plt.figure(figsize=(10,10))\n",
    "plt.figure(1)\n",
    "ax1 = plt.subplot(411)\n",
    "plt.plot(GPGCN_Loss_list_numpy,color='r',linestyle = \"-\",label='Geographical Proximity')\n",
    "plt.legend(loc=1)\n",
    "plt.ylabel('MAE Loss')\n",
    "ax2 = plt.subplot(412)\n",
    "plt.plot(HSRGCN_Loss_list_numpy,color='g',linestyle = \"-\",label='HSR Construction')\n",
    "plt.legend(loc=1)\n",
    "plt.ylabel('MAE Loss')\n",
    "ax3 = plt.subplot(413)\n",
    "plt.plot(ALGCN_Loss_list_numpy,color='b',linestyle = \"-\",label='Airline Construction')\n",
    "plt.legend(loc=1)\n",
    "plt.ylabel('MAE Loss')\n",
    "ax4= plt.subplot(414)\n",
    "plt.plot(ALHSRGCN_Loss_list_numpy,color='y',linestyle = \"-\",label='HSR and Airline Construction')\n",
    "plt.legend(loc=1)\n",
    "plt.ylabel('MAE Loss')\n",
    "plt.xlabel('Epoch')\n",
    "plt.show()"
   ]
  },
  {
   "cell_type": "code",
   "execution_count": 45,
   "metadata": {},
   "outputs": [],
   "source": [
    "def gcn_valid(network,test_input,test_label,criterion,loss_list):\n",
    "    for i in range(len(test_input)):\n",
    "        loss = criterion(network(G1,test_input[i]),test_label[i])\n",
    "        loss_list.append(loss)"
   ]
  },
  {
   "cell_type": "code",
   "execution_count": 46,
   "metadata": {},
   "outputs": [],
   "source": [
    "GPGCN_valid_loss_list=[];GPGCN_valid_loss_list.clear()\n",
    "gcn_valid(GPGCN,valid_x,valid_y,nn.L1Loss(),GPGCN_valid_loss_list)"
   ]
  },
  {
   "cell_type": "code",
   "execution_count": 47,
   "metadata": {},
   "outputs": [],
   "source": [
    "HSRGCN_valid_loss_list=[];HSRGCN_valid_loss_list.clear()\n",
    "gcn_valid(HSRGCN,valid_x,valid_y,nn.L1Loss(),HSRGCN_valid_loss_list)"
   ]
  },
  {
   "cell_type": "code",
   "execution_count": 48,
   "metadata": {},
   "outputs": [],
   "source": [
    "ALGCN_valid_loss_list=[];ALGCN_valid_loss_list.clear()\n",
    "gcn_valid(ALGCN,valid_x,valid_y,nn.L1Loss(),ALGCN_valid_loss_list)"
   ]
  },
  {
   "cell_type": "code",
   "execution_count": 49,
   "metadata": {},
   "outputs": [],
   "source": [
    "ALHSRGCN_valid_loss_list=[];ALHSRGCN_valid_loss_list.clear()\n",
    "gcn_valid(ALHSRGCN,valid_x,valid_y,nn.L1Loss(),ALHSRGCN_valid_loss_list)"
   ]
  },
  {
   "cell_type": "code",
   "execution_count": 50,
   "metadata": {},
   "outputs": [
    {
     "data": {
      "text/plain": [
       "<matplotlib.legend.Legend at 0x190d962b850>"
      ]
     },
     "execution_count": 50,
     "metadata": {},
     "output_type": "execute_result"
    },
    {
     "data": {
      "image/png": "[encoded data removed]",
      "text/plain": [
       "<Figure size 432x288 with 1 Axes>"
      ]
     },
     "metadata": {},
     "output_type": "display_data"
    }
   ],
   "source": [
    "GPGCN_valid_loss_list_numpy = []\n",
    "HSRGCN_valid_loss_list_numpy = []\n",
    "ALGCN_valid_loss_list_numpy = []\n",
    "ALHSRGCN_valid_loss_list_numpy = []\n",
    "for i in GPGCN_valid_loss_list:\n",
    "    GPGCN_valid_loss_list_numpy.append(i.detach().numpy())\n",
    "for i in HSRGCN_valid_loss_list:\n",
    "    HSRGCN_valid_loss_list_numpy.append(i.detach().numpy())\n",
    "for i in ALGCN_valid_loss_list:\n",
    "    ALGCN_valid_loss_list_numpy.append(i.detach().numpy())\n",
    "for i in ALHSRGCN_valid_loss_list:\n",
    "    ALHSRGCN_valid_loss_list_numpy.append(i.detach().numpy())\n",
    "\n",
    "plt.plot(GPGCN_valid_loss_list_numpy,label='GPGCN')\n",
    "plt.plot(HSRGCN_valid_loss_list_numpy,label='HSRGCN')\n",
    "plt.plot(ALGCN_valid_loss_list_numpy,label='ALGCN')\n",
    "plt.plot(ALHSRGCN_valid_loss_list_numpy,label='ALHSRGCN')\n",
    "plt.xlabel('Epoch')\n",
    "plt.ylabel('MAE Loss')\n",
    "plt.title('MAE on valid after 1150 trainings')\n",
    "plt.legend(loc=1)"
   ]
  },
  {
   "cell_type": "code",
   "execution_count": 51,
   "metadata": {},
   "outputs": [],
   "source": [
    "def gcn_tester(network,test_input,test_label,criterion,loss_list):\n",
    "    for i in range(len(test_input)):\n",
    "        loss = criterion(network(G1,test_input[i]),test_label[i])\n",
    "        loss_list.append(loss)"
   ]
  },
  {
   "cell_type": "code",
   "execution_count": 52,
   "metadata": {},
   "outputs": [],
   "source": [
    "GPGCN_test_loss_list=[];GPGCN_test_loss_list.clear()\n",
    "gcn_tester(GPGCN,test_x,test_y,nn.L1Loss(),GPGCN_test_loss_list)"
   ]
  },
  {
   "cell_type": "code",
   "execution_count": 53,
   "metadata": {},
   "outputs": [],
   "source": [
    "HSRGCN_test_loss_list=[];HSRGCN_test_loss_list.clear()\n",
    "gcn_tester(HSRGCN,test_x,test_y,nn.L1Loss(),HSRGCN_test_loss_list)"
   ]
  },
  {
   "cell_type": "code",
   "execution_count": 54,
   "metadata": {},
   "outputs": [],
   "source": [
    "ALGCN_test_loss_list=[];ALGCN_test_loss_list.clear()\n",
    "gcn_tester(ALGCN,test_x,test_y,nn.L1Loss(),ALGCN_test_loss_list)"
   ]
  },
  {
   "cell_type": "code",
   "execution_count": 55,
   "metadata": {},
   "outputs": [],
   "source": [
    "ALHSRGCN_test_loss_list=[];ALHSRGCN_test_loss_list.clear()\n",
    "gcn_tester(ALHSRGCN,test_x,test_y,nn.L1Loss(),ALHSRGCN_test_loss_list)"
   ]
  },
  {
   "cell_type": "code",
   "execution_count": 57,
   "metadata": {},
   "outputs": [
    {
     "data": {
      "text/plain": [
       "<matplotlib.legend.Legend at 0x190d9654700>"
      ]
     },
     "execution_count": 57,
     "metadata": {},
     "output_type": "execute_result"
    },
    {
     "data": {
      "image/png": "[encoded data removed]",
      "text/plain": [
       "<Figure size 432x288 with 1 Axes>"
      ]
     },
     "metadata": {},
     "output_type": "display_data"
    }
   ],
   "source": [
    "GPGCN_test_loss_list_numpy = []\n",
    "HSRGCN_test_loss_list_numpy = []\n",
    "ALGCN_test_loss_list_numpy = []\n",
    "ALHSRGCN_test_loss_list_numpy = []\n",
    "\n",
    "for i in GPGCN_test_loss_list:\n",
    "    GPGCN_test_loss_list_numpy.append(i.detach().numpy())\n",
    "    \n",
    "for i in HSRGCN_test_loss_list:\n",
    "    HSRGCN_test_loss_list_numpy.append(i.detach().numpy())\n",
    "    \n",
    "for i in ALGCN_test_loss_list:\n",
    "    ALGCN_test_loss_list_numpy.append(i.detach().numpy())\n",
    "    \n",
    "for i in ALHSRGCN_test_loss_list:\n",
    "    ALHSRGCN_test_loss_list_numpy.append(i.detach().numpy())\n",
    "\n",
    "plt.plot(GPGCN_test_loss_list_numpy,label='GPGCN')\n",
    "plt.plot(HSRGCN_test_loss_list_numpy,label='HSRGCN')\n",
    "plt.plot(ALGCN_test_loss_list_numpy,label='ALGCN')\n",
    "plt.plot(ALHSRGCN_test_loss_list_numpy,label='ALHSRGCN')\n",
    "plt.xlabel('Epoch')\n",
    "plt.ylabel('MAE Loss')\n",
    "plt.title('MAE on test after 1150 trainings')\n",
    "plt.legend(loc=1)"
   ]
  },
  {
   "cell_type": "code",
   "execution_count": 60,
   "metadata": {},
   "outputs": [
    {
     "data": {
      "text/plain": [
       "<matplotlib.legend.Legend at 0x190d81cceb0>"
      ]
     },
     "execution_count": 60,
     "metadata": {},
     "output_type": "execute_result"
    },
    {
     "data": {
      "image/png": "[encoded data removed]",
      "text/plain": [
       "<Figure size 720x720 with 4 Axes>"
      ]
     },
     "metadata": {},
     "output_type": "display_data"
    }
   ],
   "source": [
    "plt.figure(figsize=(10,10))\n",
    "plt.figure(1)\n",
    "\n",
    "GPGCN_test_loss_list_numpy = []\n",
    "HSRGCN_test_loss_list_numpy = []\n",
    "ALGCN_test_loss_list_numpy = []\n",
    "ALHSRGCN_test_loss_list_numpy = []\n",
    "\n",
    "for i in GPGCN_test_loss_list:\n",
    "    GPGCN_test_loss_list_numpy.append(i.detach().numpy())\n",
    "for i in HSRGCN_test_loss_list:\n",
    "    HSRGCN_test_loss_list_numpy.append(i.detach().numpy())\n",
    "for i in ALGCN_test_loss_list:\n",
    "    ALGCN_test_loss_list_numpy.append(i.detach().numpy())\n",
    "for i in ALHSRGCN_test_loss_list:\n",
    "    ALHSRGCN_test_loss_list_numpy.append(i.detach().numpy())\n",
    "\n",
    "ax1 = plt.subplot(411)\n",
    "plt.plot(GPGCN_test_loss_list_numpy,color=\"r\",linestyle = \"-\",label='Geographical Proximity')\n",
    "plt.ylabel('MAE Loss')\n",
    "plt.legend()\n",
    "\n",
    "ax2 = plt.subplot(412)\n",
    "plt.plot(HSRGCN_test_loss_list_numpy, color=\"g\",linestyle = \"-\",label='HSR Construction')\n",
    "plt.ylabel('MAE Loss')\n",
    "plt.legend()\n",
    "\n",
    "ax3 = plt.subplot(413)\n",
    "plt.plot(ALGCN_test_loss_list_numpy,color=\"b\",linestyle = \"-\",label='Airline Construction')\n",
    "plt.ylabel('MAE Loss')\n",
    "plt.legend()\n",
    "\n",
    "ax4 = plt.subplot(414)\n",
    "plt.plot(ALHSRGCN_test_loss_list_numpy,color=\"y\",linestyle = \"-\",label='HSR and Airline Construction')\n",
    "plt.xlabel('Epoch')\n",
    "plt.ylabel('MAE Loss')\n",
    "plt.legend()"
   ]
  },
  {
   "cell_type": "code",
   "execution_count": 61,
   "metadata": {},
   "outputs": [
    {
     "data": {
      "text/plain": [
       "(0.008647669727603594, 0.039809013406435646)"
      ]
     },
     "execution_count": 61,
     "metadata": {},
     "output_type": "execute_result"
    }
   ],
   "source": [
    "mean_losslist(GPGCN_test_loss_list_numpy),mean_losslist(HSRGCN_test_loss_list_numpy)"
   ]
  },
  {
   "cell_type": "code",
   "execution_count": 62,
   "metadata": {},
   "outputs": [
    {
     "data": {
      "text/plain": [
       "(0.03046523779630661, 0.013286635279655457)"
      ]
     },
     "execution_count": 62,
     "metadata": {},
     "output_type": "execute_result"
    }
   ],
   "source": [
    "mean_losslist(ALGCN_test_loss_list_numpy),mean_losslist(ALHSRGCN_test_loss_list_numpy)"
   ]
  },
  {
   "cell_type": "markdown",
   "metadata": {},
   "source": [
    "## RNN"
   ]
  },
  {
   "cell_type": "code",
   "execution_count": 63,
   "metadata": {},
   "outputs": [],
   "source": [
    "class RNNs(nn.Module):\n",
    "    def __init__(self, input_dim, hidden_dim, out_dim, layers, dropout=0):\n",
    "        super(RNNs,self).__init__()\n",
    "\n",
    "        self.rnn = nn.RNN(input_size=input_dim, hidden_size=hidden_dim, num_layers=layers, dropout=dropout)\n",
    "        self.linear = nn.Linear(hidden_dim, out_dim)\n",
    "\n",
    "\n",
    "    def forward(self, x):\n",
    "        out, hidden = self.rnn(x)\n",
    "        channel_size,city_size,period_size = out.shape\n",
    "        out = out.view(channel_size*city_size,period_size)\n",
    "        out = self.linear(out)\n",
    "        out = out.view(channel_size,city_size,-1)\n",
    "        return out"
   ]
  },
  {
   "cell_type": "code",
   "execution_count": 64,
   "metadata": {},
   "outputs": [],
   "source": [
    "def rnn_trainer(network,input_data,label_data,training_times,\n",
    "                optimizer,criterion,loss_list,dur_list):\n",
    "\n",
    "    #loss_list = loss_list\n",
    "    #network = network\n",
    "\n",
    "    for epoch in range(training_times):\n",
    "        t0 = time.time()\n",
    "        network.train()\n",
    "        out = network(input_data)          \n",
    "        \n",
    "        #criterion = criterion\n",
    "        loss = criterion(out,label_data)\n",
    "        \n",
    "        #optimizer = optimizer\n",
    "        optimizer.zero_grad()\n",
    "        loss.backward()\n",
    "        optimizer.step()\n",
    "\n",
    "        loss_list.append(loss)\n",
    "        dur_list.append(time.time() - t0)\n",
    "        \n",
    "        if (epoch+1) % 100 == 0:\n",
    "            #acc = evaluate(net, g, features, labels, test_mask)\n",
    "            print(\"Epoch {:04d} | MAE_Loss {:.4f}\".format(epoch+1, loss.item())) "
   ]
  },
  {
   "cell_type": "code",
   "execution_count": 65,
   "metadata": {},
   "outputs": [
    {
     "name": "stdout",
     "output_type": "stream",
     "text": [
      "Epoch 0100 | MAE_Loss 0.0275\n",
      "Epoch 0200 | MAE_Loss 0.0162\n",
      "Epoch 0300 | MAE_Loss 0.0112\n",
      "Epoch 0400 | MAE_Loss 0.0098\n",
      "Epoch 0500 | MAE_Loss 0.0088\n",
      "Epoch 0600 | MAE_Loss 0.0081\n",
      "Epoch 0700 | MAE_Loss 0.0076\n",
      "Epoch 0800 | MAE_Loss 0.0071\n",
      "Epoch 0900 | MAE_Loss 0.0073\n",
      "Epoch 1000 | MAE_Loss 0.0068\n",
      "Epoch 1100 | MAE_Loss 0.0069\n"
     ]
    }
   ],
   "source": [
    "RNN_Model = RNNs(7, 14, 1,2);RNN_Loss_list=[];RNN_Loss_list.clear();RNN_Dur_list=[]\n",
    "rnn_trainer(RNN_Model,train_x,train_y,1150,th.optim.Adam(RNN_Model.parameters(), lr=1e-3),nn.L1Loss(),RNN_Loss_list,RNN_Dur_list)"
   ]
  },
  {
   "cell_type": "code",
   "execution_count": 66,
   "metadata": {},
   "outputs": [
    {
     "name": "stderr",
     "output_type": "stream",
     "text": [
      "No handles with labels found to put in legend.\n"
     ]
    },
    {
     "data": {
      "text/plain": [
       "<matplotlib.legend.Legend at 0x190d4cd95b0>"
      ]
     },
     "execution_count": 66,
     "metadata": {},
     "output_type": "execute_result"
    },
    {
     "data": {
      "image/png": "[encoded data removed]",
      "text/plain": [
       "<Figure size 432x288 with 1 Axes>"
      ]
     },
     "metadata": {},
     "output_type": "display_data"
    }
   ],
   "source": [
    "RNN_Loss_list_numpy =[]\n",
    "for i in RNN_Loss_list:\n",
    "    RNN_Loss_list_numpy.append(i.detach().numpy())\n",
    "    \n",
    "plt.style.use('ggplot')\n",
    "plt.plot(RNN_Loss_list_numpy)\n",
    "plt.xlabel('Epoch')\n",
    "plt.ylabel('MAE Loss')\n",
    "plt.title('RNN Train Loss')\n",
    "plt.legend()"
   ]
  },
  {
   "cell_type": "code",
   "execution_count": 67,
   "metadata": {},
   "outputs": [
    {
     "data": {
      "text/plain": [
       "0.014736716228982677"
      ]
     },
     "execution_count": 67,
     "metadata": {},
     "output_type": "execute_result"
    }
   ],
   "source": [
    "mean_losslist(RNN_Loss_list_numpy)"
   ]
  },
  {
   "cell_type": "code",
   "execution_count": 68,
   "metadata": {},
   "outputs": [],
   "source": [
    "def rnn_tester(network,test_input,test_label,criterion,loss_list):\n",
    "    loss = criterion(network(test_input),test_label)\n",
    "    loss_list.append(loss)"
   ]
  },
  {
   "cell_type": "code",
   "execution_count": 69,
   "metadata": {},
   "outputs": [],
   "source": [
    "RNN_test_loss_list=[];RNN_test_loss_list.clear()\n",
    "rnn_tester(RNN_Model,test_x,test_y,nn.L1Loss(),RNN_test_loss_list)"
   ]
  },
  {
   "cell_type": "code",
   "execution_count": 70,
   "metadata": {},
   "outputs": [
    {
     "data": {
      "text/plain": [
       "0.007685292512178421"
      ]
     },
     "execution_count": 70,
     "metadata": {},
     "output_type": "execute_result"
    }
   ],
   "source": [
    "RNN_test_loss_list_numpy = []\n",
    "for i in RNN_test_loss_list:\n",
    "    RNN_test_loss_list_numpy.append(i.detach().numpy())\n",
    "mean_losslist(RNN_test_loss_list_numpy)"
   ]
  },
  {
   "cell_type": "markdown",
   "metadata": {},
   "source": [
    "## LSTM"
   ]
  },
  {
   "cell_type": "code",
   "execution_count": 71,
   "metadata": {},
   "outputs": [],
   "source": [
    "class LSTMs(nn.Module):\n",
    "    def __init__(self, input_dim, hidden_dim, out_dim, layers, dropout=0):\n",
    "        super(LSTMs,self).__init__()\n",
    "\n",
    "        self.lstm = nn.LSTM(input_size=input_dim, hidden_size=hidden_dim, num_layers=layers, dropout=dropout)\n",
    "        self.linear = nn.Linear(hidden_dim, out_dim)\n",
    "\n",
    "\n",
    "    def forward(self, x):\n",
    "        out, hidden = self.lstm(x)\n",
    "        channel_size,city_size,period_size = out.shape\n",
    "        out = out.view(channel_size*city_size,period_size)\n",
    "        out = self.linear(out)\n",
    "        out = out.view(channel_size,city_size,-1)\n",
    "        return out"
   ]
  },
  {
   "cell_type": "code",
   "execution_count": 72,
   "metadata": {},
   "outputs": [],
   "source": [
    "LSTM_Model=LSTMs(7,14,1,2)"
   ]
  },
  {
   "cell_type": "code",
   "execution_count": 73,
   "metadata": {},
   "outputs": [],
   "source": [
    "def lstm_trainer(network,input_data,label_data,training_times,\n",
    "                optimizer,criterion,loss_list,dur_list):\n",
    "\n",
    "    #loss_list = loss_list\n",
    "    #network = network\n",
    "\n",
    "    for epoch in range(training_times):\n",
    "        t0 = time.time()\n",
    "        network.train()\n",
    "        out = network(input_data)          \n",
    "        \n",
    "        #criterion = criterion\n",
    "        loss = criterion(out,label_data)\n",
    "        \n",
    "        #optimizer = optimizer\n",
    "        optimizer.zero_grad()\n",
    "        loss.backward()\n",
    "        optimizer.step()\n",
    "\n",
    "        loss_list.append(loss)\n",
    "        dur_list.append(time.time() - t0)\n",
    "        \n",
    "        if (epoch+1) % 100 == 0:\n",
    "            #acc = evaluate(net, g, features, labels, test_mask)\n",
    "            print(\"Epoch {:04d} | MAE_Loss {:.4f}\".format(epoch+1, loss.item())) "
   ]
  },
  {
   "cell_type": "code",
   "execution_count": 74,
   "metadata": {},
   "outputs": [
    {
     "name": "stdout",
     "output_type": "stream",
     "text": [
      "Epoch 0100 | MAE_Loss 0.0533\n",
      "Epoch 0200 | MAE_Loss 0.0247\n",
      "Epoch 0300 | MAE_Loss 0.0174\n",
      "Epoch 0400 | MAE_Loss 0.0135\n",
      "Epoch 0500 | MAE_Loss 0.0111\n",
      "Epoch 0600 | MAE_Loss 0.0091\n",
      "Epoch 0700 | MAE_Loss 0.0082\n",
      "Epoch 0800 | MAE_Loss 0.0075\n",
      "Epoch 0900 | MAE_Loss 0.0075\n",
      "Epoch 1000 | MAE_Loss 0.0068\n",
      "Epoch 1100 | MAE_Loss 0.0066\n"
     ]
    }
   ],
   "source": [
    "LSTM_Loss_list=[];LSTM_Loss_list.clear();LSTM_Dur_list=[]\n",
    "lstm_trainer(LSTM_Model,train_x,train_y,1150,th.optim.Adam(LSTM_Model.parameters(), lr=1e-3),nn.L1Loss(),LSTM_Loss_list,LSTM_Dur_list)"
   ]
  },
  {
   "cell_type": "code",
   "execution_count": 75,
   "metadata": {},
   "outputs": [
    {
     "name": "stderr",
     "output_type": "stream",
     "text": [
      "No handles with labels found to put in legend.\n"
     ]
    },
    {
     "data": {
      "text/plain": [
       "<matplotlib.legend.Legend at 0x190d9a0a6a0>"
      ]
     },
     "execution_count": 75,
     "metadata": {},
     "output_type": "execute_result"
    },
    {
     "data": {
      "image/png": "[encoded data removed]",
      "text/plain": [
       "<Figure size 432x288 with 1 Axes>"
      ]
     },
     "metadata": {},
     "output_type": "display_data"
    }
   ],
   "source": [
    "LSTM_Loss_list_numpy = []\n",
    "for i in LSTM_Loss_list:\n",
    "    LSTM_Loss_list_numpy.append(i.detach().numpy())\n",
    "\n",
    "plt.style.use('ggplot')\n",
    "plt.plot(LSTM_Loss_list_numpy)\n",
    "plt.xlabel('Epoch')\n",
    "plt.ylabel('MAE Loss')\n",
    "plt.title('LSTM Train Loss')\n",
    "plt.legend()"
   ]
  },
  {
   "cell_type": "code",
   "execution_count": 76,
   "metadata": {},
   "outputs": [
    {
     "data": {
      "text/plain": [
       "0.02262027574622113"
      ]
     },
     "execution_count": 76,
     "metadata": {},
     "output_type": "execute_result"
    }
   ],
   "source": [
    "mean_losslist(LSTM_Loss_list_numpy)"
   ]
  },
  {
   "cell_type": "code",
   "execution_count": 77,
   "metadata": {},
   "outputs": [],
   "source": [
    "def lstm_tester(network,test_input,test_label,criterion,loss_list):\n",
    "    loss = criterion(network(test_input),test_label)\n",
    "    loss_list.append(loss)"
   ]
  },
  {
   "cell_type": "code",
   "execution_count": 78,
   "metadata": {},
   "outputs": [],
   "source": [
    "LSTM_test_loss_list=[];LSTM_test_loss_list.clear()\n",
    "lstm_tester(LSTM_Model,test_x,test_y,nn.L1Loss(),LSTM_test_loss_list)"
   ]
  },
  {
   "cell_type": "code",
   "execution_count": 79,
   "metadata": {},
   "outputs": [
    {
     "data": {
      "text/plain": [
       "0.013605835847556591"
      ]
     },
     "execution_count": 79,
     "metadata": {},
     "output_type": "execute_result"
    }
   ],
   "source": [
    "LSTM_test_loss_list_numpy = []\n",
    "for i in LSTM_test_loss_list:\n",
    "    LSTM_test_loss_list_numpy.append(i.detach().numpy())\n",
    "mean_losslist(LSTM_test_loss_list_numpy)"
   ]
  },
  {
   "cell_type": "markdown",
   "metadata": {},
   "source": [
    "## GRU"
   ]
  },
  {
   "cell_type": "code",
   "execution_count": 80,
   "metadata": {},
   "outputs": [],
   "source": [
    "class GRUs(nn.Module):\n",
    "    def __init__(self, input_dim, hidden_dim, out_dim, layers, dropout=0):\n",
    "        super(GRUs,self).__init__()\n",
    "\n",
    "        self.lstm = nn.GRU(input_size=input_dim, hidden_size=hidden_dim, num_layers=layers, dropout=dropout)\n",
    "        self.linear = nn.Linear(hidden_dim, out_dim)\n",
    "\n",
    "\n",
    "    def forward(self, x):\n",
    "        out, hidden = self.lstm(x)\n",
    "        channel_size,city_size,period_size = out.shape\n",
    "        out = out.view(channel_size*city_size,period_size)\n",
    "        out = self.linear(out)\n",
    "        out = out.view(channel_size,city_size,-1)\n",
    "        return out"
   ]
  },
  {
   "cell_type": "code",
   "execution_count": 81,
   "metadata": {},
   "outputs": [],
   "source": [
    "GRU_Model=GRUs(7,14,1,2)"
   ]
  },
  {
   "cell_type": "code",
   "execution_count": 82,
   "metadata": {},
   "outputs": [],
   "source": [
    "def gru_trainer(network,input_data,label_data,training_times,\n",
    "                optimizer,criterion,loss_list,dur_list):\n",
    "\n",
    "    #loss_list = loss_list\n",
    "    #network = network\n",
    "\n",
    "    for epoch in range(training_times):\n",
    "        t0 = time.time()\n",
    "        network.train()\n",
    "        out = network(input_data)          \n",
    "        \n",
    "        #criterion = criterion\n",
    "        loss = criterion(out,label_data)\n",
    "        \n",
    "        #optimizer = optimizer\n",
    "        optimizer.zero_grad()\n",
    "        loss.backward()\n",
    "        optimizer.step()\n",
    "\n",
    "        loss_list.append(loss)\n",
    "        dur_list.append(time.time() - t0)\n",
    "        \n",
    "        if (epoch+1) % 100 == 0:\n",
    "            #acc = evaluate(net, g, features, labels, test_mask)\n",
    "            print(\"Epoch {:04d} | MAE_Loss {:.4f}\".format(epoch+1, loss.item())) "
   ]
  },
  {
   "cell_type": "code",
   "execution_count": 83,
   "metadata": {},
   "outputs": [
    {
     "name": "stdout",
     "output_type": "stream",
     "text": [
      "Epoch 0100 | MAE_Loss 0.0463\n",
      "Epoch 0200 | MAE_Loss 0.0236\n",
      "Epoch 0300 | MAE_Loss 0.0157\n",
      "Epoch 0400 | MAE_Loss 0.0115\n",
      "Epoch 0500 | MAE_Loss 0.0097\n",
      "Epoch 0600 | MAE_Loss 0.0090\n",
      "Epoch 0700 | MAE_Loss 0.0084\n",
      "Epoch 0800 | MAE_Loss 0.0081\n",
      "Epoch 0900 | MAE_Loss 0.0077\n",
      "Epoch 1000 | MAE_Loss 0.0073\n",
      "Epoch 1100 | MAE_Loss 0.0071\n"
     ]
    }
   ],
   "source": [
    "GRU_Loss_list=[];GRU_Loss_list.clear();GRU_Dur_list=[]\n",
    "gru_trainer(GRU_Model,train_x,train_y,1150,th.optim.Adam(GRU_Model.parameters(), lr=1e-3),nn.L1Loss(),GRU_Loss_list,GRU_Dur_list)"
   ]
  },
  {
   "cell_type": "code",
   "execution_count": 84,
   "metadata": {},
   "outputs": [
    {
     "name": "stderr",
     "output_type": "stream",
     "text": [
      "No handles with labels found to put in legend.\n"
     ]
    },
    {
     "data": {
      "text/plain": [
       "<matplotlib.legend.Legend at 0x190d9acb4c0>"
      ]
     },
     "execution_count": 84,
     "metadata": {},
     "output_type": "execute_result"
    },
    {
     "data": {
      "image/png": "[encoded data removed]",
      "text/plain": [
       "<Figure size 432x288 with 1 Axes>"
      ]
     },
     "metadata": {},
     "output_type": "display_data"
    }
   ],
   "source": [
    "GRU_Loss_list_numpy = []\n",
    "for i in GRU_Loss_list:\n",
    "    GRU_Loss_list_numpy.append(i.detach().numpy())\n",
    "\n",
    "plt.style.use('ggplot')\n",
    "plt.plot(GRU_Loss_list_numpy)\n",
    "plt.xlabel('Epoch')\n",
    "plt.ylabel('MAE Loss')\n",
    "plt.title('GRU Train Loss')\n",
    "plt.legend()"
   ]
  },
  {
   "cell_type": "code",
   "execution_count": 85,
   "metadata": {},
   "outputs": [
    {
     "data": {
      "text/plain": [
       "0.022241419916567595"
      ]
     },
     "execution_count": 85,
     "metadata": {},
     "output_type": "execute_result"
    }
   ],
   "source": [
    "mean_losslist(GRU_Loss_list_numpy)"
   ]
  },
  {
   "cell_type": "code",
   "execution_count": 86,
   "metadata": {},
   "outputs": [],
   "source": [
    "def gru_tester(network,test_input,test_label,criterion,loss_list):\n",
    "    loss = criterion(network(test_input),test_label)\n",
    "    loss_list.append(loss)"
   ]
  },
  {
   "cell_type": "code",
   "execution_count": 87,
   "metadata": {},
   "outputs": [],
   "source": [
    "GRU_test_loss_list=[];GRU_test_loss_list.clear()\n",
    "gru_tester(GRU_Model,test_x,test_y,nn.L1Loss(),GRU_test_loss_list)"
   ]
  },
  {
   "cell_type": "code",
   "execution_count": 88,
   "metadata": {},
   "outputs": [
    {
     "data": {
      "text/plain": [
       "0.008303219452500343"
      ]
     },
     "execution_count": 88,
     "metadata": {},
     "output_type": "execute_result"
    }
   ],
   "source": [
    "GRU_test_loss_list_numpy = []\n",
    "for i in GRU_test_loss_list:\n",
    "    GRU_test_loss_list_numpy.append(i.detach().numpy())\n",
    "    \n",
    "mean_losslist(GRU_test_loss_list_numpy)"
   ]
  },
  {
   "cell_type": "markdown",
   "metadata": {},
   "source": [
    "## 综合分析"
   ]
  },
  {
   "cell_type": "code",
   "execution_count": 89,
   "metadata": {},
   "outputs": [
    {
     "data": {
      "image/png": "[encoded data removed]",
      "text/plain": [
       "<Figure size 432x288 with 1 Axes>"
      ]
     },
     "metadata": {},
     "output_type": "display_data"
    }
   ],
   "source": [
    "plt.style.use('ggplot')\n",
    "plt.plot(GPGCN_Loss_list_numpy[50:],label='GPGCN')\n",
    "plt.plot(HSRGCN_Loss_list_numpy[50:],label='HSRGCN')\n",
    "plt.plot(ALGCN_Loss_list_numpy[50:],label='ALGCN')\n",
    "plt.plot(ALHSRGCN_Loss_list_numpy[50:],label='ALHSRGCN')\n",
    "plt.plot(RNN_Loss_list_numpy[50:],label='RNN')\n",
    "plt.plot(GRU_Loss_list_numpy[50:],label='GRU')\n",
    "plt.plot(LSTM_Loss_list_numpy[50:],label='LSTM')\n",
    "\n",
    "plt.title('Changes of MAE (record after the 50th traning)')\n",
    "plt.xlabel('Epoch')\n",
    "plt.ylabel('MAE Loss')\n",
    "plt.legend(loc=1)\n",
    "plt.show()"
   ]
  },
  {
   "cell_type": "code",
   "execution_count": 90,
   "metadata": {},
   "outputs": [
    {
     "data": {
      "text/plain": [
       "[tensor(0.0080, grad_fn=<L1LossBackward>),\n",
       " tensor(0.0112, grad_fn=<L1LossBackward>),\n",
       " tensor(0.0068, grad_fn=<L1LossBackward>)]"
      ]
     },
     "execution_count": 90,
     "metadata": {},
     "output_type": "execute_result"
    }
   ],
   "source": [
    "GPGCN_test_loss_list"
   ]
  },
  {
   "cell_type": "code",
   "execution_count": 91,
   "metadata": {},
   "outputs": [
    {
     "data": {
      "text/plain": [
       "<matplotlib.legend.Legend at 0x190d9bcfd30>"
      ]
     },
     "execution_count": 91,
     "metadata": {},
     "output_type": "execute_result"
    },
    {
     "data": {
      "image/png": "[encoded data removed]",
      "text/plain": [
       "<Figure size 432x288 with 1 Axes>"
      ]
     },
     "metadata": {},
     "output_type": "display_data"
    }
   ],
   "source": [
    "plt.plot(GPGCN_test_loss_list_numpy,label='GPGCN')\n",
    "plt.plot(HSRGCN_test_loss_list_numpy,label='HSRGCN')\n",
    "plt.plot(ALGCN_test_loss_list_numpy,label='ALGCN')\n",
    "plt.plot(ALHSRGCN_test_loss_list_numpy,label='ALHSRGCN')\n",
    "plt.plot(RNN_test_loss_list_numpy,label='RNN')\n",
    "plt.plot(GRU_test_loss_list_numpy,label='GRU')\n",
    "plt.plot(LSTM_test_loss_list_numpy,label='LSTM')\n",
    "\n",
    "plt.xlabel('Epoch')\n",
    "plt.ylabel('MAE Loss')\n",
    "#plt.ylim(0.000,0.4)\n",
    "plt.title('MAE on Test Set after 1150 trainings')\n",
    "plt.legend()"
   ]
  },
  {
   "cell_type": "code",
   "execution_count": 92,
   "metadata": {},
   "outputs": [
    {
     "data": {
      "text/plain": [
       "(14.48132586479187, 33.744237422943115, 39.5229377746582)"
      ]
     },
     "execution_count": 92,
     "metadata": {},
     "output_type": "execute_result"
    }
   ],
   "source": [
    "RNN_During,LSTM_During,GRU_During=np.sum(RNN_Dur_list),np.sum(LSTM_Dur_list),np.sum(GRU_Dur_list)\n",
    "RNN_During,LSTM_During,GRU_During"
   ]
  },
  {
   "cell_type": "code",
   "execution_count": 93,
   "metadata": {},
   "outputs": [],
   "source": [
    "MAE_LIST=[mean_losslist(GPGCN_test_loss_list_numpy).item(),\n",
    " mean_losslist(HSRGCN_test_loss_list_numpy).item(),\n",
    " mean_losslist(ALGCN_test_loss_list_numpy).item(),\n",
    " mean_losslist(ALHSRGCN_test_loss_list_numpy).item(),\n",
    "           mean_losslist(RNN_test_loss_list_numpy).item(),\n",
    "          mean_losslist(GRU_test_loss_list_numpy).item(),\n",
    "           mean_losslist(LSTM_test_loss_list_numpy).item()]\n",
    "DUR_LIST=[GPGCN_During,HSRGCN_During,ALGCN_During,ALHSRGCN_During,RNN_During,GRU_During,LSTM_During]\n",
    "NAME_LIST=['GP GCN','HSR GCN',\"AL GCN\",\"ALHSR GCN\",'RNN','GRU','LSTM']"
   ]
  },
  {
   "cell_type": "code",
   "execution_count": 94,
   "metadata": {},
   "outputs": [
    {
     "data": {
      "text/plain": [
       "(7, 7, 7)"
      ]
     },
     "execution_count": 94,
     "metadata": {},
     "output_type": "execute_result"
    }
   ],
   "source": [
    "len(MAE_LIST),len(DUR_LIST),len(NAME_LIST)"
   ]
  },
  {
   "cell_type": "code",
   "execution_count": null,
   "metadata": {},
   "outputs": [],
   "source": []
  },
  {
   "cell_type": "code",
   "execution_count": 95,
   "metadata": {
    "scrolled": true
   },
   "outputs": [
    {
     "data": {
      "text/html": [
       "<div>\n",
       "<style scoped>\n",
       "    .dataframe tbody tr th:only-of-type {\n",
       "        vertical-align: middle;\n",
       "    }\n",
       "\n",
       "    .dataframe tbody tr th {\n",
       "        vertical-align: top;\n",
       "    }\n",
       "\n",
       "    .dataframe thead th {\n",
       "        text-align: right;\n",
       "    }\n",
       "</style>\n",
       "<table border=\"1\" class=\"dataframe\">\n",
       "  <thead>\n",
       "    <tr style=\"text-align: right;\">\n",
       "      <th></th>\n",
       "      <th>MAE</th>\n",
       "      <th>DUR</th>\n",
       "      <th>NAME</th>\n",
       "    </tr>\n",
       "    <tr>\n",
       "      <th>NAME</th>\n",
       "      <th></th>\n",
       "      <th></th>\n",
       "      <th></th>\n",
       "    </tr>\n",
       "  </thead>\n",
       "  <tbody>\n",
       "    <tr>\n",
       "      <th>GP GCN</th>\n",
       "      <td>0.008648</td>\n",
       "      <td>8.510831</td>\n",
       "      <td>GP GCN</td>\n",
       "    </tr>\n",
       "    <tr>\n",
       "      <th>HSR GCN</th>\n",
       "      <td>0.039809</td>\n",
       "      <td>8.633125</td>\n",
       "      <td>HSR GCN</td>\n",
       "    </tr>\n",
       "    <tr>\n",
       "      <th>AL GCN</th>\n",
       "      <td>0.030465</td>\n",
       "      <td>8.775218</td>\n",
       "      <td>AL GCN</td>\n",
       "    </tr>\n",
       "    <tr>\n",
       "      <th>ALHSR GCN</th>\n",
       "      <td>0.013287</td>\n",
       "      <td>7.770578</td>\n",
       "      <td>ALHSR GCN</td>\n",
       "    </tr>\n",
       "    <tr>\n",
       "      <th>RNN</th>\n",
       "      <td>0.007685</td>\n",
       "      <td>14.481326</td>\n",
       "      <td>RNN</td>\n",
       "    </tr>\n",
       "    <tr>\n",
       "      <th>GRU</th>\n",
       "      <td>0.008303</td>\n",
       "      <td>39.522938</td>\n",
       "      <td>GRU</td>\n",
       "    </tr>\n",
       "    <tr>\n",
       "      <th>LSTM</th>\n",
       "      <td>0.013606</td>\n",
       "      <td>33.744237</td>\n",
       "      <td>LSTM</td>\n",
       "    </tr>\n",
       "  </tbody>\n",
       "</table>\n",
       "</div>"
      ],
      "text/plain": [
       "                MAE        DUR       NAME\n",
       "NAME                                     \n",
       "GP GCN     0.008648   8.510831     GP GCN\n",
       "HSR GCN    0.039809   8.633125    HSR GCN\n",
       "AL GCN     0.030465   8.775218     AL GCN\n",
       "ALHSR GCN  0.013287   7.770578  ALHSR GCN\n",
       "RNN        0.007685  14.481326        RNN\n",
       "GRU        0.008303  39.522938        GRU\n",
       "LSTM       0.013606  33.744237       LSTM"
      ]
     },
     "execution_count": 95,
     "metadata": {},
     "output_type": "execute_result"
    }
   ],
   "source": [
    "MAEDUR_dict={'MAE':MAE_LIST,'DUR':DUR_LIST,'NAME':NAME_LIST}\n",
    "MAEDUR=pd.DataFrame(MAEDUR_dict)\n",
    "MAEDUR=MAEDUR.set_index(MAEDUR['NAME'])\n",
    "MAEDUR"
   ]
  },
  {
   "cell_type": "code",
   "execution_count": 96,
   "metadata": {
    "scrolled": false
   },
   "outputs": [
    {
     "name": "stderr",
     "output_type": "stream",
     "text": [
      "<ipython-input-96-1b18183ef0b2>:41: UserWarning: Matplotlib is currently using module://ipykernel.pylab.backend_inline, which is a non-GUI backend, so cannot show the figure.\n",
      "  fig.show()\n"
     ]
    },
    {
     "data": {
      "image/png": "[encoded data removed]",
      "text/plain": [
       "<Figure size 864x576 with 2 Axes>"
      ]
     },
     "metadata": {},
     "output_type": "display_data"
    }
   ],
   "source": [
    "fig,ax=plt.subplots(1,1,figsize=(12,8))\n",
    "plt.xticks(rotation=50,fontsize=24)\n",
    "plt.yticks(fontsize=24)\n",
    "plt.grid(False) \n",
    "ax1=ax.twinx()\n",
    "\n",
    "ax1.plot(MAEDUR['DUR'],color='#BE4B48',linewidth=4,label='Total Time Consuming',alpha=0.5)\n",
    "\n",
    "\n",
    "ax.bar(MAEDUR['NAME'],MAEDUR['MAE'],width=0.5,label='Average Normalized MAE',color='cornflowerblue',alpha=0.8)\n",
    "#ax.legend(loc='best')\n",
    "\n",
    "plt.yticks(fontsize=24)\n",
    "ax.set_xlabel(r'Deep Learning Method',fontsize=25)\n",
    "ax.set_ylabel(r'Average Normalized MAE',fontsize=25)     #plt.xticks(rotation=50,fontsize=13)\n",
    "\n",
    "\n",
    "\n",
    "ax1.set_ylabel(r'Total Time Consuming',fontsize=25)\n",
    "#plt.legend(loc=2,fontsize=14)\n",
    "\n",
    "\n",
    "legend1=ax.legend(loc=(.02,.885),fontsize=24,shadow=True)\n",
    "legend2=ax1.legend(loc=(.02,.78),fontsize=24,shadow=True)\n",
    "\n",
    "\n",
    "\n",
    "\n",
    "\n",
    "for a,b in zip(MAEDUR.index,MAEDUR['MAE']):\n",
    "    plt.text(a, b, '%.4f' % b, ha='center', va=\"bottom\",fontsize=24)\n",
    "\n",
    "'''\n",
    "for a,b in zip(MAEDUR.index,MAEDUR['DUR']):\n",
    "    plt.text(a, b+0.5, '%.2f' % b, ha='center', va=\"bottom\",fontsize=16)\n",
    "'''\n",
    "\n",
    "\n",
    "plt.title('MAE Loss and Time Consume Comparison on Test Set ',fontsize=27) \n",
    "\n",
    "fig.show()"
   ]
  },
  {
   "cell_type": "code",
   "execution_count": null,
   "metadata": {
    "scrolled": true
   },
   "outputs": [],
   "source": []
  },
  {
   "cell_type": "code",
   "execution_count": null,
   "metadata": {},
   "outputs": [],
   "source": []
  },
  {
   "cell_type": "code",
   "execution_count": null,
   "metadata": {},
   "outputs": [],
   "source": []
  },
  {
   "cell_type": "code",
   "execution_count": null,
   "metadata": {},
   "outputs": [],
   "source": []
  },
  {
   "cell_type": "code",
   "execution_count": null,
   "metadata": {},
   "outputs": [],
   "source": []
  },
  {
   "cell_type": "code",
   "execution_count": null,
   "metadata": {},
   "outputs": [],
   "source": []
  },
  {
   "cell_type": "code",
   "execution_count": null,
   "metadata": {},
   "outputs": [],
   "source": []
  }
 ],
 "metadata": {
  "kernelspec": {
   "display_name": "Python [conda env:pytorch]",
   "language": "python",
   "name": "conda-env-pytorch-py"
  },
  "language_info": {
   "codemirror_mode": {
    "name": "ipython",
    "version": 3
   },
   "file_extension": ".py",
   "mimetype": "text/x-python",
   "name": "python",
   "nbconvert_exporter": "python",
   "pygments_lexer": "ipython3",
   "version": "3.8.8"
  }
 },
 "nbformat": 4,
 "nbformat_minor": 2
}
